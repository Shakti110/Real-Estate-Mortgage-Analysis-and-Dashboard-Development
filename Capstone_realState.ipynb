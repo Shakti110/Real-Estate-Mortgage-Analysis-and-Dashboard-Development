{
 "cells": [
  {
   "cell_type": "markdown",
   "id": "87d0a616-6932-490c-ab68-8c36ee1a2aed",
   "metadata": {},
   "source": [
    "# Data Import and preperation\n",
    "\n",
    "Import data.\n",
    "Figure out the primary key and look for the requirement of indexing.\n",
    "Gauge the fill rate of the variables and devise plans for missing value treatment. Please explain explicitly the reason for the treatment chosen for each variable."
   ]
  },
  {
   "cell_type": "code",
   "execution_count": 1,
   "id": "9808c821-9f1a-4c19-aa23-7f3247502c63",
   "metadata": {
    "tags": []
   },
   "outputs": [
    {
     "name": "stdout",
     "output_type": "stream",
     "text": [
      "All Lib imported\n"
     ]
    }
   ],
   "source": [
    "## Import Lib\n",
    "import pandas as pd\n",
    "import numpy as np\n",
    "import matplotlib.pyplot as plt\n",
    "import seaborn as sns\n",
    "print('All Lib imported')"
   ]
  },
  {
   "cell_type": "code",
   "execution_count": 2,
   "id": "ec68db3a-bff0-4dfd-ac6a-2e1595905805",
   "metadata": {
    "tags": []
   },
   "outputs": [],
   "source": [
    "## Import the data\n",
    "\n",
    "train_set= pd.read_csv('train.csv')"
   ]
  },
  {
   "cell_type": "code",
   "execution_count": 3,
   "id": "ef9a9316-41d8-4d14-b42d-94cdacbe5c48",
   "metadata": {
    "tags": []
   },
   "outputs": [
    {
     "data": {
      "text/html": [
       "<div>\n",
       "<style scoped>\n",
       "    .dataframe tbody tr th:only-of-type {\n",
       "        vertical-align: middle;\n",
       "    }\n",
       "\n",
       "    .dataframe tbody tr th {\n",
       "        vertical-align: top;\n",
       "    }\n",
       "\n",
       "    .dataframe thead th {\n",
       "        text-align: right;\n",
       "    }\n",
       "</style>\n",
       "<table border=\"1\" class=\"dataframe\">\n",
       "  <thead>\n",
       "    <tr style=\"text-align: right;\">\n",
       "      <th></th>\n",
       "      <th>UID</th>\n",
       "      <th>BLOCKID</th>\n",
       "      <th>SUMLEVEL</th>\n",
       "      <th>COUNTYID</th>\n",
       "      <th>STATEID</th>\n",
       "      <th>state</th>\n",
       "      <th>state_ab</th>\n",
       "      <th>city</th>\n",
       "      <th>place</th>\n",
       "      <th>type</th>\n",
       "      <th>...</th>\n",
       "      <th>female_age_mean</th>\n",
       "      <th>female_age_median</th>\n",
       "      <th>female_age_stdev</th>\n",
       "      <th>female_age_sample_weight</th>\n",
       "      <th>female_age_samples</th>\n",
       "      <th>pct_own</th>\n",
       "      <th>married</th>\n",
       "      <th>married_snp</th>\n",
       "      <th>separated</th>\n",
       "      <th>divorced</th>\n",
       "    </tr>\n",
       "  </thead>\n",
       "  <tbody>\n",
       "    <tr>\n",
       "      <th>0</th>\n",
       "      <td>267822</td>\n",
       "      <td>NaN</td>\n",
       "      <td>140</td>\n",
       "      <td>53</td>\n",
       "      <td>36</td>\n",
       "      <td>New York</td>\n",
       "      <td>NY</td>\n",
       "      <td>Hamilton</td>\n",
       "      <td>Hamilton</td>\n",
       "      <td>City</td>\n",
       "      <td>...</td>\n",
       "      <td>44.48629</td>\n",
       "      <td>45.33333</td>\n",
       "      <td>22.51276</td>\n",
       "      <td>685.33845</td>\n",
       "      <td>2618.0</td>\n",
       "      <td>0.79046</td>\n",
       "      <td>0.57851</td>\n",
       "      <td>0.01882</td>\n",
       "      <td>0.01240</td>\n",
       "      <td>0.08770</td>\n",
       "    </tr>\n",
       "    <tr>\n",
       "      <th>1</th>\n",
       "      <td>246444</td>\n",
       "      <td>NaN</td>\n",
       "      <td>140</td>\n",
       "      <td>141</td>\n",
       "      <td>18</td>\n",
       "      <td>Indiana</td>\n",
       "      <td>IN</td>\n",
       "      <td>South Bend</td>\n",
       "      <td>Roseland</td>\n",
       "      <td>City</td>\n",
       "      <td>...</td>\n",
       "      <td>36.48391</td>\n",
       "      <td>37.58333</td>\n",
       "      <td>23.43353</td>\n",
       "      <td>267.23367</td>\n",
       "      <td>1284.0</td>\n",
       "      <td>0.52483</td>\n",
       "      <td>0.34886</td>\n",
       "      <td>0.01426</td>\n",
       "      <td>0.01426</td>\n",
       "      <td>0.09030</td>\n",
       "    </tr>\n",
       "    <tr>\n",
       "      <th>2</th>\n",
       "      <td>245683</td>\n",
       "      <td>NaN</td>\n",
       "      <td>140</td>\n",
       "      <td>63</td>\n",
       "      <td>18</td>\n",
       "      <td>Indiana</td>\n",
       "      <td>IN</td>\n",
       "      <td>Danville</td>\n",
       "      <td>Danville</td>\n",
       "      <td>City</td>\n",
       "      <td>...</td>\n",
       "      <td>42.15810</td>\n",
       "      <td>42.83333</td>\n",
       "      <td>23.94119</td>\n",
       "      <td>707.01963</td>\n",
       "      <td>3238.0</td>\n",
       "      <td>0.85331</td>\n",
       "      <td>0.64745</td>\n",
       "      <td>0.02830</td>\n",
       "      <td>0.01607</td>\n",
       "      <td>0.10657</td>\n",
       "    </tr>\n",
       "    <tr>\n",
       "      <th>3</th>\n",
       "      <td>279653</td>\n",
       "      <td>NaN</td>\n",
       "      <td>140</td>\n",
       "      <td>127</td>\n",
       "      <td>72</td>\n",
       "      <td>Puerto Rico</td>\n",
       "      <td>PR</td>\n",
       "      <td>San Juan</td>\n",
       "      <td>Guaynabo</td>\n",
       "      <td>Urban</td>\n",
       "      <td>...</td>\n",
       "      <td>47.77526</td>\n",
       "      <td>50.58333</td>\n",
       "      <td>24.32015</td>\n",
       "      <td>362.20193</td>\n",
       "      <td>1559.0</td>\n",
       "      <td>0.65037</td>\n",
       "      <td>0.47257</td>\n",
       "      <td>0.02021</td>\n",
       "      <td>0.02021</td>\n",
       "      <td>0.10106</td>\n",
       "    </tr>\n",
       "    <tr>\n",
       "      <th>4</th>\n",
       "      <td>247218</td>\n",
       "      <td>NaN</td>\n",
       "      <td>140</td>\n",
       "      <td>161</td>\n",
       "      <td>20</td>\n",
       "      <td>Kansas</td>\n",
       "      <td>KS</td>\n",
       "      <td>Manhattan</td>\n",
       "      <td>Manhattan City</td>\n",
       "      <td>City</td>\n",
       "      <td>...</td>\n",
       "      <td>24.17693</td>\n",
       "      <td>21.58333</td>\n",
       "      <td>11.10484</td>\n",
       "      <td>1854.48652</td>\n",
       "      <td>3051.0</td>\n",
       "      <td>0.13046</td>\n",
       "      <td>0.12356</td>\n",
       "      <td>0.00000</td>\n",
       "      <td>0.00000</td>\n",
       "      <td>0.03109</td>\n",
       "    </tr>\n",
       "  </tbody>\n",
       "</table>\n",
       "<p>5 rows × 80 columns</p>\n",
       "</div>"
      ],
      "text/plain": [
       "      UID  BLOCKID  SUMLEVEL  COUNTYID  STATEID        state state_ab  \\\n",
       "0  267822      NaN       140        53       36     New York       NY   \n",
       "1  246444      NaN       140       141       18      Indiana       IN   \n",
       "2  245683      NaN       140        63       18      Indiana       IN   \n",
       "3  279653      NaN       140       127       72  Puerto Rico       PR   \n",
       "4  247218      NaN       140       161       20       Kansas       KS   \n",
       "\n",
       "         city           place   type  ... female_age_mean  female_age_median  \\\n",
       "0    Hamilton        Hamilton   City  ...        44.48629           45.33333   \n",
       "1  South Bend        Roseland   City  ...        36.48391           37.58333   \n",
       "2    Danville        Danville   City  ...        42.15810           42.83333   \n",
       "3    San Juan        Guaynabo  Urban  ...        47.77526           50.58333   \n",
       "4   Manhattan  Manhattan City   City  ...        24.17693           21.58333   \n",
       "\n",
       "   female_age_stdev  female_age_sample_weight  female_age_samples  pct_own  \\\n",
       "0          22.51276                 685.33845              2618.0  0.79046   \n",
       "1          23.43353                 267.23367              1284.0  0.52483   \n",
       "2          23.94119                 707.01963              3238.0  0.85331   \n",
       "3          24.32015                 362.20193              1559.0  0.65037   \n",
       "4          11.10484                1854.48652              3051.0  0.13046   \n",
       "\n",
       "   married  married_snp  separated  divorced  \n",
       "0  0.57851      0.01882    0.01240   0.08770  \n",
       "1  0.34886      0.01426    0.01426   0.09030  \n",
       "2  0.64745      0.02830    0.01607   0.10657  \n",
       "3  0.47257      0.02021    0.02021   0.10106  \n",
       "4  0.12356      0.00000    0.00000   0.03109  \n",
       "\n",
       "[5 rows x 80 columns]"
      ]
     },
     "execution_count": 3,
     "metadata": {},
     "output_type": "execute_result"
    }
   ],
   "source": [
    "train_set.head()"
   ]
  },
  {
   "cell_type": "code",
   "execution_count": 4,
   "id": "04843a9f-f721-4033-b952-5cc00b00c93d",
   "metadata": {
    "tags": []
   },
   "outputs": [
    {
     "data": {
      "text/plain": [
       "(27321, 80)"
      ]
     },
     "execution_count": 4,
     "metadata": {},
     "output_type": "execute_result"
    }
   ],
   "source": [
    "train_set.shape"
   ]
  },
  {
   "cell_type": "code",
   "execution_count": 5,
   "id": "eb67e236-8895-42bd-a381-bc4c35967969",
   "metadata": {
    "tags": []
   },
   "outputs": [],
   "source": [
    "## Import the data\n",
    "\n",
    "test_set= pd.read_csv('test.csv')"
   ]
  },
  {
   "cell_type": "code",
   "execution_count": 6,
   "id": "8f2e07bd-2e3e-475a-8409-91c9bbf79324",
   "metadata": {
    "tags": []
   },
   "outputs": [
    {
     "data": {
      "text/html": [
       "<div>\n",
       "<style scoped>\n",
       "    .dataframe tbody tr th:only-of-type {\n",
       "        vertical-align: middle;\n",
       "    }\n",
       "\n",
       "    .dataframe tbody tr th {\n",
       "        vertical-align: top;\n",
       "    }\n",
       "\n",
       "    .dataframe thead th {\n",
       "        text-align: right;\n",
       "    }\n",
       "</style>\n",
       "<table border=\"1\" class=\"dataframe\">\n",
       "  <thead>\n",
       "    <tr style=\"text-align: right;\">\n",
       "      <th></th>\n",
       "      <th>UID</th>\n",
       "      <th>BLOCKID</th>\n",
       "      <th>SUMLEVEL</th>\n",
       "      <th>COUNTYID</th>\n",
       "      <th>STATEID</th>\n",
       "      <th>state</th>\n",
       "      <th>state_ab</th>\n",
       "      <th>city</th>\n",
       "      <th>place</th>\n",
       "      <th>type</th>\n",
       "      <th>...</th>\n",
       "      <th>female_age_mean</th>\n",
       "      <th>female_age_median</th>\n",
       "      <th>female_age_stdev</th>\n",
       "      <th>female_age_sample_weight</th>\n",
       "      <th>female_age_samples</th>\n",
       "      <th>pct_own</th>\n",
       "      <th>married</th>\n",
       "      <th>married_snp</th>\n",
       "      <th>separated</th>\n",
       "      <th>divorced</th>\n",
       "    </tr>\n",
       "  </thead>\n",
       "  <tbody>\n",
       "    <tr>\n",
       "      <th>0</th>\n",
       "      <td>255504</td>\n",
       "      <td>NaN</td>\n",
       "      <td>140</td>\n",
       "      <td>163</td>\n",
       "      <td>26</td>\n",
       "      <td>Michigan</td>\n",
       "      <td>MI</td>\n",
       "      <td>Detroit</td>\n",
       "      <td>Dearborn Heights City</td>\n",
       "      <td>CDP</td>\n",
       "      <td>...</td>\n",
       "      <td>34.78682</td>\n",
       "      <td>33.75000</td>\n",
       "      <td>21.58531</td>\n",
       "      <td>416.48097</td>\n",
       "      <td>1938.0</td>\n",
       "      <td>0.70252</td>\n",
       "      <td>0.28217</td>\n",
       "      <td>0.05910</td>\n",
       "      <td>0.03813</td>\n",
       "      <td>0.14299</td>\n",
       "    </tr>\n",
       "    <tr>\n",
       "      <th>1</th>\n",
       "      <td>252676</td>\n",
       "      <td>NaN</td>\n",
       "      <td>140</td>\n",
       "      <td>1</td>\n",
       "      <td>23</td>\n",
       "      <td>Maine</td>\n",
       "      <td>ME</td>\n",
       "      <td>Auburn</td>\n",
       "      <td>Auburn City</td>\n",
       "      <td>City</td>\n",
       "      <td>...</td>\n",
       "      <td>44.23451</td>\n",
       "      <td>46.66667</td>\n",
       "      <td>22.37036</td>\n",
       "      <td>532.03505</td>\n",
       "      <td>1950.0</td>\n",
       "      <td>0.85128</td>\n",
       "      <td>0.64221</td>\n",
       "      <td>0.02338</td>\n",
       "      <td>0.00000</td>\n",
       "      <td>0.13377</td>\n",
       "    </tr>\n",
       "    <tr>\n",
       "      <th>2</th>\n",
       "      <td>276314</td>\n",
       "      <td>NaN</td>\n",
       "      <td>140</td>\n",
       "      <td>15</td>\n",
       "      <td>42</td>\n",
       "      <td>Pennsylvania</td>\n",
       "      <td>PA</td>\n",
       "      <td>Pine City</td>\n",
       "      <td>Millerton</td>\n",
       "      <td>Borough</td>\n",
       "      <td>...</td>\n",
       "      <td>41.62426</td>\n",
       "      <td>44.50000</td>\n",
       "      <td>22.86213</td>\n",
       "      <td>453.11959</td>\n",
       "      <td>1879.0</td>\n",
       "      <td>0.81897</td>\n",
       "      <td>0.59961</td>\n",
       "      <td>0.01746</td>\n",
       "      <td>0.01358</td>\n",
       "      <td>0.10026</td>\n",
       "    </tr>\n",
       "    <tr>\n",
       "      <th>3</th>\n",
       "      <td>248614</td>\n",
       "      <td>NaN</td>\n",
       "      <td>140</td>\n",
       "      <td>231</td>\n",
       "      <td>21</td>\n",
       "      <td>Kentucky</td>\n",
       "      <td>KY</td>\n",
       "      <td>Monticello</td>\n",
       "      <td>Monticello City</td>\n",
       "      <td>City</td>\n",
       "      <td>...</td>\n",
       "      <td>44.81200</td>\n",
       "      <td>48.00000</td>\n",
       "      <td>21.03155</td>\n",
       "      <td>263.94320</td>\n",
       "      <td>1081.0</td>\n",
       "      <td>0.84609</td>\n",
       "      <td>0.56953</td>\n",
       "      <td>0.05492</td>\n",
       "      <td>0.04694</td>\n",
       "      <td>0.12489</td>\n",
       "    </tr>\n",
       "    <tr>\n",
       "      <th>4</th>\n",
       "      <td>286865</td>\n",
       "      <td>NaN</td>\n",
       "      <td>140</td>\n",
       "      <td>355</td>\n",
       "      <td>48</td>\n",
       "      <td>Texas</td>\n",
       "      <td>TX</td>\n",
       "      <td>Corpus Christi</td>\n",
       "      <td>Edroy</td>\n",
       "      <td>Town</td>\n",
       "      <td>...</td>\n",
       "      <td>40.66618</td>\n",
       "      <td>42.66667</td>\n",
       "      <td>21.30900</td>\n",
       "      <td>709.90829</td>\n",
       "      <td>2956.0</td>\n",
       "      <td>0.79077</td>\n",
       "      <td>0.57620</td>\n",
       "      <td>0.01726</td>\n",
       "      <td>0.00588</td>\n",
       "      <td>0.16379</td>\n",
       "    </tr>\n",
       "  </tbody>\n",
       "</table>\n",
       "<p>5 rows × 80 columns</p>\n",
       "</div>"
      ],
      "text/plain": [
       "      UID  BLOCKID  SUMLEVEL  COUNTYID  STATEID         state state_ab  \\\n",
       "0  255504      NaN       140       163       26      Michigan       MI   \n",
       "1  252676      NaN       140         1       23         Maine       ME   \n",
       "2  276314      NaN       140        15       42  Pennsylvania       PA   \n",
       "3  248614      NaN       140       231       21      Kentucky       KY   \n",
       "4  286865      NaN       140       355       48         Texas       TX   \n",
       "\n",
       "             city                  place     type  ... female_age_mean  \\\n",
       "0         Detroit  Dearborn Heights City      CDP  ...        34.78682   \n",
       "1          Auburn            Auburn City     City  ...        44.23451   \n",
       "2       Pine City              Millerton  Borough  ...        41.62426   \n",
       "3      Monticello        Monticello City     City  ...        44.81200   \n",
       "4  Corpus Christi                  Edroy     Town  ...        40.66618   \n",
       "\n",
       "   female_age_median  female_age_stdev  female_age_sample_weight  \\\n",
       "0           33.75000          21.58531                 416.48097   \n",
       "1           46.66667          22.37036                 532.03505   \n",
       "2           44.50000          22.86213                 453.11959   \n",
       "3           48.00000          21.03155                 263.94320   \n",
       "4           42.66667          21.30900                 709.90829   \n",
       "\n",
       "   female_age_samples  pct_own  married  married_snp  separated  divorced  \n",
       "0              1938.0  0.70252  0.28217      0.05910    0.03813   0.14299  \n",
       "1              1950.0  0.85128  0.64221      0.02338    0.00000   0.13377  \n",
       "2              1879.0  0.81897  0.59961      0.01746    0.01358   0.10026  \n",
       "3              1081.0  0.84609  0.56953      0.05492    0.04694   0.12489  \n",
       "4              2956.0  0.79077  0.57620      0.01726    0.00588   0.16379  \n",
       "\n",
       "[5 rows x 80 columns]"
      ]
     },
     "execution_count": 6,
     "metadata": {},
     "output_type": "execute_result"
    }
   ],
   "source": [
    "test_set.head()"
   ]
  },
  {
   "cell_type": "code",
   "execution_count": 7,
   "id": "439592a2-713b-4025-b777-21347a80766c",
   "metadata": {
    "tags": []
   },
   "outputs": [
    {
     "data": {
      "text/plain": [
       "(11709, 80)"
      ]
     },
     "execution_count": 7,
     "metadata": {},
     "output_type": "execute_result"
    }
   ],
   "source": [
    "test_set.shape"
   ]
  },
  {
   "cell_type": "code",
   "execution_count": 8,
   "id": "845e3fce-10c7-4f30-83be-769f9e0fc930",
   "metadata": {
    "tags": []
   },
   "outputs": [
    {
     "data": {
      "text/plain": [
       "Index(['UID', 'BLOCKID', 'SUMLEVEL', 'COUNTYID', 'STATEID', 'state',\n",
       "       'state_ab', 'city', 'place', 'type', 'primary', 'zip_code', 'area_code',\n",
       "       'lat', 'lng', 'ALand', 'AWater', 'pop', 'male_pop', 'female_pop',\n",
       "       'rent_mean', 'rent_median', 'rent_stdev', 'rent_sample_weight',\n",
       "       'rent_samples', 'rent_gt_10', 'rent_gt_15', 'rent_gt_20', 'rent_gt_25',\n",
       "       'rent_gt_30', 'rent_gt_35', 'rent_gt_40', 'rent_gt_50',\n",
       "       'universe_samples', 'used_samples', 'hi_mean', 'hi_median', 'hi_stdev',\n",
       "       'hi_sample_weight', 'hi_samples', 'family_mean', 'family_median',\n",
       "       'family_stdev', 'family_sample_weight', 'family_samples',\n",
       "       'hc_mortgage_mean', 'hc_mortgage_median', 'hc_mortgage_stdev',\n",
       "       'hc_mortgage_sample_weight', 'hc_mortgage_samples', 'hc_mean',\n",
       "       'hc_median', 'hc_stdev', 'hc_samples', 'hc_sample_weight',\n",
       "       'home_equity_second_mortgage', 'second_mortgage', 'home_equity', 'debt',\n",
       "       'second_mortgage_cdf', 'home_equity_cdf', 'debt_cdf', 'hs_degree',\n",
       "       'hs_degree_male', 'hs_degree_female', 'male_age_mean',\n",
       "       'male_age_median', 'male_age_stdev', 'male_age_sample_weight',\n",
       "       'male_age_samples', 'female_age_mean', 'female_age_median',\n",
       "       'female_age_stdev', 'female_age_sample_weight', 'female_age_samples',\n",
       "       'pct_own', 'married', 'married_snp', 'separated', 'divorced'],\n",
       "      dtype='object')"
      ]
     },
     "execution_count": 8,
     "metadata": {},
     "output_type": "execute_result"
    }
   ],
   "source": [
    "train_set.columns"
   ]
  },
  {
   "cell_type": "code",
   "execution_count": 9,
   "id": "cecaf44a-72d2-46d0-b295-f6c243f6aacc",
   "metadata": {
    "tags": []
   },
   "outputs": [
    {
     "data": {
      "text/html": [
       "<div>\n",
       "<style scoped>\n",
       "    .dataframe tbody tr th:only-of-type {\n",
       "        vertical-align: middle;\n",
       "    }\n",
       "\n",
       "    .dataframe tbody tr th {\n",
       "        vertical-align: top;\n",
       "    }\n",
       "\n",
       "    .dataframe thead th {\n",
       "        text-align: right;\n",
       "    }\n",
       "</style>\n",
       "<table border=\"1\" class=\"dataframe\">\n",
       "  <thead>\n",
       "    <tr style=\"text-align: right;\">\n",
       "      <th></th>\n",
       "      <th>UID</th>\n",
       "      <th>BLOCKID</th>\n",
       "      <th>SUMLEVEL</th>\n",
       "      <th>COUNTYID</th>\n",
       "      <th>STATEID</th>\n",
       "      <th>state</th>\n",
       "      <th>state_ab</th>\n",
       "      <th>city</th>\n",
       "      <th>place</th>\n",
       "      <th>type</th>\n",
       "      <th>...</th>\n",
       "      <th>female_age_mean</th>\n",
       "      <th>female_age_median</th>\n",
       "      <th>female_age_stdev</th>\n",
       "      <th>female_age_sample_weight</th>\n",
       "      <th>female_age_samples</th>\n",
       "      <th>pct_own</th>\n",
       "      <th>married</th>\n",
       "      <th>married_snp</th>\n",
       "      <th>separated</th>\n",
       "      <th>divorced</th>\n",
       "    </tr>\n",
       "  </thead>\n",
       "  <tbody>\n",
       "    <tr>\n",
       "      <th>0</th>\n",
       "      <td>267822</td>\n",
       "      <td>NaN</td>\n",
       "      <td>140</td>\n",
       "      <td>53</td>\n",
       "      <td>36</td>\n",
       "      <td>New York</td>\n",
       "      <td>NY</td>\n",
       "      <td>Hamilton</td>\n",
       "      <td>Hamilton</td>\n",
       "      <td>City</td>\n",
       "      <td>...</td>\n",
       "      <td>44.48629</td>\n",
       "      <td>45.33333</td>\n",
       "      <td>22.51276</td>\n",
       "      <td>685.33845</td>\n",
       "      <td>2618.0</td>\n",
       "      <td>0.79046</td>\n",
       "      <td>0.57851</td>\n",
       "      <td>0.01882</td>\n",
       "      <td>0.01240</td>\n",
       "      <td>0.08770</td>\n",
       "    </tr>\n",
       "    <tr>\n",
       "      <th>1</th>\n",
       "      <td>246444</td>\n",
       "      <td>NaN</td>\n",
       "      <td>140</td>\n",
       "      <td>141</td>\n",
       "      <td>18</td>\n",
       "      <td>Indiana</td>\n",
       "      <td>IN</td>\n",
       "      <td>South Bend</td>\n",
       "      <td>Roseland</td>\n",
       "      <td>City</td>\n",
       "      <td>...</td>\n",
       "      <td>36.48391</td>\n",
       "      <td>37.58333</td>\n",
       "      <td>23.43353</td>\n",
       "      <td>267.23367</td>\n",
       "      <td>1284.0</td>\n",
       "      <td>0.52483</td>\n",
       "      <td>0.34886</td>\n",
       "      <td>0.01426</td>\n",
       "      <td>0.01426</td>\n",
       "      <td>0.09030</td>\n",
       "    </tr>\n",
       "    <tr>\n",
       "      <th>2</th>\n",
       "      <td>245683</td>\n",
       "      <td>NaN</td>\n",
       "      <td>140</td>\n",
       "      <td>63</td>\n",
       "      <td>18</td>\n",
       "      <td>Indiana</td>\n",
       "      <td>IN</td>\n",
       "      <td>Danville</td>\n",
       "      <td>Danville</td>\n",
       "      <td>City</td>\n",
       "      <td>...</td>\n",
       "      <td>42.15810</td>\n",
       "      <td>42.83333</td>\n",
       "      <td>23.94119</td>\n",
       "      <td>707.01963</td>\n",
       "      <td>3238.0</td>\n",
       "      <td>0.85331</td>\n",
       "      <td>0.64745</td>\n",
       "      <td>0.02830</td>\n",
       "      <td>0.01607</td>\n",
       "      <td>0.10657</td>\n",
       "    </tr>\n",
       "    <tr>\n",
       "      <th>3</th>\n",
       "      <td>279653</td>\n",
       "      <td>NaN</td>\n",
       "      <td>140</td>\n",
       "      <td>127</td>\n",
       "      <td>72</td>\n",
       "      <td>Puerto Rico</td>\n",
       "      <td>PR</td>\n",
       "      <td>San Juan</td>\n",
       "      <td>Guaynabo</td>\n",
       "      <td>Urban</td>\n",
       "      <td>...</td>\n",
       "      <td>47.77526</td>\n",
       "      <td>50.58333</td>\n",
       "      <td>24.32015</td>\n",
       "      <td>362.20193</td>\n",
       "      <td>1559.0</td>\n",
       "      <td>0.65037</td>\n",
       "      <td>0.47257</td>\n",
       "      <td>0.02021</td>\n",
       "      <td>0.02021</td>\n",
       "      <td>0.10106</td>\n",
       "    </tr>\n",
       "    <tr>\n",
       "      <th>4</th>\n",
       "      <td>247218</td>\n",
       "      <td>NaN</td>\n",
       "      <td>140</td>\n",
       "      <td>161</td>\n",
       "      <td>20</td>\n",
       "      <td>Kansas</td>\n",
       "      <td>KS</td>\n",
       "      <td>Manhattan</td>\n",
       "      <td>Manhattan City</td>\n",
       "      <td>City</td>\n",
       "      <td>...</td>\n",
       "      <td>24.17693</td>\n",
       "      <td>21.58333</td>\n",
       "      <td>11.10484</td>\n",
       "      <td>1854.48652</td>\n",
       "      <td>3051.0</td>\n",
       "      <td>0.13046</td>\n",
       "      <td>0.12356</td>\n",
       "      <td>0.00000</td>\n",
       "      <td>0.00000</td>\n",
       "      <td>0.03109</td>\n",
       "    </tr>\n",
       "  </tbody>\n",
       "</table>\n",
       "<p>5 rows × 80 columns</p>\n",
       "</div>"
      ],
      "text/plain": [
       "      UID  BLOCKID  SUMLEVEL  COUNTYID  STATEID        state state_ab  \\\n",
       "0  267822      NaN       140        53       36     New York       NY   \n",
       "1  246444      NaN       140       141       18      Indiana       IN   \n",
       "2  245683      NaN       140        63       18      Indiana       IN   \n",
       "3  279653      NaN       140       127       72  Puerto Rico       PR   \n",
       "4  247218      NaN       140       161       20       Kansas       KS   \n",
       "\n",
       "         city           place   type  ... female_age_mean  female_age_median  \\\n",
       "0    Hamilton        Hamilton   City  ...        44.48629           45.33333   \n",
       "1  South Bend        Roseland   City  ...        36.48391           37.58333   \n",
       "2    Danville        Danville   City  ...        42.15810           42.83333   \n",
       "3    San Juan        Guaynabo  Urban  ...        47.77526           50.58333   \n",
       "4   Manhattan  Manhattan City   City  ...        24.17693           21.58333   \n",
       "\n",
       "   female_age_stdev  female_age_sample_weight  female_age_samples  pct_own  \\\n",
       "0          22.51276                 685.33845              2618.0  0.79046   \n",
       "1          23.43353                 267.23367              1284.0  0.52483   \n",
       "2          23.94119                 707.01963              3238.0  0.85331   \n",
       "3          24.32015                 362.20193              1559.0  0.65037   \n",
       "4          11.10484                1854.48652              3051.0  0.13046   \n",
       "\n",
       "   married  married_snp  separated  divorced  \n",
       "0  0.57851      0.01882    0.01240   0.08770  \n",
       "1  0.34886      0.01426    0.01426   0.09030  \n",
       "2  0.64745      0.02830    0.01607   0.10657  \n",
       "3  0.47257      0.02021    0.02021   0.10106  \n",
       "4  0.12356      0.00000    0.00000   0.03109  \n",
       "\n",
       "[5 rows x 80 columns]"
      ]
     },
     "execution_count": 9,
     "metadata": {},
     "output_type": "execute_result"
    }
   ],
   "source": [
    "train_set.head()"
   ]
  },
  {
   "cell_type": "code",
   "execution_count": 10,
   "id": "e3fd20de-249a-4256-8ae9-f3382e628b59",
   "metadata": {
    "tags": []
   },
   "outputs": [],
   "source": [
    "train_set.set_index(keys= ['UID'], inplace=True)"
   ]
  },
  {
   "cell_type": "code",
   "execution_count": 11,
   "id": "6e4bec97-cac2-4522-ad01-db554004a64f",
   "metadata": {
    "tags": []
   },
   "outputs": [],
   "source": [
    "test_set.set_index(keys= ['UID'], inplace=True)"
   ]
  },
  {
   "cell_type": "code",
   "execution_count": 12,
   "id": "47758f40-d7bb-4ee9-a612-7815a6afb045",
   "metadata": {
    "tags": []
   },
   "outputs": [
    {
     "data": {
      "text/html": [
       "<div>\n",
       "<style scoped>\n",
       "    .dataframe tbody tr th:only-of-type {\n",
       "        vertical-align: middle;\n",
       "    }\n",
       "\n",
       "    .dataframe tbody tr th {\n",
       "        vertical-align: top;\n",
       "    }\n",
       "\n",
       "    .dataframe thead th {\n",
       "        text-align: right;\n",
       "    }\n",
       "</style>\n",
       "<table border=\"1\" class=\"dataframe\">\n",
       "  <thead>\n",
       "    <tr style=\"text-align: right;\">\n",
       "      <th></th>\n",
       "      <th>BLOCKID</th>\n",
       "      <th>SUMLEVEL</th>\n",
       "      <th>COUNTYID</th>\n",
       "      <th>STATEID</th>\n",
       "      <th>state</th>\n",
       "      <th>state_ab</th>\n",
       "      <th>city</th>\n",
       "      <th>place</th>\n",
       "      <th>type</th>\n",
       "      <th>primary</th>\n",
       "      <th>...</th>\n",
       "      <th>female_age_mean</th>\n",
       "      <th>female_age_median</th>\n",
       "      <th>female_age_stdev</th>\n",
       "      <th>female_age_sample_weight</th>\n",
       "      <th>female_age_samples</th>\n",
       "      <th>pct_own</th>\n",
       "      <th>married</th>\n",
       "      <th>married_snp</th>\n",
       "      <th>separated</th>\n",
       "      <th>divorced</th>\n",
       "    </tr>\n",
       "    <tr>\n",
       "      <th>UID</th>\n",
       "      <th></th>\n",
       "      <th></th>\n",
       "      <th></th>\n",
       "      <th></th>\n",
       "      <th></th>\n",
       "      <th></th>\n",
       "      <th></th>\n",
       "      <th></th>\n",
       "      <th></th>\n",
       "      <th></th>\n",
       "      <th></th>\n",
       "      <th></th>\n",
       "      <th></th>\n",
       "      <th></th>\n",
       "      <th></th>\n",
       "      <th></th>\n",
       "      <th></th>\n",
       "      <th></th>\n",
       "      <th></th>\n",
       "      <th></th>\n",
       "      <th></th>\n",
       "    </tr>\n",
       "  </thead>\n",
       "  <tbody>\n",
       "    <tr>\n",
       "      <th>267822</th>\n",
       "      <td>NaN</td>\n",
       "      <td>140</td>\n",
       "      <td>53</td>\n",
       "      <td>36</td>\n",
       "      <td>New York</td>\n",
       "      <td>NY</td>\n",
       "      <td>Hamilton</td>\n",
       "      <td>Hamilton</td>\n",
       "      <td>City</td>\n",
       "      <td>tract</td>\n",
       "      <td>...</td>\n",
       "      <td>44.48629</td>\n",
       "      <td>45.33333</td>\n",
       "      <td>22.51276</td>\n",
       "      <td>685.33845</td>\n",
       "      <td>2618.0</td>\n",
       "      <td>0.79046</td>\n",
       "      <td>0.57851</td>\n",
       "      <td>0.01882</td>\n",
       "      <td>0.01240</td>\n",
       "      <td>0.08770</td>\n",
       "    </tr>\n",
       "    <tr>\n",
       "      <th>246444</th>\n",
       "      <td>NaN</td>\n",
       "      <td>140</td>\n",
       "      <td>141</td>\n",
       "      <td>18</td>\n",
       "      <td>Indiana</td>\n",
       "      <td>IN</td>\n",
       "      <td>South Bend</td>\n",
       "      <td>Roseland</td>\n",
       "      <td>City</td>\n",
       "      <td>tract</td>\n",
       "      <td>...</td>\n",
       "      <td>36.48391</td>\n",
       "      <td>37.58333</td>\n",
       "      <td>23.43353</td>\n",
       "      <td>267.23367</td>\n",
       "      <td>1284.0</td>\n",
       "      <td>0.52483</td>\n",
       "      <td>0.34886</td>\n",
       "      <td>0.01426</td>\n",
       "      <td>0.01426</td>\n",
       "      <td>0.09030</td>\n",
       "    </tr>\n",
       "    <tr>\n",
       "      <th>245683</th>\n",
       "      <td>NaN</td>\n",
       "      <td>140</td>\n",
       "      <td>63</td>\n",
       "      <td>18</td>\n",
       "      <td>Indiana</td>\n",
       "      <td>IN</td>\n",
       "      <td>Danville</td>\n",
       "      <td>Danville</td>\n",
       "      <td>City</td>\n",
       "      <td>tract</td>\n",
       "      <td>...</td>\n",
       "      <td>42.15810</td>\n",
       "      <td>42.83333</td>\n",
       "      <td>23.94119</td>\n",
       "      <td>707.01963</td>\n",
       "      <td>3238.0</td>\n",
       "      <td>0.85331</td>\n",
       "      <td>0.64745</td>\n",
       "      <td>0.02830</td>\n",
       "      <td>0.01607</td>\n",
       "      <td>0.10657</td>\n",
       "    </tr>\n",
       "    <tr>\n",
       "      <th>279653</th>\n",
       "      <td>NaN</td>\n",
       "      <td>140</td>\n",
       "      <td>127</td>\n",
       "      <td>72</td>\n",
       "      <td>Puerto Rico</td>\n",
       "      <td>PR</td>\n",
       "      <td>San Juan</td>\n",
       "      <td>Guaynabo</td>\n",
       "      <td>Urban</td>\n",
       "      <td>tract</td>\n",
       "      <td>...</td>\n",
       "      <td>47.77526</td>\n",
       "      <td>50.58333</td>\n",
       "      <td>24.32015</td>\n",
       "      <td>362.20193</td>\n",
       "      <td>1559.0</td>\n",
       "      <td>0.65037</td>\n",
       "      <td>0.47257</td>\n",
       "      <td>0.02021</td>\n",
       "      <td>0.02021</td>\n",
       "      <td>0.10106</td>\n",
       "    </tr>\n",
       "    <tr>\n",
       "      <th>247218</th>\n",
       "      <td>NaN</td>\n",
       "      <td>140</td>\n",
       "      <td>161</td>\n",
       "      <td>20</td>\n",
       "      <td>Kansas</td>\n",
       "      <td>KS</td>\n",
       "      <td>Manhattan</td>\n",
       "      <td>Manhattan City</td>\n",
       "      <td>City</td>\n",
       "      <td>tract</td>\n",
       "      <td>...</td>\n",
       "      <td>24.17693</td>\n",
       "      <td>21.58333</td>\n",
       "      <td>11.10484</td>\n",
       "      <td>1854.48652</td>\n",
       "      <td>3051.0</td>\n",
       "      <td>0.13046</td>\n",
       "      <td>0.12356</td>\n",
       "      <td>0.00000</td>\n",
       "      <td>0.00000</td>\n",
       "      <td>0.03109</td>\n",
       "    </tr>\n",
       "  </tbody>\n",
       "</table>\n",
       "<p>5 rows × 79 columns</p>\n",
       "</div>"
      ],
      "text/plain": [
       "        BLOCKID  SUMLEVEL  COUNTYID  STATEID        state state_ab  \\\n",
       "UID                                                                  \n",
       "267822      NaN       140        53       36     New York       NY   \n",
       "246444      NaN       140       141       18      Indiana       IN   \n",
       "245683      NaN       140        63       18      Indiana       IN   \n",
       "279653      NaN       140       127       72  Puerto Rico       PR   \n",
       "247218      NaN       140       161       20       Kansas       KS   \n",
       "\n",
       "              city           place   type primary  ...  female_age_mean  \\\n",
       "UID                                                ...                    \n",
       "267822    Hamilton        Hamilton   City   tract  ...         44.48629   \n",
       "246444  South Bend        Roseland   City   tract  ...         36.48391   \n",
       "245683    Danville        Danville   City   tract  ...         42.15810   \n",
       "279653    San Juan        Guaynabo  Urban   tract  ...         47.77526   \n",
       "247218   Manhattan  Manhattan City   City   tract  ...         24.17693   \n",
       "\n",
       "        female_age_median  female_age_stdev  female_age_sample_weight  \\\n",
       "UID                                                                     \n",
       "267822           45.33333          22.51276                 685.33845   \n",
       "246444           37.58333          23.43353                 267.23367   \n",
       "245683           42.83333          23.94119                 707.01963   \n",
       "279653           50.58333          24.32015                 362.20193   \n",
       "247218           21.58333          11.10484                1854.48652   \n",
       "\n",
       "        female_age_samples  pct_own  married  married_snp  separated  divorced  \n",
       "UID                                                                             \n",
       "267822              2618.0  0.79046  0.57851      0.01882    0.01240   0.08770  \n",
       "246444              1284.0  0.52483  0.34886      0.01426    0.01426   0.09030  \n",
       "245683              3238.0  0.85331  0.64745      0.02830    0.01607   0.10657  \n",
       "279653              1559.0  0.65037  0.47257      0.02021    0.02021   0.10106  \n",
       "247218              3051.0  0.13046  0.12356      0.00000    0.00000   0.03109  \n",
       "\n",
       "[5 rows x 79 columns]"
      ]
     },
     "execution_count": 12,
     "metadata": {},
     "output_type": "execute_result"
    }
   ],
   "source": [
    "train_set.head()"
   ]
  },
  {
   "cell_type": "code",
   "execution_count": 13,
   "id": "d95936a0-eb56-456e-ab70-0f9cabf9fa69",
   "metadata": {
    "tags": []
   },
   "outputs": [
    {
     "data": {
      "text/html": [
       "<div>\n",
       "<style scoped>\n",
       "    .dataframe tbody tr th:only-of-type {\n",
       "        vertical-align: middle;\n",
       "    }\n",
       "\n",
       "    .dataframe tbody tr th {\n",
       "        vertical-align: top;\n",
       "    }\n",
       "\n",
       "    .dataframe thead th {\n",
       "        text-align: right;\n",
       "    }\n",
       "</style>\n",
       "<table border=\"1\" class=\"dataframe\">\n",
       "  <thead>\n",
       "    <tr style=\"text-align: right;\">\n",
       "      <th></th>\n",
       "      <th>BLOCKID</th>\n",
       "      <th>SUMLEVEL</th>\n",
       "      <th>COUNTYID</th>\n",
       "      <th>STATEID</th>\n",
       "      <th>state</th>\n",
       "      <th>state_ab</th>\n",
       "      <th>city</th>\n",
       "      <th>place</th>\n",
       "      <th>type</th>\n",
       "      <th>primary</th>\n",
       "      <th>...</th>\n",
       "      <th>female_age_mean</th>\n",
       "      <th>female_age_median</th>\n",
       "      <th>female_age_stdev</th>\n",
       "      <th>female_age_sample_weight</th>\n",
       "      <th>female_age_samples</th>\n",
       "      <th>pct_own</th>\n",
       "      <th>married</th>\n",
       "      <th>married_snp</th>\n",
       "      <th>separated</th>\n",
       "      <th>divorced</th>\n",
       "    </tr>\n",
       "    <tr>\n",
       "      <th>UID</th>\n",
       "      <th></th>\n",
       "      <th></th>\n",
       "      <th></th>\n",
       "      <th></th>\n",
       "      <th></th>\n",
       "      <th></th>\n",
       "      <th></th>\n",
       "      <th></th>\n",
       "      <th></th>\n",
       "      <th></th>\n",
       "      <th></th>\n",
       "      <th></th>\n",
       "      <th></th>\n",
       "      <th></th>\n",
       "      <th></th>\n",
       "      <th></th>\n",
       "      <th></th>\n",
       "      <th></th>\n",
       "      <th></th>\n",
       "      <th></th>\n",
       "      <th></th>\n",
       "    </tr>\n",
       "  </thead>\n",
       "  <tbody>\n",
       "    <tr>\n",
       "      <th>255504</th>\n",
       "      <td>NaN</td>\n",
       "      <td>140</td>\n",
       "      <td>163</td>\n",
       "      <td>26</td>\n",
       "      <td>Michigan</td>\n",
       "      <td>MI</td>\n",
       "      <td>Detroit</td>\n",
       "      <td>Dearborn Heights City</td>\n",
       "      <td>CDP</td>\n",
       "      <td>tract</td>\n",
       "      <td>...</td>\n",
       "      <td>34.78682</td>\n",
       "      <td>33.75000</td>\n",
       "      <td>21.58531</td>\n",
       "      <td>416.48097</td>\n",
       "      <td>1938.0</td>\n",
       "      <td>0.70252</td>\n",
       "      <td>0.28217</td>\n",
       "      <td>0.05910</td>\n",
       "      <td>0.03813</td>\n",
       "      <td>0.14299</td>\n",
       "    </tr>\n",
       "    <tr>\n",
       "      <th>252676</th>\n",
       "      <td>NaN</td>\n",
       "      <td>140</td>\n",
       "      <td>1</td>\n",
       "      <td>23</td>\n",
       "      <td>Maine</td>\n",
       "      <td>ME</td>\n",
       "      <td>Auburn</td>\n",
       "      <td>Auburn City</td>\n",
       "      <td>City</td>\n",
       "      <td>tract</td>\n",
       "      <td>...</td>\n",
       "      <td>44.23451</td>\n",
       "      <td>46.66667</td>\n",
       "      <td>22.37036</td>\n",
       "      <td>532.03505</td>\n",
       "      <td>1950.0</td>\n",
       "      <td>0.85128</td>\n",
       "      <td>0.64221</td>\n",
       "      <td>0.02338</td>\n",
       "      <td>0.00000</td>\n",
       "      <td>0.13377</td>\n",
       "    </tr>\n",
       "    <tr>\n",
       "      <th>276314</th>\n",
       "      <td>NaN</td>\n",
       "      <td>140</td>\n",
       "      <td>15</td>\n",
       "      <td>42</td>\n",
       "      <td>Pennsylvania</td>\n",
       "      <td>PA</td>\n",
       "      <td>Pine City</td>\n",
       "      <td>Millerton</td>\n",
       "      <td>Borough</td>\n",
       "      <td>tract</td>\n",
       "      <td>...</td>\n",
       "      <td>41.62426</td>\n",
       "      <td>44.50000</td>\n",
       "      <td>22.86213</td>\n",
       "      <td>453.11959</td>\n",
       "      <td>1879.0</td>\n",
       "      <td>0.81897</td>\n",
       "      <td>0.59961</td>\n",
       "      <td>0.01746</td>\n",
       "      <td>0.01358</td>\n",
       "      <td>0.10026</td>\n",
       "    </tr>\n",
       "    <tr>\n",
       "      <th>248614</th>\n",
       "      <td>NaN</td>\n",
       "      <td>140</td>\n",
       "      <td>231</td>\n",
       "      <td>21</td>\n",
       "      <td>Kentucky</td>\n",
       "      <td>KY</td>\n",
       "      <td>Monticello</td>\n",
       "      <td>Monticello City</td>\n",
       "      <td>City</td>\n",
       "      <td>tract</td>\n",
       "      <td>...</td>\n",
       "      <td>44.81200</td>\n",
       "      <td>48.00000</td>\n",
       "      <td>21.03155</td>\n",
       "      <td>263.94320</td>\n",
       "      <td>1081.0</td>\n",
       "      <td>0.84609</td>\n",
       "      <td>0.56953</td>\n",
       "      <td>0.05492</td>\n",
       "      <td>0.04694</td>\n",
       "      <td>0.12489</td>\n",
       "    </tr>\n",
       "    <tr>\n",
       "      <th>286865</th>\n",
       "      <td>NaN</td>\n",
       "      <td>140</td>\n",
       "      <td>355</td>\n",
       "      <td>48</td>\n",
       "      <td>Texas</td>\n",
       "      <td>TX</td>\n",
       "      <td>Corpus Christi</td>\n",
       "      <td>Edroy</td>\n",
       "      <td>Town</td>\n",
       "      <td>tract</td>\n",
       "      <td>...</td>\n",
       "      <td>40.66618</td>\n",
       "      <td>42.66667</td>\n",
       "      <td>21.30900</td>\n",
       "      <td>709.90829</td>\n",
       "      <td>2956.0</td>\n",
       "      <td>0.79077</td>\n",
       "      <td>0.57620</td>\n",
       "      <td>0.01726</td>\n",
       "      <td>0.00588</td>\n",
       "      <td>0.16379</td>\n",
       "    </tr>\n",
       "  </tbody>\n",
       "</table>\n",
       "<p>5 rows × 79 columns</p>\n",
       "</div>"
      ],
      "text/plain": [
       "        BLOCKID  SUMLEVEL  COUNTYID  STATEID         state state_ab  \\\n",
       "UID                                                                   \n",
       "255504      NaN       140       163       26      Michigan       MI   \n",
       "252676      NaN       140         1       23         Maine       ME   \n",
       "276314      NaN       140        15       42  Pennsylvania       PA   \n",
       "248614      NaN       140       231       21      Kentucky       KY   \n",
       "286865      NaN       140       355       48         Texas       TX   \n",
       "\n",
       "                  city                  place     type primary  ...  \\\n",
       "UID                                                             ...   \n",
       "255504         Detroit  Dearborn Heights City      CDP   tract  ...   \n",
       "252676          Auburn            Auburn City     City   tract  ...   \n",
       "276314       Pine City              Millerton  Borough   tract  ...   \n",
       "248614      Monticello        Monticello City     City   tract  ...   \n",
       "286865  Corpus Christi                  Edroy     Town   tract  ...   \n",
       "\n",
       "        female_age_mean  female_age_median  female_age_stdev  \\\n",
       "UID                                                            \n",
       "255504         34.78682           33.75000          21.58531   \n",
       "252676         44.23451           46.66667          22.37036   \n",
       "276314         41.62426           44.50000          22.86213   \n",
       "248614         44.81200           48.00000          21.03155   \n",
       "286865         40.66618           42.66667          21.30900   \n",
       "\n",
       "        female_age_sample_weight  female_age_samples  pct_own  married  \\\n",
       "UID                                                                      \n",
       "255504                 416.48097              1938.0  0.70252  0.28217   \n",
       "252676                 532.03505              1950.0  0.85128  0.64221   \n",
       "276314                 453.11959              1879.0  0.81897  0.59961   \n",
       "248614                 263.94320              1081.0  0.84609  0.56953   \n",
       "286865                 709.90829              2956.0  0.79077  0.57620   \n",
       "\n",
       "        married_snp  separated  divorced  \n",
       "UID                                       \n",
       "255504      0.05910    0.03813   0.14299  \n",
       "252676      0.02338    0.00000   0.13377  \n",
       "276314      0.01746    0.01358   0.10026  \n",
       "248614      0.05492    0.04694   0.12489  \n",
       "286865      0.01726    0.00588   0.16379  \n",
       "\n",
       "[5 rows x 79 columns]"
      ]
     },
     "execution_count": 13,
     "metadata": {},
     "output_type": "execute_result"
    }
   ],
   "source": [
    "test_set.head()"
   ]
  },
  {
   "cell_type": "code",
   "execution_count": 14,
   "id": "a055f844-12f2-4bb1-aaf5-8245fd208cd5",
   "metadata": {
    "tags": []
   },
   "outputs": [
    {
     "data": {
      "text/plain": [
       "True"
      ]
     },
     "execution_count": 14,
     "metadata": {},
     "output_type": "execute_result"
    }
   ],
   "source": [
    "train_set.isnull().sum().any()"
   ]
  },
  {
   "cell_type": "code",
   "execution_count": 15,
   "id": "295c97a8-cbf5-44dc-9b5f-24e402f3da9c",
   "metadata": {
    "tags": []
   },
   "outputs": [
    {
     "data": {
      "text/plain": [
       "BLOCKID                        27321\n",
       "rent_mean                        314\n",
       "rent_median                      314\n",
       "rent_stdev                       314\n",
       "rent_sample_weight               314\n",
       "rent_samples                     314\n",
       "rent_gt_10                       314\n",
       "rent_gt_15                       314\n",
       "rent_gt_20                       314\n",
       "rent_gt_25                       314\n",
       "rent_gt_30                       314\n",
       "rent_gt_35                       314\n",
       "rent_gt_40                       314\n",
       "rent_gt_50                       314\n",
       "hi_mean                          268\n",
       "hi_median                        268\n",
       "hi_stdev                         268\n",
       "hi_sample_weight                 268\n",
       "hi_samples                       268\n",
       "family_mean                      298\n",
       "family_median                    298\n",
       "family_stdev                     298\n",
       "family_sample_weight             298\n",
       "family_samples                   298\n",
       "hc_mortgage_mean                 573\n",
       "hc_mortgage_median               573\n",
       "hc_mortgage_stdev                573\n",
       "hc_mortgage_sample_weight        573\n",
       "hc_mortgage_samples              573\n",
       "hc_mean                          600\n",
       "hc_median                        600\n",
       "hc_stdev                         600\n",
       "hc_samples                       600\n",
       "hc_sample_weight                 600\n",
       "home_equity_second_mortgage      457\n",
       "second_mortgage                  457\n",
       "home_equity                      457\n",
       "debt                             457\n",
       "second_mortgage_cdf              457\n",
       "home_equity_cdf                  457\n",
       "debt_cdf                         457\n",
       "hs_degree                        190\n",
       "hs_degree_male                   200\n",
       "hs_degree_female                 223\n",
       "male_age_mean                    189\n",
       "male_age_median                  189\n",
       "male_age_stdev                   189\n",
       "male_age_sample_weight           189\n",
       "male_age_samples                 189\n",
       "female_age_mean                  206\n",
       "female_age_median                206\n",
       "female_age_stdev                 206\n",
       "female_age_sample_weight         206\n",
       "female_age_samples               206\n",
       "pct_own                          268\n",
       "married                          191\n",
       "married_snp                      191\n",
       "separated                        191\n",
       "divorced                         191\n",
       "dtype: int64"
      ]
     },
     "execution_count": 15,
     "metadata": {},
     "output_type": "execute_result"
    }
   ],
   "source": [
    "train_set.isnull().sum()[train_set.isnull().sum()>0]"
   ]
  },
  {
   "cell_type": "code",
   "execution_count": 16,
   "id": "f1fe4623-75a9-4d8c-9100-deab621a53fe",
   "metadata": {
    "tags": []
   },
   "outputs": [
    {
     "data": {
      "text/plain": [
       "array([140])"
      ]
     },
     "execution_count": 16,
     "metadata": {},
     "output_type": "execute_result"
    }
   ],
   "source": [
    "train_set['SUMLEVEL'].unique()"
   ]
  },
  {
   "cell_type": "code",
   "execution_count": 17,
   "id": "7bcb8be8-bce0-4c58-b4a2-172e3648ca5d",
   "metadata": {
    "tags": []
   },
   "outputs": [],
   "source": [
    "train_set.drop(columns=['BLOCKID', 'SUMLEVEL'], inplace=True)\n",
    "test_set.drop(columns=['BLOCKID', 'SUMLEVEL'], inplace=True)"
   ]
  },
  {
   "cell_type": "code",
   "execution_count": 18,
   "id": "97145353-d05a-4041-ad6a-6446d7c6623b",
   "metadata": {
    "tags": []
   },
   "outputs": [
    {
     "data": {
      "text/plain": [
       "(27321, 77)"
      ]
     },
     "execution_count": 18,
     "metadata": {},
     "output_type": "execute_result"
    }
   ],
   "source": [
    "train_set.shape"
   ]
  },
  {
   "cell_type": "code",
   "execution_count": 19,
   "id": "8f8f4894-6cf6-479e-baa9-a1771f0b2390",
   "metadata": {
    "tags": []
   },
   "outputs": [
    {
     "data": {
      "text/plain": [
       "(11709, 77)"
      ]
     },
     "execution_count": 19,
     "metadata": {},
     "output_type": "execute_result"
    }
   ],
   "source": [
    "test_set.shape"
   ]
  },
  {
   "cell_type": "code",
   "execution_count": 20,
   "id": "dced6a23-0dba-4713-b6f2-94184af7d1a7",
   "metadata": {
    "tags": []
   },
   "outputs": [
    {
     "name": "stdout",
     "output_type": "stream",
     "text": [
      "<class 'pandas.core.frame.DataFrame'>\n",
      "Index: 27321 entries, 267822 to 265371\n",
      "Data columns (total 77 columns):\n",
      " #   Column                       Non-Null Count  Dtype  \n",
      "---  ------                       --------------  -----  \n",
      " 0   COUNTYID                     27321 non-null  int64  \n",
      " 1   STATEID                      27321 non-null  int64  \n",
      " 2   state                        27321 non-null  object \n",
      " 3   state_ab                     27321 non-null  object \n",
      " 4   city                         27321 non-null  object \n",
      " 5   place                        27321 non-null  object \n",
      " 6   type                         27321 non-null  object \n",
      " 7   primary                      27321 non-null  object \n",
      " 8   zip_code                     27321 non-null  int64  \n",
      " 9   area_code                    27321 non-null  int64  \n",
      " 10  lat                          27321 non-null  float64\n",
      " 11  lng                          27321 non-null  float64\n",
      " 12  ALand                        27321 non-null  float64\n",
      " 13  AWater                       27321 non-null  int64  \n",
      " 14  pop                          27321 non-null  int64  \n",
      " 15  male_pop                     27321 non-null  int64  \n",
      " 16  female_pop                   27321 non-null  int64  \n",
      " 17  rent_mean                    27007 non-null  float64\n",
      " 18  rent_median                  27007 non-null  float64\n",
      " 19  rent_stdev                   27007 non-null  float64\n",
      " 20  rent_sample_weight           27007 non-null  float64\n",
      " 21  rent_samples                 27007 non-null  float64\n",
      " 22  rent_gt_10                   27007 non-null  float64\n",
      " 23  rent_gt_15                   27007 non-null  float64\n",
      " 24  rent_gt_20                   27007 non-null  float64\n",
      " 25  rent_gt_25                   27007 non-null  float64\n",
      " 26  rent_gt_30                   27007 non-null  float64\n",
      " 27  rent_gt_35                   27007 non-null  float64\n",
      " 28  rent_gt_40                   27007 non-null  float64\n",
      " 29  rent_gt_50                   27007 non-null  float64\n",
      " 30  universe_samples             27321 non-null  int64  \n",
      " 31  used_samples                 27321 non-null  int64  \n",
      " 32  hi_mean                      27053 non-null  float64\n",
      " 33  hi_median                    27053 non-null  float64\n",
      " 34  hi_stdev                     27053 non-null  float64\n",
      " 35  hi_sample_weight             27053 non-null  float64\n",
      " 36  hi_samples                   27053 non-null  float64\n",
      " 37  family_mean                  27023 non-null  float64\n",
      " 38  family_median                27023 non-null  float64\n",
      " 39  family_stdev                 27023 non-null  float64\n",
      " 40  family_sample_weight         27023 non-null  float64\n",
      " 41  family_samples               27023 non-null  float64\n",
      " 42  hc_mortgage_mean             26748 non-null  float64\n",
      " 43  hc_mortgage_median           26748 non-null  float64\n",
      " 44  hc_mortgage_stdev            26748 non-null  float64\n",
      " 45  hc_mortgage_sample_weight    26748 non-null  float64\n",
      " 46  hc_mortgage_samples          26748 non-null  float64\n",
      " 47  hc_mean                      26721 non-null  float64\n",
      " 48  hc_median                    26721 non-null  float64\n",
      " 49  hc_stdev                     26721 non-null  float64\n",
      " 50  hc_samples                   26721 non-null  float64\n",
      " 51  hc_sample_weight             26721 non-null  float64\n",
      " 52  home_equity_second_mortgage  26864 non-null  float64\n",
      " 53  second_mortgage              26864 non-null  float64\n",
      " 54  home_equity                  26864 non-null  float64\n",
      " 55  debt                         26864 non-null  float64\n",
      " 56  second_mortgage_cdf          26864 non-null  float64\n",
      " 57  home_equity_cdf              26864 non-null  float64\n",
      " 58  debt_cdf                     26864 non-null  float64\n",
      " 59  hs_degree                    27131 non-null  float64\n",
      " 60  hs_degree_male               27121 non-null  float64\n",
      " 61  hs_degree_female             27098 non-null  float64\n",
      " 62  male_age_mean                27132 non-null  float64\n",
      " 63  male_age_median              27132 non-null  float64\n",
      " 64  male_age_stdev               27132 non-null  float64\n",
      " 65  male_age_sample_weight       27132 non-null  float64\n",
      " 66  male_age_samples             27132 non-null  float64\n",
      " 67  female_age_mean              27115 non-null  float64\n",
      " 68  female_age_median            27115 non-null  float64\n",
      " 69  female_age_stdev             27115 non-null  float64\n",
      " 70  female_age_sample_weight     27115 non-null  float64\n",
      " 71  female_age_samples           27115 non-null  float64\n",
      " 72  pct_own                      27053 non-null  float64\n",
      " 73  married                      27130 non-null  float64\n",
      " 74  married_snp                  27130 non-null  float64\n",
      " 75  separated                    27130 non-null  float64\n",
      " 76  divorced                     27130 non-null  float64\n",
      "dtypes: float64(61), int64(10), object(6)\n",
      "memory usage: 16.3+ MB\n"
     ]
    }
   ],
   "source": [
    "train_set.info()"
   ]
  },
  {
   "cell_type": "code",
   "execution_count": 21,
   "id": "815e6a32-a219-429d-9539-be8f8569572a",
   "metadata": {
    "tags": []
   },
   "outputs": [],
   "source": [
    "## Create a list of column which have missiong value\n",
    "\n",
    "missing_col_train=[]\n",
    "for col in train_set.columns:\n",
    "    if train_set[col].isna().sum()!=0:\n",
    "        missing_col_train.append(col)"
   ]
  },
  {
   "cell_type": "code",
   "execution_count": 22,
   "id": "bc50cf45-f37c-476c-9b0d-dc4727a85bcf",
   "metadata": {
    "tags": []
   },
   "outputs": [
    {
     "name": "stdout",
     "output_type": "stream",
     "text": [
      "['rent_mean', 'rent_median', 'rent_stdev', 'rent_sample_weight', 'rent_samples', 'rent_gt_10', 'rent_gt_15', 'rent_gt_20', 'rent_gt_25', 'rent_gt_30', 'rent_gt_35', 'rent_gt_40', 'rent_gt_50', 'hi_mean', 'hi_median', 'hi_stdev', 'hi_sample_weight', 'hi_samples', 'family_mean', 'family_median', 'family_stdev', 'family_sample_weight', 'family_samples', 'hc_mortgage_mean', 'hc_mortgage_median', 'hc_mortgage_stdev', 'hc_mortgage_sample_weight', 'hc_mortgage_samples', 'hc_mean', 'hc_median', 'hc_stdev', 'hc_samples', 'hc_sample_weight', 'home_equity_second_mortgage', 'second_mortgage', 'home_equity', 'debt', 'second_mortgage_cdf', 'home_equity_cdf', 'debt_cdf', 'hs_degree', 'hs_degree_male', 'hs_degree_female', 'male_age_mean', 'male_age_median', 'male_age_stdev', 'male_age_sample_weight', 'male_age_samples', 'female_age_mean', 'female_age_median', 'female_age_stdev', 'female_age_sample_weight', 'female_age_samples', 'pct_own', 'married', 'married_snp', 'separated', 'divorced']\n"
     ]
    }
   ],
   "source": [
    "print(missing_col_train)"
   ]
  },
  {
   "cell_type": "code",
   "execution_count": 23,
   "id": "7fbaeed0-9833-4246-915c-131f15d6a6f6",
   "metadata": {
    "tags": []
   },
   "outputs": [
    {
     "data": {
      "text/plain": [
       "58"
      ]
     },
     "execution_count": 23,
     "metadata": {},
     "output_type": "execute_result"
    }
   ],
   "source": [
    "len(missing_col_train)"
   ]
  },
  {
   "cell_type": "code",
   "execution_count": 24,
   "id": "44030d17-4d2b-4b99-af3e-3525bfc7c8b4",
   "metadata": {
    "tags": []
   },
   "outputs": [
    {
     "data": {
      "text/plain": [
       "rent_mean                      148\n",
       "rent_median                    148\n",
       "rent_stdev                     148\n",
       "rent_sample_weight             148\n",
       "rent_samples                   148\n",
       "rent_gt_10                     149\n",
       "rent_gt_15                     149\n",
       "rent_gt_20                     149\n",
       "rent_gt_25                     149\n",
       "rent_gt_30                     149\n",
       "rent_gt_35                     149\n",
       "rent_gt_40                     149\n",
       "rent_gt_50                     149\n",
       "hi_mean                        122\n",
       "hi_median                      122\n",
       "hi_stdev                       122\n",
       "hi_sample_weight               122\n",
       "hi_samples                     122\n",
       "family_mean                    136\n",
       "family_median                  136\n",
       "family_stdev                   136\n",
       "family_sample_weight           136\n",
       "family_samples                 136\n",
       "hc_mortgage_mean               268\n",
       "hc_mortgage_median             268\n",
       "hc_mortgage_stdev              268\n",
       "hc_mortgage_sample_weight      268\n",
       "hc_mortgage_samples            268\n",
       "hc_mean                        290\n",
       "hc_median                      290\n",
       "hc_stdev                       290\n",
       "hc_samples                     290\n",
       "hc_sample_weight               290\n",
       "home_equity_second_mortgage    220\n",
       "second_mortgage                220\n",
       "home_equity                    220\n",
       "debt                           220\n",
       "second_mortgage_cdf            220\n",
       "home_equity_cdf                220\n",
       "debt_cdf                       220\n",
       "hs_degree                       85\n",
       "hs_degree_male                  89\n",
       "hs_degree_female               105\n",
       "male_age_mean                   84\n",
       "male_age_median                 84\n",
       "male_age_stdev                  84\n",
       "male_age_sample_weight          84\n",
       "male_age_samples                84\n",
       "female_age_mean                 96\n",
       "female_age_median               96\n",
       "female_age_stdev                96\n",
       "female_age_sample_weight        96\n",
       "female_age_samples              96\n",
       "pct_own                        122\n",
       "married                         84\n",
       "married_snp                     84\n",
       "separated                       84\n",
       "divorced                        84\n",
       "dtype: int64"
      ]
     },
     "execution_count": 24,
     "metadata": {},
     "output_type": "execute_result"
    }
   ],
   "source": [
    "test_set.isnull().sum()[test_set.isnull().sum()>0]"
   ]
  },
  {
   "cell_type": "code",
   "execution_count": 25,
   "id": "1198f841-6eb0-4ce5-af2c-7b19080d9917",
   "metadata": {
    "tags": []
   },
   "outputs": [],
   "source": [
    "missing_col_test=[]\n",
    "for col in test_set.columns:\n",
    "    if test_set[col].isna().sum()!=0:\n",
    "        missing_col_test.append(col)"
   ]
  },
  {
   "cell_type": "code",
   "execution_count": 26,
   "id": "01da7e09-0827-406d-9a9d-b6c64e40a1a7",
   "metadata": {
    "tags": []
   },
   "outputs": [
    {
     "name": "stdout",
     "output_type": "stream",
     "text": [
      "['rent_mean', 'rent_median', 'rent_stdev', 'rent_sample_weight', 'rent_samples', 'rent_gt_10', 'rent_gt_15', 'rent_gt_20', 'rent_gt_25', 'rent_gt_30', 'rent_gt_35', 'rent_gt_40', 'rent_gt_50', 'hi_mean', 'hi_median', 'hi_stdev', 'hi_sample_weight', 'hi_samples', 'family_mean', 'family_median', 'family_stdev', 'family_sample_weight', 'family_samples', 'hc_mortgage_mean', 'hc_mortgage_median', 'hc_mortgage_stdev', 'hc_mortgage_sample_weight', 'hc_mortgage_samples', 'hc_mean', 'hc_median', 'hc_stdev', 'hc_samples', 'hc_sample_weight', 'home_equity_second_mortgage', 'second_mortgage', 'home_equity', 'debt', 'second_mortgage_cdf', 'home_equity_cdf', 'debt_cdf', 'hs_degree', 'hs_degree_male', 'hs_degree_female', 'male_age_mean', 'male_age_median', 'male_age_stdev', 'male_age_sample_weight', 'male_age_samples', 'female_age_mean', 'female_age_median', 'female_age_stdev', 'female_age_sample_weight', 'female_age_samples', 'pct_own', 'married', 'married_snp', 'separated', 'divorced']\n"
     ]
    }
   ],
   "source": [
    "print(missing_col_test)"
   ]
  },
  {
   "cell_type": "code",
   "execution_count": 27,
   "id": "ab324f94-9f40-4727-a5ee-356d33f9f4eb",
   "metadata": {
    "tags": []
   },
   "outputs": [
    {
     "data": {
      "text/plain": [
       "58"
      ]
     },
     "execution_count": 27,
     "metadata": {},
     "output_type": "execute_result"
    }
   ],
   "source": [
    "len(missing_col_test)"
   ]
  },
  {
   "cell_type": "code",
   "execution_count": 28,
   "id": "1b5a436b-fe96-47f9-bb9e-6856551b7598",
   "metadata": {
    "tags": []
   },
   "outputs": [],
   "source": [
    "## Impute the missing value with mean\n",
    "\n",
    "for col in train_set.columns:\n",
    "    if col in (missing_col_train):\n",
    "        train_set[col].fillna(train_set[col].mean(), inplace = True)"
   ]
  },
  {
   "cell_type": "code",
   "execution_count": 29,
   "id": "d7d83877-4a43-4cfb-b457-e33be90ad94c",
   "metadata": {
    "tags": []
   },
   "outputs": [
    {
     "data": {
      "text/plain": [
       "False"
      ]
     },
     "execution_count": 29,
     "metadata": {},
     "output_type": "execute_result"
    }
   ],
   "source": [
    "train_set.isnull().sum().any()"
   ]
  },
  {
   "cell_type": "code",
   "execution_count": 30,
   "id": "c5d32334-2fa1-4a18-95e3-9790a8ddbeb9",
   "metadata": {
    "tags": []
   },
   "outputs": [],
   "source": [
    "## Impute the missing value with mean\n",
    "\n",
    "for col in test_set.columns:\n",
    "    if col in (missing_col_test):\n",
    "        test_set[col].fillna(test_set[col].mean(), inplace = True)"
   ]
  },
  {
   "cell_type": "code",
   "execution_count": 31,
   "id": "a44128f6-caa5-46ca-82a8-b7a467bfad44",
   "metadata": {
    "tags": []
   },
   "outputs": [
    {
     "data": {
      "text/plain": [
       "False"
      ]
     },
     "execution_count": 31,
     "metadata": {},
     "output_type": "execute_result"
    }
   ],
   "source": [
    "test_set.isnull().sum().any()"
   ]
  },
  {
   "cell_type": "markdown",
   "id": "6d74cae5-ae02-45e5-bcb5-31fe16a64a63",
   "metadata": {},
   "source": [
    "## Exploratory Data Analysis (EDA):\n",
    "\n",
    "    4.Perform debt analysis. You may take the following steps:\n",
    "\n",
    " a) Explore the top 2,500 locations where the percentage of households with a second mortgage is the highest and percent ownership is above 10 percent. Visualize using geo-map. You may keep the upper limit for the percent of households with a second mortgage to 50 percent\n",
    "\n",
    "b) Use the following bad debt equation: Bad Debt = P (Second Mortgage ∩ Home Equity Loan) Bad Debt = second_mortgage + home_equity - home_equity_second_mortgage c) Create pie charts to show overall debt and bad debt\n",
    "\n",
    "d) Create Box and whisker plot and analyze the distribution for 2nd mortgage, home equity, good debt, and bad debt for different cities\n",
    "\n",
    "e) Create a collated income distribution chart for family income, house hold income, and remaining income\n",
    "\n"
   ]
  },
  {
   "cell_type": "code",
   "execution_count": 32,
   "id": "17277dd6-d125-4d7e-8432-5d6741895105",
   "metadata": {
    "tags": []
   },
   "outputs": [],
   "source": [
    "new_data= train_set[(train_set['second_mortgage']>0.10) & (train_set['second_mortgage']<=0.50)]"
   ]
  },
  {
   "cell_type": "code",
   "execution_count": 33,
   "id": "51bc5f45-e135-4844-8ffe-8ed339a765f1",
   "metadata": {
    "tags": []
   },
   "outputs": [
    {
     "data": {
      "text/plain": [
       "(839, 77)"
      ]
     },
     "execution_count": 33,
     "metadata": {},
     "output_type": "execute_result"
    }
   ],
   "source": [
    "new_data.shape"
   ]
  },
  {
   "cell_type": "code",
   "execution_count": 34,
   "id": "7f5f7085-288e-4120-a9aa-fe2eea9ab27f",
   "metadata": {
    "tags": []
   },
   "outputs": [],
   "source": [
    "sorted_data= new_data.sort_values(by= 'second_mortgage', ascending= False)"
   ]
  },
  {
   "cell_type": "code",
   "execution_count": 35,
   "id": "c6a5c548-d30a-4173-92f6-7a4dcc82d3f0",
   "metadata": {
    "tags": []
   },
   "outputs": [],
   "source": [
    "top_location= sorted_data.head(2500)"
   ]
  },
  {
   "cell_type": "code",
   "execution_count": 36,
   "id": "ab85597c-8a9a-4dd9-a86d-dd8be10459fb",
   "metadata": {
    "tags": []
   },
   "outputs": [
    {
     "data": {
      "text/html": [
       "<div>\n",
       "<style scoped>\n",
       "    .dataframe tbody tr th:only-of-type {\n",
       "        vertical-align: middle;\n",
       "    }\n",
       "\n",
       "    .dataframe tbody tr th {\n",
       "        vertical-align: top;\n",
       "    }\n",
       "\n",
       "    .dataframe thead th {\n",
       "        text-align: right;\n",
       "    }\n",
       "</style>\n",
       "<table border=\"1\" class=\"dataframe\">\n",
       "  <thead>\n",
       "    <tr style=\"text-align: right;\">\n",
       "      <th></th>\n",
       "      <th>COUNTYID</th>\n",
       "      <th>STATEID</th>\n",
       "      <th>state</th>\n",
       "      <th>state_ab</th>\n",
       "      <th>city</th>\n",
       "      <th>place</th>\n",
       "      <th>type</th>\n",
       "      <th>primary</th>\n",
       "      <th>zip_code</th>\n",
       "      <th>area_code</th>\n",
       "      <th>...</th>\n",
       "      <th>female_age_mean</th>\n",
       "      <th>female_age_median</th>\n",
       "      <th>female_age_stdev</th>\n",
       "      <th>female_age_sample_weight</th>\n",
       "      <th>female_age_samples</th>\n",
       "      <th>pct_own</th>\n",
       "      <th>married</th>\n",
       "      <th>married_snp</th>\n",
       "      <th>separated</th>\n",
       "      <th>divorced</th>\n",
       "    </tr>\n",
       "    <tr>\n",
       "      <th>UID</th>\n",
       "      <th></th>\n",
       "      <th></th>\n",
       "      <th></th>\n",
       "      <th></th>\n",
       "      <th></th>\n",
       "      <th></th>\n",
       "      <th></th>\n",
       "      <th></th>\n",
       "      <th></th>\n",
       "      <th></th>\n",
       "      <th></th>\n",
       "      <th></th>\n",
       "      <th></th>\n",
       "      <th></th>\n",
       "      <th></th>\n",
       "      <th></th>\n",
       "      <th></th>\n",
       "      <th></th>\n",
       "      <th></th>\n",
       "      <th></th>\n",
       "      <th></th>\n",
       "    </tr>\n",
       "  </thead>\n",
       "  <tbody>\n",
       "    <tr>\n",
       "      <th>252303</th>\n",
       "      <td>33</td>\n",
       "      <td>24</td>\n",
       "      <td>Maryland</td>\n",
       "      <td>MD</td>\n",
       "      <td>Mt Rainier</td>\n",
       "      <td>Mount Rainier City</td>\n",
       "      <td>CDP</td>\n",
       "      <td>tract</td>\n",
       "      <td>20712</td>\n",
       "      <td>301</td>\n",
       "      <td>...</td>\n",
       "      <td>30.38271</td>\n",
       "      <td>29.75000</td>\n",
       "      <td>17.61793</td>\n",
       "      <td>315.01226</td>\n",
       "      <td>1298.0</td>\n",
       "      <td>0.03476</td>\n",
       "      <td>0.37935</td>\n",
       "      <td>0.15006</td>\n",
       "      <td>0.12245</td>\n",
       "      <td>0.16807</td>\n",
       "    </tr>\n",
       "    <tr>\n",
       "      <th>234209</th>\n",
       "      <td>1</td>\n",
       "      <td>11</td>\n",
       "      <td>District of Columbia</td>\n",
       "      <td>DC</td>\n",
       "      <td>Oxon Hill</td>\n",
       "      <td>Washington City</td>\n",
       "      <td>City</td>\n",
       "      <td>tract</td>\n",
       "      <td>20745</td>\n",
       "      <td>301</td>\n",
       "      <td>...</td>\n",
       "      <td>30.47360</td>\n",
       "      <td>24.16667</td>\n",
       "      <td>18.90959</td>\n",
       "      <td>740.21037</td>\n",
       "      <td>2491.0</td>\n",
       "      <td>0.01374</td>\n",
       "      <td>0.15815</td>\n",
       "      <td>0.08191</td>\n",
       "      <td>0.03893</td>\n",
       "      <td>0.12814</td>\n",
       "    </tr>\n",
       "    <tr>\n",
       "      <th>289712</th>\n",
       "      <td>147</td>\n",
       "      <td>51</td>\n",
       "      <td>Virginia</td>\n",
       "      <td>VA</td>\n",
       "      <td>Farmville</td>\n",
       "      <td>Farmville</td>\n",
       "      <td>Town</td>\n",
       "      <td>tract</td>\n",
       "      <td>23901</td>\n",
       "      <td>434</td>\n",
       "      <td>...</td>\n",
       "      <td>19.58762</td>\n",
       "      <td>19.16667</td>\n",
       "      <td>4.00258</td>\n",
       "      <td>673.39577</td>\n",
       "      <td>1124.0</td>\n",
       "      <td>0.62069</td>\n",
       "      <td>0.03612</td>\n",
       "      <td>0.01806</td>\n",
       "      <td>0.01806</td>\n",
       "      <td>0.00000</td>\n",
       "    </tr>\n",
       "    <tr>\n",
       "      <th>225301</th>\n",
       "      <td>37</td>\n",
       "      <td>6</td>\n",
       "      <td>California</td>\n",
       "      <td>CA</td>\n",
       "      <td>Van Nuys</td>\n",
       "      <td>Burbank City</td>\n",
       "      <td>City</td>\n",
       "      <td>tract</td>\n",
       "      <td>91401</td>\n",
       "      <td>818</td>\n",
       "      <td>...</td>\n",
       "      <td>30.29749</td>\n",
       "      <td>29.91667</td>\n",
       "      <td>18.78334</td>\n",
       "      <td>709.49784</td>\n",
       "      <td>2782.0</td>\n",
       "      <td>0.03302</td>\n",
       "      <td>0.40964</td>\n",
       "      <td>0.11320</td>\n",
       "      <td>0.03046</td>\n",
       "      <td>0.07056</td>\n",
       "    </tr>\n",
       "    <tr>\n",
       "      <th>222830</th>\n",
       "      <td>13</td>\n",
       "      <td>4</td>\n",
       "      <td>Arizona</td>\n",
       "      <td>AZ</td>\n",
       "      <td>Scottsdale</td>\n",
       "      <td>Tempe City</td>\n",
       "      <td>CDP</td>\n",
       "      <td>tract</td>\n",
       "      <td>85257</td>\n",
       "      <td>480</td>\n",
       "      <td>...</td>\n",
       "      <td>31.91429</td>\n",
       "      <td>30.83333</td>\n",
       "      <td>14.45269</td>\n",
       "      <td>229.39846</td>\n",
       "      <td>981.0</td>\n",
       "      <td>0.05660</td>\n",
       "      <td>0.21531</td>\n",
       "      <td>0.10204</td>\n",
       "      <td>0.07347</td>\n",
       "      <td>0.20816</td>\n",
       "    </tr>\n",
       "    <tr>\n",
       "      <th>...</th>\n",
       "      <td>...</td>\n",
       "      <td>...</td>\n",
       "      <td>...</td>\n",
       "      <td>...</td>\n",
       "      <td>...</td>\n",
       "      <td>...</td>\n",
       "      <td>...</td>\n",
       "      <td>...</td>\n",
       "      <td>...</td>\n",
       "      <td>...</td>\n",
       "      <td>...</td>\n",
       "      <td>...</td>\n",
       "      <td>...</td>\n",
       "      <td>...</td>\n",
       "      <td>...</td>\n",
       "      <td>...</td>\n",
       "      <td>...</td>\n",
       "      <td>...</td>\n",
       "      <td>...</td>\n",
       "      <td>...</td>\n",
       "      <td>...</td>\n",
       "    </tr>\n",
       "    <tr>\n",
       "      <th>269326</th>\n",
       "      <td>81</td>\n",
       "      <td>36</td>\n",
       "      <td>New York</td>\n",
       "      <td>NY</td>\n",
       "      <td>Hollis</td>\n",
       "      <td>Bellerose Terrace</td>\n",
       "      <td>City</td>\n",
       "      <td>tract</td>\n",
       "      <td>11423</td>\n",
       "      <td>718</td>\n",
       "      <td>...</td>\n",
       "      <td>42.83407</td>\n",
       "      <td>44.75000</td>\n",
       "      <td>21.78922</td>\n",
       "      <td>228.47991</td>\n",
       "      <td>988.0</td>\n",
       "      <td>0.73593</td>\n",
       "      <td>0.44227</td>\n",
       "      <td>0.17584</td>\n",
       "      <td>0.08526</td>\n",
       "      <td>0.07993</td>\n",
       "    </tr>\n",
       "    <tr>\n",
       "      <th>241623</th>\n",
       "      <td>155</td>\n",
       "      <td>19</td>\n",
       "      <td>Iowa</td>\n",
       "      <td>IA</td>\n",
       "      <td>Council Bluffs</td>\n",
       "      <td>Council Bluffs City</td>\n",
       "      <td>City</td>\n",
       "      <td>tract</td>\n",
       "      <td>51501</td>\n",
       "      <td>712</td>\n",
       "      <td>...</td>\n",
       "      <td>44.29763</td>\n",
       "      <td>45.41667</td>\n",
       "      <td>25.26177</td>\n",
       "      <td>439.72453</td>\n",
       "      <td>1813.0</td>\n",
       "      <td>0.79766</td>\n",
       "      <td>0.58579</td>\n",
       "      <td>0.05459</td>\n",
       "      <td>0.02080</td>\n",
       "      <td>0.11005</td>\n",
       "    </tr>\n",
       "    <tr>\n",
       "      <th>242268</th>\n",
       "      <td>31</td>\n",
       "      <td>17</td>\n",
       "      <td>Illinois</td>\n",
       "      <td>IL</td>\n",
       "      <td>Chicago</td>\n",
       "      <td>Evanston City</td>\n",
       "      <td>Village</td>\n",
       "      <td>tract</td>\n",
       "      <td>60645</td>\n",
       "      <td>773</td>\n",
       "      <td>...</td>\n",
       "      <td>37.85017</td>\n",
       "      <td>37.58333</td>\n",
       "      <td>23.38098</td>\n",
       "      <td>557.14936</td>\n",
       "      <td>2242.0</td>\n",
       "      <td>0.50559</td>\n",
       "      <td>0.53185</td>\n",
       "      <td>0.03264</td>\n",
       "      <td>0.00876</td>\n",
       "      <td>0.10987</td>\n",
       "    </tr>\n",
       "    <tr>\n",
       "      <th>223143</th>\n",
       "      <td>13</td>\n",
       "      <td>4</td>\n",
       "      <td>Arizona</td>\n",
       "      <td>AZ</td>\n",
       "      <td>Gilbert</td>\n",
       "      <td>Gilbert</td>\n",
       "      <td>CDP</td>\n",
       "      <td>tract</td>\n",
       "      <td>85233</td>\n",
       "      <td>480</td>\n",
       "      <td>...</td>\n",
       "      <td>35.89515</td>\n",
       "      <td>33.91667</td>\n",
       "      <td>21.73054</td>\n",
       "      <td>427.57475</td>\n",
       "      <td>1788.0</td>\n",
       "      <td>0.47227</td>\n",
       "      <td>0.37257</td>\n",
       "      <td>0.02595</td>\n",
       "      <td>0.01205</td>\n",
       "      <td>0.15848</td>\n",
       "    </tr>\n",
       "    <tr>\n",
       "      <th>232626</th>\n",
       "      <td>41</td>\n",
       "      <td>8</td>\n",
       "      <td>Colorado</td>\n",
       "      <td>CO</td>\n",
       "      <td>Colorado Springs</td>\n",
       "      <td>Cimarron Hills</td>\n",
       "      <td>City</td>\n",
       "      <td>tract</td>\n",
       "      <td>80922</td>\n",
       "      <td>719</td>\n",
       "      <td>...</td>\n",
       "      <td>31.46997</td>\n",
       "      <td>31.50000</td>\n",
       "      <td>18.69227</td>\n",
       "      <td>1146.80804</td>\n",
       "      <td>5126.0</td>\n",
       "      <td>0.58591</td>\n",
       "      <td>0.60054</td>\n",
       "      <td>0.06345</td>\n",
       "      <td>0.03319</td>\n",
       "      <td>0.07491</td>\n",
       "    </tr>\n",
       "  </tbody>\n",
       "</table>\n",
       "<p>839 rows × 77 columns</p>\n",
       "</div>"
      ],
      "text/plain": [
       "        COUNTYID  STATEID                 state state_ab              city  \\\n",
       "UID                                                                          \n",
       "252303        33       24              Maryland       MD        Mt Rainier   \n",
       "234209         1       11  District of Columbia       DC         Oxon Hill   \n",
       "289712       147       51              Virginia       VA         Farmville   \n",
       "225301        37        6            California       CA          Van Nuys   \n",
       "222830        13        4               Arizona       AZ        Scottsdale   \n",
       "...          ...      ...                   ...      ...               ...   \n",
       "269326        81       36              New York       NY            Hollis   \n",
       "241623       155       19                  Iowa       IA    Council Bluffs   \n",
       "242268        31       17              Illinois       IL           Chicago   \n",
       "223143        13        4               Arizona       AZ           Gilbert   \n",
       "232626        41        8              Colorado       CO  Colorado Springs   \n",
       "\n",
       "                      place     type primary  zip_code  area_code  ...  \\\n",
       "UID                                                                ...   \n",
       "252303   Mount Rainier City      CDP   tract     20712        301  ...   \n",
       "234209      Washington City     City   tract     20745        301  ...   \n",
       "289712            Farmville     Town   tract     23901        434  ...   \n",
       "225301         Burbank City     City   tract     91401        818  ...   \n",
       "222830           Tempe City      CDP   tract     85257        480  ...   \n",
       "...                     ...      ...     ...       ...        ...  ...   \n",
       "269326    Bellerose Terrace     City   tract     11423        718  ...   \n",
       "241623  Council Bluffs City     City   tract     51501        712  ...   \n",
       "242268        Evanston City  Village   tract     60645        773  ...   \n",
       "223143              Gilbert      CDP   tract     85233        480  ...   \n",
       "232626       Cimarron Hills     City   tract     80922        719  ...   \n",
       "\n",
       "        female_age_mean  female_age_median  female_age_stdev  \\\n",
       "UID                                                            \n",
       "252303         30.38271           29.75000          17.61793   \n",
       "234209         30.47360           24.16667          18.90959   \n",
       "289712         19.58762           19.16667           4.00258   \n",
       "225301         30.29749           29.91667          18.78334   \n",
       "222830         31.91429           30.83333          14.45269   \n",
       "...                 ...                ...               ...   \n",
       "269326         42.83407           44.75000          21.78922   \n",
       "241623         44.29763           45.41667          25.26177   \n",
       "242268         37.85017           37.58333          23.38098   \n",
       "223143         35.89515           33.91667          21.73054   \n",
       "232626         31.46997           31.50000          18.69227   \n",
       "\n",
       "        female_age_sample_weight  female_age_samples  pct_own  married  \\\n",
       "UID                                                                      \n",
       "252303                 315.01226              1298.0  0.03476  0.37935   \n",
       "234209                 740.21037              2491.0  0.01374  0.15815   \n",
       "289712                 673.39577              1124.0  0.62069  0.03612   \n",
       "225301                 709.49784              2782.0  0.03302  0.40964   \n",
       "222830                 229.39846               981.0  0.05660  0.21531   \n",
       "...                          ...                 ...      ...      ...   \n",
       "269326                 228.47991               988.0  0.73593  0.44227   \n",
       "241623                 439.72453              1813.0  0.79766  0.58579   \n",
       "242268                 557.14936              2242.0  0.50559  0.53185   \n",
       "223143                 427.57475              1788.0  0.47227  0.37257   \n",
       "232626                1146.80804              5126.0  0.58591  0.60054   \n",
       "\n",
       "        married_snp  separated  divorced  \n",
       "UID                                       \n",
       "252303      0.15006    0.12245   0.16807  \n",
       "234209      0.08191    0.03893   0.12814  \n",
       "289712      0.01806    0.01806   0.00000  \n",
       "225301      0.11320    0.03046   0.07056  \n",
       "222830      0.10204    0.07347   0.20816  \n",
       "...             ...        ...       ...  \n",
       "269326      0.17584    0.08526   0.07993  \n",
       "241623      0.05459    0.02080   0.11005  \n",
       "242268      0.03264    0.00876   0.10987  \n",
       "223143      0.02595    0.01205   0.15848  \n",
       "232626      0.06345    0.03319   0.07491  \n",
       "\n",
       "[839 rows x 77 columns]"
      ]
     },
     "execution_count": 36,
     "metadata": {},
     "output_type": "execute_result"
    }
   ],
   "source": [
    "top_location"
   ]
  },
  {
   "cell_type": "code",
   "execution_count": 37,
   "id": "dc01a1a2-44e2-4ea9-ad4b-21eadd5a6c5a",
   "metadata": {
    "tags": []
   },
   "outputs": [
    {
     "data": {
      "text/plain": [
       "second_mortgage\n",
       "0.12500    7\n",
       "0.11765    7\n",
       "0.10345    4\n",
       "0.50000    3\n",
       "0.10606    3\n",
       "          ..\n",
       "0.13571    1\n",
       "0.13554    1\n",
       "0.13538    1\n",
       "0.13525    1\n",
       "0.10009    1\n",
       "Name: count, Length: 744, dtype: int64"
      ]
     },
     "execution_count": 37,
     "metadata": {},
     "output_type": "execute_result"
    }
   ],
   "source": [
    "top_location['second_mortgage'].value_counts()\n"
   ]
  },
  {
   "cell_type": "markdown",
   "id": "c30eb74c-2dad-4355-95c9-c6bd25b783ea",
   "metadata": {},
   "source": [
    "# Bad Debt = P (Second Mortgage ∩ Home Equity Loan) Bad Debt = second_mortgage + home_equity - home_equity_second_mortgage"
   ]
  },
  {
   "cell_type": "code",
   "execution_count": 38,
   "id": "f8234ebd-ee48-46e7-bee2-cfffebe7323c",
   "metadata": {
    "tags": []
   },
   "outputs": [],
   "source": [
    "train_set['bad_debt']= train_set['second_mortgage']+train_set['home_equity']-train_set['home_equity_second_mortgage']"
   ]
  },
  {
   "cell_type": "code",
   "execution_count": 39,
   "id": "a172156b-10bc-4ee0-b670-adc4887e8251",
   "metadata": {
    "tags": []
   },
   "outputs": [
    {
     "data": {
      "text/plain": [
       "array([0.09408, 0.04274, 0.09512, ..., 0.07857, 0.14305, 0.18362])"
      ]
     },
     "execution_count": 39,
     "metadata": {},
     "output_type": "execute_result"
    }
   ],
   "source": [
    "train_set['bad_debt'].values"
   ]
  },
  {
   "cell_type": "code",
   "execution_count": 40,
   "id": "e14a34e5-b361-40d5-8016-b2d5dfe09cfd",
   "metadata": {
    "tags": []
   },
   "outputs": [
    {
     "data": {
      "text/plain": [
       "<Axes: >"
      ]
     },
     "execution_count": 40,
     "metadata": {},
     "output_type": "execute_result"
    },
    {
     "data": {
      "image/png": "[encoded data removed]",
      "text/plain": [
       "<Figure size 640x480 with 1 Axes>"
      ]
     },
     "metadata": {},
     "output_type": "display_data"
    }
   ],
   "source": [
    "train_set['bad_debt'].hist()"
   ]
  },
  {
   "cell_type": "code",
   "execution_count": 41,
   "id": "de9b0b8c-1b7b-425a-80fc-97da9241526e",
   "metadata": {
    "tags": []
   },
   "outputs": [
    {
     "data": {
      "text/plain": [
       "<bound method IndexOpsMixin.value_counts of UID\n",
       "267822    0.09408\n",
       "246444    0.04274\n",
       "245683    0.09512\n",
       "279653    0.01086\n",
       "247218    0.05426\n",
       "           ...   \n",
       "279212    0.00000\n",
       "277856    0.20908\n",
       "233000    0.07857\n",
       "287425    0.14305\n",
       "265371    0.18362\n",
       "Name: bad_debt, Length: 27321, dtype: float64>"
      ]
     },
     "execution_count": 41,
     "metadata": {},
     "output_type": "execute_result"
    }
   ],
   "source": [
    "train_set['bad_debt'].value_counts"
   ]
  },
  {
   "cell_type": "code",
   "execution_count": 42,
   "id": "477bff7b-3123-4255-8394-417abe6f7203",
   "metadata": {
    "tags": []
   },
   "outputs": [
    {
     "data": {
      "text/plain": [
       "UID\n",
       "267822    0.09408\n",
       "246444    0.04274\n",
       "245683    0.09512\n",
       "279653    0.01086\n",
       "247218    0.05426\n",
       "           ...   \n",
       "279212    0.00000\n",
       "277856    0.20908\n",
       "233000    0.07857\n",
       "287425    0.14305\n",
       "265371    0.18362\n",
       "Name: bad_debt, Length: 27321, dtype: float64"
      ]
     },
     "execution_count": 42,
     "metadata": {},
     "output_type": "execute_result"
    }
   ],
   "source": [
    "train_set['bad_debt']"
   ]
  },
  {
   "cell_type": "code",
   "execution_count": 43,
   "id": "edfe7ac9-27c1-46d3-a912-75fe8dc74ce4",
   "metadata": {
    "tags": []
   },
   "outputs": [],
   "source": [
    "train_set['bins']=pd.cut(train_set['bad_debt'], bins=[0,0.10,1], labels=['lesss than 50%', '50% to 100%'])"
   ]
  },
  {
   "cell_type": "code",
   "execution_count": 44,
   "id": "5d645277-8f2c-4158-bb19-3dcf93e1d7da",
   "metadata": {
    "tags": []
   },
   "outputs": [
    {
     "data": {
      "text/plain": [
       "bins\n",
       "lesss than 50%    12179\n",
       "50% to 100%       13713\n",
       "dtype: int64"
      ]
     },
     "execution_count": 44,
     "metadata": {},
     "output_type": "execute_result"
    }
   ],
   "source": [
    "train_set.groupby('bins').size()"
   ]
  },
  {
   "cell_type": "code",
   "execution_count": 45,
   "id": "51be50b9-8ed8-4840-817a-0ae1ee479b09",
   "metadata": {
    "tags": []
   },
   "outputs": [
    {
     "data": {
      "image/png": "[encoded data removed]",
      "text/plain": [
       "<Figure size 640x480 with 1 Axes>"
      ]
     },
     "metadata": {},
     "output_type": "display_data"
    }
   ],
   "source": [
    "train_set.groupby('bins').size().plot(kind= 'pie', subplots=True, startangle=90, autopct='%1.1f%%')\n",
    "plt.axis('equal')\n",
    "plt.show()"
   ]
  },
  {
   "cell_type": "code",
   "execution_count": 46,
   "id": "a8f83254-5c8f-49e1-ac93-095fccdef113",
   "metadata": {
    "tags": []
   },
   "outputs": [
    {
     "data": {
      "text/plain": [
       "array(['Hamilton', 'South Bend', 'Danville', ..., 'Blue Bell', 'Weldona',\n",
       "       'Colleyville'], dtype=object)"
      ]
     },
     "execution_count": 46,
     "metadata": {},
     "output_type": "execute_result"
    }
   ],
   "source": [
    "train_set['city'].unique()"
   ]
  },
  {
   "cell_type": "code",
   "execution_count": 47,
   "id": "6b5d1b87-835c-4a5c-a996-180362c05f46",
   "metadata": {
    "tags": []
   },
   "outputs": [],
   "source": [
    "df_box_Hamilton= train_set.loc[train_set['city']=='Hamilton']\n",
    "df_box_Danville=train_set.loc[train_set['city']=='Danville']"
   ]
  },
  {
   "cell_type": "code",
   "execution_count": 48,
   "id": "7a0a4bc0-a2ff-40ec-8cc5-39da6ee5208f",
   "metadata": {
    "tags": []
   },
   "outputs": [],
   "source": [
    "df_box_city= pd.concat([df_box_Hamilton, df_box_Danville])"
   ]
  },
  {
   "cell_type": "code",
   "execution_count": 49,
   "id": "600a2561-3320-4233-bc1a-8aad3878df05",
   "metadata": {
    "tags": []
   },
   "outputs": [
    {
     "data": {
      "image/png": "[encoded data removed]",
      "text/plain": [
       "<Figure size 640x480 with 1 Axes>"
      ]
     },
     "metadata": {},
     "output_type": "display_data"
    },
    {
     "data": {
      "image/png": "[encoded data removed]",
      "text/plain": [
       "<Figure size 640x480 with 1 Axes>"
      ]
     },
     "metadata": {},
     "output_type": "display_data"
    },
    {
     "data": {
      "image/png": "[encoded data removed]",
      "text/plain": [
       "<Figure size 640x480 with 1 Axes>"
      ]
     },
     "metadata": {},
     "output_type": "display_data"
    }
   ],
   "source": [
    "i= ['second_mortgage', 'home_equity', 'bad_debt']\n",
    "for col in i:\n",
    "    sns.boxplot(data= df_box_city, x=df_box_city[col], y=df_box_city['city'])\n",
    "    plt.show()\n"
   ]
  },
  {
   "cell_type": "code",
   "execution_count": 50,
   "id": "7d24cc2f-9151-4097-8bc0-48b6b37b23b6",
   "metadata": {
    "tags": []
   },
   "outputs": [
    {
     "name": "stderr",
     "output_type": "stream",
     "text": [
      "/Users/shaktipathak/anaconda3/lib/python3.11/site-packages/seaborn/axisgrid.py:118: UserWarning: The figure layout has changed to tight\n",
      "  self._figure.tight_layout(*args, **kwargs)\n"
     ]
    },
    {
     "data": {
      "image/png": "[encoded data removed]",
      "text/plain": [
       "<Figure size 500x500 with 1 Axes>"
      ]
     },
     "metadata": {},
     "output_type": "display_data"
    },
    {
     "name": "stderr",
     "output_type": "stream",
     "text": [
      "/Users/shaktipathak/anaconda3/lib/python3.11/site-packages/seaborn/axisgrid.py:118: UserWarning: The figure layout has changed to tight\n",
      "  self._figure.tight_layout(*args, **kwargs)\n"
     ]
    },
    {
     "data": {
      "image/png": "[encoded data removed]",
      "text/plain": [
       "<Figure size 500x500 with 1 Axes>"
      ]
     },
     "metadata": {},
     "output_type": "display_data"
    },
    {
     "name": "stderr",
     "output_type": "stream",
     "text": [
      "/Users/shaktipathak/anaconda3/lib/python3.11/site-packages/seaborn/axisgrid.py:118: UserWarning: The figure layout has changed to tight\n",
      "  self._figure.tight_layout(*args, **kwargs)\n"
     ]
    },
    {
     "data": {
      "image/png": "[encoded data removed]",
      "text/plain": [
       "<Figure size 500x500 with 1 Axes>"
      ]
     },
     "metadata": {},
     "output_type": "display_data"
    }
   ],
   "source": [
    "## Creating distrubtion chart for house hold income\n",
    "train_set['remaining_mean']= train_set['hi_mean']-train_set['family_mean']\n",
    "i=['hi_mean', 'family_mean', 'remaining_mean']\n",
    "for col in i:\n",
    "    sns.displot(train_set[col])\n",
    "    if col=='hi_mean':\n",
    "        plt.title('House Hold Income')\n",
    "    elif col=='family_mean':\n",
    "        plt.title('Family Income')\n",
    "    elif col=='remaining_mean':\n",
    "        plt.title('Remaining Income')\n",
    "    plt.show()\n"
   ]
  },
  {
   "cell_type": "markdown",
   "id": "88b490c2-ab14-40a1-9d1b-811842edccfe",
   "metadata": {
    "tags": []
   },
   "source": [
    "## Exploratory Data Analysis (EDA):\n",
    "\n",
    "1. Perform EDA and come out with insights into population density and age. You may have to derive new fields (make sure to weight averages for accurate measurements):\n",
    "\n",
    "a) Use pop and ALand variables to create a new field called population density\n",
    "\n",
    "b) Use male_age_median, female_age_median, male_pop, and female_pop to create a new field called median age c) Visualize the findings using appropriate chart type\n",
    "\n",
    "2. Create bins for population into a new variable by selecting appropriate class interval so that the number of categories don’t exceed 5 for the ease of analysis.\n",
    "\n",
    "a) Analyze the married, separated, and divorced population for these population brackets\n",
    "\n",
    "b) Visualize using appropriate chart type\n",
    "\n",
    "3. Please detail your observations for rent as a percentage of income at an overall level, and for different states.\n",
    "\n",
    "4. Perform correlation analysis for all the relevant variables by creating a heatmap. Describe your findings."
   ]
  },
  {
   "cell_type": "code",
   "execution_count": 51,
   "id": "2a5603a0-90bb-44c2-8ee1-040c3af9997b",
   "metadata": {
    "tags": []
   },
   "outputs": [
    {
     "data": {
      "image/png": "[encoded data removed]",
      "text/plain": [
       "<Figure size 640x480 with 3 Axes>"
      ]
     },
     "metadata": {},
     "output_type": "display_data"
    }
   ],
   "source": [
    "fig,(ax1, ax2,ax3)=plt.subplots(3,1)\n",
    "sns.histplot(train_set['pop'], ax=ax1)\n",
    "sns.histplot(train_set['female_pop'], ax=ax2)\n",
    "sns.histplot(train_set['male_pop'], ax=ax3)\n",
    "plt.subplots_adjust(wspace=0.8, hspace=0.8)\n",
    "plt.tight_layout()\n",
    "plt.show()"
   ]
  },
  {
   "cell_type": "code",
   "execution_count": 52,
   "id": "187e64c0-adc6-431b-931f-c01bbad0639a",
   "metadata": {
    "tags": []
   },
   "outputs": [
    {
     "data": {
      "image/png": "[encoded data removed]",
      "text/plain": [
       "<Figure size 640x480 with 2 Axes>"
      ]
     },
     "metadata": {},
     "output_type": "display_data"
    }
   ],
   "source": [
    "fig,(ax1, ax2)=plt.subplots(2,1)\n",
    "sns.histplot(train_set['male_age_mean'], ax=ax1)\n",
    "sns.histplot(train_set['female_age_mean'], ax=ax2)\n",
    "plt.subplots_adjust(wspace=0.8, hspace=0.8)\n",
    "plt.tight_layout()\n",
    "plt.show()"
   ]
  },
  {
   "cell_type": "raw",
   "id": "4880d7aa-b261-4af4-82be-d898b8a1102f",
   "metadata": {},
   "source": [
    "Use pop and ALand variables to create a new field called population density"
   ]
  },
  {
   "cell_type": "code",
   "execution_count": 53,
   "id": "ce31e48d-a472-4acc-9a6d-3ea4c7acb283",
   "metadata": {
    "tags": []
   },
   "outputs": [],
   "source": [
    "train_set['pop_density']= train_set['pop']/train_set['ALand']\n",
    "test_set['pop_density']=test_set['pop']/test_set['ALand']"
   ]
  },
  {
   "cell_type": "code",
   "execution_count": 54,
   "id": "aaee1e0f-8867-42bd-aa47-8c1e54d45e9b",
   "metadata": {
    "tags": []
   },
   "outputs": [
    {
     "data": {
      "image/png": "[encoded data removed]",
      "text/plain": [
       "<Figure size 640x480 with 1 Axes>"
      ]
     },
     "metadata": {},
     "output_type": "display_data"
    },
    {
     "data": {
      "image/png": "[encoded data removed]",
      "text/plain": [
       "<Figure size 640x480 with 1 Axes>"
      ]
     },
     "metadata": {},
     "output_type": "display_data"
    }
   ],
   "source": [
    "sns.histplot(train_set['pop_density'])\n",
    "plt.title('Population Desnity')\n",
    "plt.show()\n",
    "sns.histplot(test_set['pop_density'])\n",
    "plt.title('Population Desnity')\n",
    "plt.show()##nVery less density"
   ]
  },
  {
   "cell_type": "raw",
   "id": "60539cf8-efdc-4e4f-8166-3a1679056a56",
   "metadata": {},
   "source": [
    "Use male_age_median, female_age_median, male_pop, and female_pop to create a new field called median age c) Visualize the findings using appropriate chart type"
   ]
  },
  {
   "cell_type": "code",
   "execution_count": 69,
   "id": "e591fd51-746a-4793-8aa4-9b7eb1f30d80",
   "metadata": {
    "tags": []
   },
   "outputs": [],
   "source": [
    "df_combine= pd.concat([train_set, test_set])"
   ]
  },
  {
   "cell_type": "code",
   "execution_count": 70,
   "id": "57165768-8878-4173-8cb1-35e31a657a83",
   "metadata": {},
   "outputs": [
    {
     "data": {
      "text/html": [
       "<div>\n",
       "<style scoped>\n",
       "    .dataframe tbody tr th:only-of-type {\n",
       "        vertical-align: middle;\n",
       "    }\n",
       "\n",
       "    .dataframe tbody tr th {\n",
       "        vertical-align: top;\n",
       "    }\n",
       "\n",
       "    .dataframe thead th {\n",
       "        text-align: right;\n",
       "    }\n",
       "</style>\n",
       "<table border=\"1\" class=\"dataframe\">\n",
       "  <thead>\n",
       "    <tr style=\"text-align: right;\">\n",
       "      <th></th>\n",
       "      <th>COUNTYID</th>\n",
       "      <th>STATEID</th>\n",
       "      <th>state</th>\n",
       "      <th>state_ab</th>\n",
       "      <th>city</th>\n",
       "      <th>place</th>\n",
       "      <th>type</th>\n",
       "      <th>primary</th>\n",
       "      <th>zip_code</th>\n",
       "      <th>area_code</th>\n",
       "      <th>...</th>\n",
       "      <th>pct_own</th>\n",
       "      <th>married</th>\n",
       "      <th>married_snp</th>\n",
       "      <th>separated</th>\n",
       "      <th>divorced</th>\n",
       "      <th>bad_debt</th>\n",
       "      <th>bins</th>\n",
       "      <th>remaining_mean</th>\n",
       "      <th>pop_density</th>\n",
       "      <th>age_median</th>\n",
       "    </tr>\n",
       "    <tr>\n",
       "      <th>UID</th>\n",
       "      <th></th>\n",
       "      <th></th>\n",
       "      <th></th>\n",
       "      <th></th>\n",
       "      <th></th>\n",
       "      <th></th>\n",
       "      <th></th>\n",
       "      <th></th>\n",
       "      <th></th>\n",
       "      <th></th>\n",
       "      <th></th>\n",
       "      <th></th>\n",
       "      <th></th>\n",
       "      <th></th>\n",
       "      <th></th>\n",
       "      <th></th>\n",
       "      <th></th>\n",
       "      <th></th>\n",
       "      <th></th>\n",
       "      <th></th>\n",
       "      <th></th>\n",
       "    </tr>\n",
       "  </thead>\n",
       "  <tbody>\n",
       "    <tr>\n",
       "      <th>267822</th>\n",
       "      <td>53</td>\n",
       "      <td>36</td>\n",
       "      <td>New York</td>\n",
       "      <td>NY</td>\n",
       "      <td>Hamilton</td>\n",
       "      <td>Hamilton</td>\n",
       "      <td>City</td>\n",
       "      <td>tract</td>\n",
       "      <td>13346</td>\n",
       "      <td>315</td>\n",
       "      <td>...</td>\n",
       "      <td>0.79046</td>\n",
       "      <td>0.57851</td>\n",
       "      <td>0.01882</td>\n",
       "      <td>0.01240</td>\n",
       "      <td>0.08770</td>\n",
       "      <td>0.09408</td>\n",
       "      <td>lesss than 50%</td>\n",
       "      <td>-4868.86384</td>\n",
       "      <td>0.000026</td>\n",
       "      <td>43.486015</td>\n",
       "    </tr>\n",
       "    <tr>\n",
       "      <th>246444</th>\n",
       "      <td>141</td>\n",
       "      <td>18</td>\n",
       "      <td>Indiana</td>\n",
       "      <td>IN</td>\n",
       "      <td>South Bend</td>\n",
       "      <td>Roseland</td>\n",
       "      <td>City</td>\n",
       "      <td>tract</td>\n",
       "      <td>46616</td>\n",
       "      <td>574</td>\n",
       "      <td>...</td>\n",
       "      <td>0.52483</td>\n",
       "      <td>0.34886</td>\n",
       "      <td>0.01426</td>\n",
       "      <td>0.01426</td>\n",
       "      <td>0.09030</td>\n",
       "      <td>0.04274</td>\n",
       "      <td>lesss than 50%</td>\n",
       "      <td>-8738.17744</td>\n",
       "      <td>0.001687</td>\n",
       "      <td>35.665595</td>\n",
       "    </tr>\n",
       "    <tr>\n",
       "      <th>245683</th>\n",
       "      <td>63</td>\n",
       "      <td>18</td>\n",
       "      <td>Indiana</td>\n",
       "      <td>IN</td>\n",
       "      <td>Danville</td>\n",
       "      <td>Danville</td>\n",
       "      <td>City</td>\n",
       "      <td>tract</td>\n",
       "      <td>46122</td>\n",
       "      <td>317</td>\n",
       "      <td>...</td>\n",
       "      <td>0.85331</td>\n",
       "      <td>0.64745</td>\n",
       "      <td>0.02830</td>\n",
       "      <td>0.01607</td>\n",
       "      <td>0.10657</td>\n",
       "      <td>0.09512</td>\n",
       "      <td>lesss than 50%</td>\n",
       "      <td>-10319.83114</td>\n",
       "      <td>0.000099</td>\n",
       "      <td>40.769820</td>\n",
       "    </tr>\n",
       "    <tr>\n",
       "      <th>279653</th>\n",
       "      <td>127</td>\n",
       "      <td>72</td>\n",
       "      <td>Puerto Rico</td>\n",
       "      <td>PR</td>\n",
       "      <td>San Juan</td>\n",
       "      <td>Guaynabo</td>\n",
       "      <td>Urban</td>\n",
       "      <td>tract</td>\n",
       "      <td>927</td>\n",
       "      <td>787</td>\n",
       "      <td>...</td>\n",
       "      <td>0.65037</td>\n",
       "      <td>0.47257</td>\n",
       "      <td>0.02021</td>\n",
       "      <td>0.02021</td>\n",
       "      <td>0.10106</td>\n",
       "      <td>0.01086</td>\n",
       "      <td>lesss than 50%</td>\n",
       "      <td>-7668.01017</td>\n",
       "      <td>0.002442</td>\n",
       "      <td>48.211375</td>\n",
       "    </tr>\n",
       "    <tr>\n",
       "      <th>247218</th>\n",
       "      <td>161</td>\n",
       "      <td>20</td>\n",
       "      <td>Kansas</td>\n",
       "      <td>KS</td>\n",
       "      <td>Manhattan</td>\n",
       "      <td>Manhattan City</td>\n",
       "      <td>City</td>\n",
       "      <td>tract</td>\n",
       "      <td>66502</td>\n",
       "      <td>785</td>\n",
       "      <td>...</td>\n",
       "      <td>0.13046</td>\n",
       "      <td>0.12356</td>\n",
       "      <td>0.00000</td>\n",
       "      <td>0.00000</td>\n",
       "      <td>0.03109</td>\n",
       "      <td>0.05426</td>\n",
       "      <td>lesss than 50%</td>\n",
       "      <td>-22219.26930</td>\n",
       "      <td>0.002207</td>\n",
       "      <td>25.126130</td>\n",
       "    </tr>\n",
       "  </tbody>\n",
       "</table>\n",
       "<p>5 rows × 82 columns</p>\n",
       "</div>"
      ],
      "text/plain": [
       "        COUNTYID  STATEID        state state_ab        city           place  \\\n",
       "UID                                                                           \n",
       "267822        53       36     New York       NY    Hamilton        Hamilton   \n",
       "246444       141       18      Indiana       IN  South Bend        Roseland   \n",
       "245683        63       18      Indiana       IN    Danville        Danville   \n",
       "279653       127       72  Puerto Rico       PR    San Juan        Guaynabo   \n",
       "247218       161       20       Kansas       KS   Manhattan  Manhattan City   \n",
       "\n",
       "         type primary  zip_code  area_code  ...  pct_own  married  \\\n",
       "UID                                         ...                     \n",
       "267822   City   tract     13346        315  ...  0.79046  0.57851   \n",
       "246444   City   tract     46616        574  ...  0.52483  0.34886   \n",
       "245683   City   tract     46122        317  ...  0.85331  0.64745   \n",
       "279653  Urban   tract       927        787  ...  0.65037  0.47257   \n",
       "247218   City   tract     66502        785  ...  0.13046  0.12356   \n",
       "\n",
       "        married_snp  separated  divorced  bad_debt            bins  \\\n",
       "UID                                                                  \n",
       "267822      0.01882    0.01240   0.08770   0.09408  lesss than 50%   \n",
       "246444      0.01426    0.01426   0.09030   0.04274  lesss than 50%   \n",
       "245683      0.02830    0.01607   0.10657   0.09512  lesss than 50%   \n",
       "279653      0.02021    0.02021   0.10106   0.01086  lesss than 50%   \n",
       "247218      0.00000    0.00000   0.03109   0.05426  lesss than 50%   \n",
       "\n",
       "        remaining_mean  pop_density  age_median  \n",
       "UID                                              \n",
       "267822     -4868.86384     0.000026   43.486015  \n",
       "246444     -8738.17744     0.001687   35.665595  \n",
       "245683    -10319.83114     0.000099   40.769820  \n",
       "279653     -7668.01017     0.002442   48.211375  \n",
       "247218    -22219.26930     0.002207   25.126130  \n",
       "\n",
       "[5 rows x 82 columns]"
      ]
     },
     "execution_count": 70,
     "metadata": {},
     "output_type": "execute_result"
    }
   ],
   "source": [
    "df_combine.head()"
   ]
  },
  {
   "cell_type": "code",
   "execution_count": 71,
   "id": "8ac6681d-fc68-4402-833b-4ddd6b5c276d",
   "metadata": {
    "tags": []
   },
   "outputs": [
    {
     "data": {
      "text/plain": [
       "(39030, 82)"
      ]
     },
     "execution_count": 71,
     "metadata": {},
     "output_type": "execute_result"
    }
   ],
   "source": [
    "df_combine.shape"
   ]
  },
  {
   "cell_type": "code",
   "execution_count": 72,
   "id": "d7e9f586-38cb-4106-8fac-a0502ea7c7ea",
   "metadata": {
    "tags": []
   },
   "outputs": [
    {
     "data": {
      "text/plain": [
       "(11709, 79)"
      ]
     },
     "execution_count": 72,
     "metadata": {},
     "output_type": "execute_result"
    }
   ],
   "source": [
    "test_set.shape"
   ]
  },
  {
   "cell_type": "code",
   "execution_count": 73,
   "id": "d01e5219-03ac-42c7-bb2d-fb90e9bd9f74",
   "metadata": {
    "tags": []
   },
   "outputs": [
    {
     "data": {
      "text/plain": [
       "(27321, 82)"
      ]
     },
     "execution_count": 73,
     "metadata": {},
     "output_type": "execute_result"
    }
   ],
   "source": [
    "train_set.shape"
   ]
  },
  {
   "cell_type": "code",
   "execution_count": 74,
   "id": "f01653ed-122c-4de0-9f34-6f49a315770e",
   "metadata": {
    "tags": []
   },
   "outputs": [
    {
     "data": {
      "text/plain": [
       "COUNTYID              0\n",
       "STATEID               0\n",
       "state                 0\n",
       "state_ab              0\n",
       "city                  0\n",
       "                  ...  \n",
       "bad_debt          11709\n",
       "bins              13138\n",
       "remaining_mean    11709\n",
       "pop_density           0\n",
       "age_median            0\n",
       "Length: 82, dtype: int64"
      ]
     },
     "execution_count": 74,
     "metadata": {},
     "output_type": "execute_result"
    }
   ],
   "source": [
    "df_combine.isnull().sum()"
   ]
  },
  {
   "cell_type": "code",
   "execution_count": 75,
   "id": "13f58dcf-9603-47f5-9565-1d1a35d9f9f6",
   "metadata": {
    "tags": []
   },
   "outputs": [],
   "source": [
    "df_combine['age_median']= ((df_combine['male_age_median']*df_combine['male_pop'])+\n",
    "(df_combine['female_age_mean']*df_combine['female_pop']))/(df_combine['male_pop']+df_combine['female_pop'])"
   ]
  },
  {
   "cell_type": "raw",
   "id": "93f0793e-8ff9-4566-9404-e743d01bcc25",
   "metadata": {},
   "source": [
    "c.Visualize the findings using appropriate chart type"
   ]
  },
  {
   "cell_type": "code",
   "execution_count": 80,
   "id": "4c299955-3036-4ba5-875e-02ddaf3de16a",
   "metadata": {
    "tags": []
   },
   "outputs": [
    {
     "data": {
      "image/png": "[encoded data removed]",
      "text/plain": [
       "<Figure size 1500x1000 with 2 Axes>"
      ]
     },
     "metadata": {},
     "output_type": "display_data"
    }
   ],
   "source": [
    "import warnings\n",
    "warnings.filterwarnings(\"ignore\")\n",
    "plt.figure(figsize=(15,10))\n",
    "plt.subplot(2,2,1)\n",
    "sns.distplot(df_combine['age_median'])\n",
    "plt.title('Median Age')\n",
    "plt.subplot(2,2,2)\n",
    "sns.boxplot(x=df_combine['age_median'])\n",
    "plt.title('Poppulation desnity')\n",
    "plt.show()"
   ]
  },
  {
   "cell_type": "raw",
   "id": "f5ffa92e-5e24-432f-8fbc-7f9b4f05c61f",
   "metadata": {},
   "source": [
    "2. Create bins for population into a new variable by selecting appropriate class interval so that the number of categories don’t exceed 5 for the ease of analysis."
   ]
  },
  {
   "cell_type": "code",
   "execution_count": 82,
   "id": "729def67-0444-4c62-8a88-fb142434ca2f",
   "metadata": {
    "tags": []
   },
   "outputs": [],
   "source": [
    "df_combine['pop_bin']=pd.cut(df_combine['pop'], bins=5, labels=['very low', 'low', 'medium', 'high', 'very high'])"
   ]
  },
  {
   "cell_type": "code",
   "execution_count": 83,
   "id": "a283f227-cc3e-4a59-94ac-4874c8dc0f91",
   "metadata": {
    "tags": []
   },
   "outputs": [
    {
     "data": {
      "text/plain": [
       "pop_bin\n",
       "very low     38661\n",
       "low            348\n",
       "medium          12\n",
       "high             8\n",
       "very high        1\n",
       "Name: count, dtype: int64"
      ]
     },
     "execution_count": 83,
     "metadata": {},
     "output_type": "execute_result"
    }
   ],
   "source": [
    "df_combine['pop_bin'].value_counts()"
   ]
  },
  {
   "cell_type": "raw",
   "id": "26fb0235-4bae-41df-84fb-0e0ed51fab0e",
   "metadata": {},
   "source": [
    "2.a) Analyze the married, separated, and divorced population for these population brackets"
   ]
  },
  {
   "cell_type": "code",
   "execution_count": 88,
   "id": "17aa2da4-1323-4879-9e41-bd659cec815c",
   "metadata": {
    "tags": []
   },
   "outputs": [
    {
     "data": {
      "text/html": [
       "<div>\n",
       "<style scoped>\n",
       "    .dataframe tbody tr th:only-of-type {\n",
       "        vertical-align: middle;\n",
       "    }\n",
       "\n",
       "    .dataframe tbody tr th {\n",
       "        vertical-align: top;\n",
       "    }\n",
       "\n",
       "    .dataframe thead th {\n",
       "        text-align: right;\n",
       "    }\n",
       "</style>\n",
       "<table border=\"1\" class=\"dataframe\">\n",
       "  <thead>\n",
       "    <tr style=\"text-align: right;\">\n",
       "      <th></th>\n",
       "      <th>married</th>\n",
       "      <th>separated</th>\n",
       "      <th>divorced</th>\n",
       "    </tr>\n",
       "    <tr>\n",
       "      <th>pop_bin</th>\n",
       "      <th></th>\n",
       "      <th></th>\n",
       "      <th></th>\n",
       "    </tr>\n",
       "  </thead>\n",
       "  <tbody>\n",
       "    <tr>\n",
       "      <th>very low</th>\n",
       "      <td>38661</td>\n",
       "      <td>38661</td>\n",
       "      <td>38661</td>\n",
       "    </tr>\n",
       "    <tr>\n",
       "      <th>low</th>\n",
       "      <td>348</td>\n",
       "      <td>348</td>\n",
       "      <td>348</td>\n",
       "    </tr>\n",
       "    <tr>\n",
       "      <th>medium</th>\n",
       "      <td>12</td>\n",
       "      <td>12</td>\n",
       "      <td>12</td>\n",
       "    </tr>\n",
       "    <tr>\n",
       "      <th>high</th>\n",
       "      <td>8</td>\n",
       "      <td>8</td>\n",
       "      <td>8</td>\n",
       "    </tr>\n",
       "    <tr>\n",
       "      <th>very high</th>\n",
       "      <td>1</td>\n",
       "      <td>1</td>\n",
       "      <td>1</td>\n",
       "    </tr>\n",
       "  </tbody>\n",
       "</table>\n",
       "</div>"
      ],
      "text/plain": [
       "           married  separated  divorced\n",
       "pop_bin                                \n",
       "very low     38661      38661     38661\n",
       "low            348        348       348\n",
       "medium          12         12        12\n",
       "high             8          8         8\n",
       "very high        1          1         1"
      ]
     },
     "execution_count": 88,
     "metadata": {},
     "output_type": "execute_result"
    }
   ],
   "source": [
    "df_combine.groupby(by='pop_bin')[['married', 'separated', 'divorced']].count()"
   ]
  },
  {
   "cell_type": "raw",
   "id": "f20abb4d-fb5d-4a17-9ff0-202130c1e6fc",
   "metadata": {},
   "source": [
    "2.b Visualize using appropriate chart type"
   ]
  },
  {
   "cell_type": "code",
   "execution_count": 98,
   "id": "f16b08c6-0648-4344-8e24-079e3b2f8eaf",
   "metadata": {
    "tags": []
   },
   "outputs": [
    {
     "data": {
      "text/html": [
       "<div>\n",
       "<style scoped>\n",
       "    .dataframe tbody tr th:only-of-type {\n",
       "        vertical-align: middle;\n",
       "    }\n",
       "\n",
       "    .dataframe tbody tr th {\n",
       "        vertical-align: top;\n",
       "    }\n",
       "\n",
       "    .dataframe thead tr th {\n",
       "        text-align: left;\n",
       "    }\n",
       "\n",
       "    .dataframe thead tr:last-of-type th {\n",
       "        text-align: right;\n",
       "    }\n",
       "</style>\n",
       "<table border=\"1\" class=\"dataframe\">\n",
       "  <thead>\n",
       "    <tr>\n",
       "      <th></th>\n",
       "      <th colspan=\"2\" halign=\"left\">married</th>\n",
       "      <th colspan=\"2\" halign=\"left\">separated</th>\n",
       "      <th colspan=\"2\" halign=\"left\">divorced</th>\n",
       "    </tr>\n",
       "    <tr>\n",
       "      <th></th>\n",
       "      <th>mean</th>\n",
       "      <th>median</th>\n",
       "      <th>mean</th>\n",
       "      <th>median</th>\n",
       "      <th>mean</th>\n",
       "      <th>median</th>\n",
       "    </tr>\n",
       "    <tr>\n",
       "      <th>pop_bin</th>\n",
       "      <th></th>\n",
       "      <th></th>\n",
       "      <th></th>\n",
       "      <th></th>\n",
       "      <th></th>\n",
       "      <th></th>\n",
       "    </tr>\n",
       "  </thead>\n",
       "  <tbody>\n",
       "    <tr>\n",
       "      <th>very low</th>\n",
       "      <td>0.506729</td>\n",
       "      <td>0.524210</td>\n",
       "      <td>0.019209</td>\n",
       "      <td>0.013770</td>\n",
       "      <td>0.100177</td>\n",
       "      <td>0.09567</td>\n",
       "    </tr>\n",
       "    <tr>\n",
       "      <th>low</th>\n",
       "      <td>0.589247</td>\n",
       "      <td>0.601815</td>\n",
       "      <td>0.014929</td>\n",
       "      <td>0.010255</td>\n",
       "      <td>0.075192</td>\n",
       "      <td>0.06934</td>\n",
       "    </tr>\n",
       "    <tr>\n",
       "      <th>medium</th>\n",
       "      <td>0.617047</td>\n",
       "      <td>0.605765</td>\n",
       "      <td>0.011203</td>\n",
       "      <td>0.007745</td>\n",
       "      <td>0.071870</td>\n",
       "      <td>0.06909</td>\n",
       "    </tr>\n",
       "    <tr>\n",
       "      <th>high</th>\n",
       "      <td>0.482396</td>\n",
       "      <td>0.335660</td>\n",
       "      <td>0.007436</td>\n",
       "      <td>0.002500</td>\n",
       "      <td>0.035441</td>\n",
       "      <td>0.01032</td>\n",
       "    </tr>\n",
       "    <tr>\n",
       "      <th>very high</th>\n",
       "      <td>0.734740</td>\n",
       "      <td>0.734740</td>\n",
       "      <td>0.004050</td>\n",
       "      <td>0.004050</td>\n",
       "      <td>0.030360</td>\n",
       "      <td>0.03036</td>\n",
       "    </tr>\n",
       "  </tbody>\n",
       "</table>\n",
       "</div>"
      ],
      "text/plain": [
       "            married           separated            divorced         \n",
       "               mean    median      mean    median      mean   median\n",
       "pop_bin                                                             \n",
       "very low   0.506729  0.524210  0.019209  0.013770  0.100177  0.09567\n",
       "low        0.589247  0.601815  0.014929  0.010255  0.075192  0.06934\n",
       "medium     0.617047  0.605765  0.011203  0.007745  0.071870  0.06909\n",
       "high       0.482396  0.335660  0.007436  0.002500  0.035441  0.01032\n",
       "very high  0.734740  0.734740  0.004050  0.004050  0.030360  0.03036"
      ]
     },
     "execution_count": 98,
     "metadata": {},
     "output_type": "execute_result"
    }
   ],
   "source": [
    "df_combine.groupby(by='pop_bin')[['married', 'separated', 'divorced']].agg([\"mean\", \"median\"])"
   ]
  },
  {
   "cell_type": "code",
   "execution_count": 100,
   "id": "b9e26a39-346b-4bb9-9eca-bfc35ef42c24",
   "metadata": {
    "tags": []
   },
   "outputs": [
    {
     "data": {
      "image/png": "[encoded data removed]",
      "text/plain": [
       "<Figure size 1200x1000 with 1 Axes>"
      ]
     },
     "metadata": {},
     "output_type": "display_data"
    }
   ],
   "source": [
    "df_grouped= df_combine.groupby(by='pop_bin')[['married', 'separated', 'divorced']].mean()\n",
    "plt.figure(figsize=(12,10))\n",
    "sns.lineplot(data= df_grouped, x= 'pop_bin', y='married', label= 'Married')\n",
    "sns.lineplot(data= df_grouped, x= 'pop_bin', y='separated', label= 'Separated')\n",
    "sns.lineplot(data= df_grouped, x= 'pop_bin', y='divorced', label= 'Divorced')\n",
    "plt.legend(loc='best')\n",
    "plt.show()"
   ]
  },
  {
   "cell_type": "code",
   "execution_count": 103,
   "id": "f8c15e01-66c2-4476-a23b-fddf2e1ba6f6",
   "metadata": {
    "tags": []
   },
   "outputs": [
    {
     "data": {
      "text/plain": [
       "<Axes: >"
      ]
     },
     "execution_count": 103,
     "metadata": {},
     "output_type": "execute_result"
    },
    {
     "data": {
      "image/png": "[encoded data removed]",
      "text/plain": [
       "<Figure size 1200x800 with 1 Axes>"
      ]
     },
     "metadata": {},
     "output_type": "display_data"
    }
   ],
   "source": [
    "df_combine.groupby(by='pop_bin')[['married', 'separated', 'divorced']].mean().plot.box(figsize=(12,8), grid=True)\n"
   ]
  },
  {
   "cell_type": "raw",
   "id": "321f9822-f41e-409d-920c-2f822484dcff",
   "metadata": {},
   "source": [
    "3. Please detail your observations for rent as a percentage of income at an overall level, and for different states."
   ]
  },
  {
   "cell_type": "code",
   "execution_count": 107,
   "id": "f0a6c46e-8b42-49ca-ac9c-4cbe6200991d",
   "metadata": {
    "tags": []
   },
   "outputs": [
    {
     "data": {
      "text/html": [
       "<div>\n",
       "<style scoped>\n",
       "    .dataframe tbody tr th:only-of-type {\n",
       "        vertical-align: middle;\n",
       "    }\n",
       "\n",
       "    .dataframe tbody tr th {\n",
       "        vertical-align: top;\n",
       "    }\n",
       "\n",
       "    .dataframe thead th {\n",
       "        text-align: right;\n",
       "    }\n",
       "</style>\n",
       "<table border=\"1\" class=\"dataframe\">\n",
       "  <thead>\n",
       "    <tr style=\"text-align: right;\">\n",
       "      <th></th>\n",
       "      <th>mean</th>\n",
       "    </tr>\n",
       "    <tr>\n",
       "      <th>state</th>\n",
       "      <th></th>\n",
       "    </tr>\n",
       "  </thead>\n",
       "  <tbody>\n",
       "    <tr>\n",
       "      <th>Alabama</th>\n",
       "      <td>766.373317</td>\n",
       "    </tr>\n",
       "    <tr>\n",
       "      <th>Alaska</th>\n",
       "      <td>1190.093590</td>\n",
       "    </tr>\n",
       "    <tr>\n",
       "      <th>Arizona</th>\n",
       "      <td>1085.448869</td>\n",
       "    </tr>\n",
       "    <tr>\n",
       "      <th>Arkansas</th>\n",
       "      <td>718.970584</td>\n",
       "    </tr>\n",
       "    <tr>\n",
       "      <th>California</th>\n",
       "      <td>1464.310220</td>\n",
       "    </tr>\n",
       "  </tbody>\n",
       "</table>\n",
       "</div>"
      ],
      "text/plain": [
       "                   mean\n",
       "state                  \n",
       "Alabama      766.373317\n",
       "Alaska      1190.093590\n",
       "Arizona     1085.448869\n",
       "Arkansas     718.970584\n",
       "California  1464.310220"
      ]
     },
     "execution_count": 107,
     "metadata": {},
     "output_type": "execute_result"
    }
   ],
   "source": [
    "rent_state_mean= df_combine.groupby(by='state')['rent_mean'].agg(['mean'])\n",
    "rent_state_mean.head()"
   ]
  },
  {
   "cell_type": "code",
   "execution_count": 109,
   "id": "6d7476c7-f840-4533-a89a-35b7edda2a13",
   "metadata": {
    "tags": []
   },
   "outputs": [
    {
     "data": {
      "text/html": [
       "<div>\n",
       "<style scoped>\n",
       "    .dataframe tbody tr th:only-of-type {\n",
       "        vertical-align: middle;\n",
       "    }\n",
       "\n",
       "    .dataframe tbody tr th {\n",
       "        vertical-align: top;\n",
       "    }\n",
       "\n",
       "    .dataframe thead th {\n",
       "        text-align: right;\n",
       "    }\n",
       "</style>\n",
       "<table border=\"1\" class=\"dataframe\">\n",
       "  <thead>\n",
       "    <tr style=\"text-align: right;\">\n",
       "      <th></th>\n",
       "      <th>mean</th>\n",
       "    </tr>\n",
       "    <tr>\n",
       "      <th>state</th>\n",
       "      <th></th>\n",
       "    </tr>\n",
       "  </thead>\n",
       "  <tbody>\n",
       "    <tr>\n",
       "      <th>Alabama</th>\n",
       "      <td>65341.572647</td>\n",
       "    </tr>\n",
       "    <tr>\n",
       "      <th>Alaska</th>\n",
       "      <td>91911.137520</td>\n",
       "    </tr>\n",
       "    <tr>\n",
       "      <th>Arizona</th>\n",
       "      <td>73049.029032</td>\n",
       "    </tr>\n",
       "    <tr>\n",
       "      <th>Arkansas</th>\n",
       "      <td>64516.688401</td>\n",
       "    </tr>\n",
       "    <tr>\n",
       "      <th>California</th>\n",
       "      <td>87521.859712</td>\n",
       "    </tr>\n",
       "  </tbody>\n",
       "</table>\n",
       "</div>"
      ],
      "text/plain": [
       "                    mean\n",
       "state                   \n",
       "Alabama     65341.572647\n",
       "Alaska      91911.137520\n",
       "Arizona     73049.029032\n",
       "Arkansas    64516.688401\n",
       "California  87521.859712"
      ]
     },
     "execution_count": 109,
     "metadata": {},
     "output_type": "execute_result"
    }
   ],
   "source": [
    "income_state_mean=df_combine.groupby(by='state')['family_mean'].agg(['mean'])\n",
    "income_state_mean.head()"
   ]
  },
  {
   "cell_type": "code",
   "execution_count": 111,
   "id": "7800c16a-ccab-430e-9188-808ad1ac7f34",
   "metadata": {
    "tags": []
   },
   "outputs": [
    {
     "data": {
      "text/html": [
       "<div>\n",
       "<style scoped>\n",
       "    .dataframe tbody tr th:only-of-type {\n",
       "        vertical-align: middle;\n",
       "    }\n",
       "\n",
       "    .dataframe tbody tr th {\n",
       "        vertical-align: top;\n",
       "    }\n",
       "\n",
       "    .dataframe thead th {\n",
       "        text-align: right;\n",
       "    }\n",
       "</style>\n",
       "<table border=\"1\" class=\"dataframe\">\n",
       "  <thead>\n",
       "    <tr style=\"text-align: right;\">\n",
       "      <th></th>\n",
       "      <th>mean</th>\n",
       "    </tr>\n",
       "    <tr>\n",
       "      <th>state</th>\n",
       "      <th></th>\n",
       "    </tr>\n",
       "  </thead>\n",
       "  <tbody>\n",
       "    <tr>\n",
       "      <th>Alabama</th>\n",
       "      <td>1.172872</td>\n",
       "    </tr>\n",
       "    <tr>\n",
       "      <th>Alaska</th>\n",
       "      <td>1.294831</td>\n",
       "    </tr>\n",
       "    <tr>\n",
       "      <th>Arizona</th>\n",
       "      <td>1.485918</td>\n",
       "    </tr>\n",
       "    <tr>\n",
       "      <th>Arkansas</th>\n",
       "      <td>1.114395</td>\n",
       "    </tr>\n",
       "    <tr>\n",
       "      <th>California</th>\n",
       "      <td>1.673079</td>\n",
       "    </tr>\n",
       "    <tr>\n",
       "      <th>Colorado</th>\n",
       "      <td>1.361258</td>\n",
       "    </tr>\n",
       "    <tr>\n",
       "      <th>Connecticut</th>\n",
       "      <td>1.274466</td>\n",
       "    </tr>\n",
       "    <tr>\n",
       "      <th>Delaware</th>\n",
       "      <td>1.311808</td>\n",
       "    </tr>\n",
       "    <tr>\n",
       "      <th>District of Columbia</th>\n",
       "      <td>1.357334</td>\n",
       "    </tr>\n",
       "    <tr>\n",
       "      <th>Florida</th>\n",
       "      <td>1.575610</td>\n",
       "    </tr>\n",
       "  </tbody>\n",
       "</table>\n",
       "</div>"
      ],
      "text/plain": [
       "                          mean\n",
       "state                         \n",
       "Alabama               1.172872\n",
       "Alaska                1.294831\n",
       "Arizona               1.485918\n",
       "Arkansas              1.114395\n",
       "California            1.673079\n",
       "Colorado              1.361258\n",
       "Connecticut           1.274466\n",
       "Delaware              1.311808\n",
       "District of Columbia  1.357334\n",
       "Florida               1.575610"
      ]
     },
     "execution_count": 111,
     "metadata": {},
     "output_type": "execute_result"
    }
   ],
   "source": [
    "rent_perc_of_income= rent_state_mean/income_state_mean*100\n",
    "rent_perc_of_income.head(10)"
   ]
  },
  {
   "cell_type": "code",
   "execution_count": 113,
   "id": "d5bc3166-4255-4e76-884d-50994485c609",
   "metadata": {
    "tags": []
   },
   "outputs": [
    {
     "data": {
      "text/plain": [
       "0.01336978883332846"
      ]
     },
     "execution_count": 113,
     "metadata": {},
     "output_type": "execute_result"
    }
   ],
   "source": [
    "sum(df_combine['rent_mean'])/sum(df_combine['family_mean'])"
   ]
  },
  {
   "cell_type": "raw",
   "id": "600dfa18-8fd7-4bc6-84e5-a8d377c6ce1b",
   "metadata": {},
   "source": [
    "4.Perform correlation analysis for all the relevant variables by creating a heatmap. Describe your findings."
   ]
  },
  {
   "cell_type": "code",
   "execution_count": 115,
   "id": "7e563c7e-1e02-4ba1-98d9-e3f68abbed07",
   "metadata": {
    "tags": []
   },
   "outputs": [
    {
     "data": {
      "image/png": "[encoded data removed]",
      "text/plain": [
       "<Figure size 1200x800 with 2 Axes>"
      ]
     },
     "metadata": {},
     "output_type": "display_data"
    }
   ],
   "source": [
    "plt.figure(figsize=(12,8))\n",
    "sns.heatmap(data=df_combine[['hc_mortgage_mean', 'ALand', 'pop', 'rent_mean', 'hi_mean' ,'hc_mean' ,\n",
    "                             'family_mean', 'hs_degree' ,'debt' ,'home_equity']].corr(), annot=True)\n",
    "plt.show()"
   ]
  },
  {
   "cell_type": "raw",
   "id": "2719d6ea-1c93-4135-906c-f37ce9fb0f2b",
   "metadata": {},
   "source": [
    "Project Task: Week 3\n",
    "Data Pre-processing:\n",
    "\n",
    "1. The economic multivariate data has a significant number of measured variables. The goal is to find where the measured variables depend on a number of smaller unobserved common factors or latent variables. 2. Each variable is assumed to be dependent upon a linear combination of the common factors, and the coefficients are known as loadings. Each measured variable also includes a component due to independent      random variability, known as “specific variance” because it is specific to one variable. Obtain the common factors and then plot the loadings. Use factor analysis to find latent variables in our dataset and gain          insight into the linear relationships in the data. Following are the list of latent variables:\n",
    "\n",
    "• Highschool graduation rates\n",
    "\n",
    "• Median population age\n",
    "\n",
    "• Second mortgage statistics\n",
    "\n",
    "• Percent own\n",
    "\n",
    "• Bad debt expense"
   ]
  },
  {
   "cell_type": "code",
   "execution_count": 116,
   "id": "7bc68d53-036c-4eb5-9e56-577cfb12494a",
   "metadata": {
    "tags": []
   },
   "outputs": [
    {
     "name": "stdout",
     "output_type": "stream",
     "text": [
      "Collecting factor_analyzer\n",
      "  Downloading factor_analyzer-0.5.1.tar.gz (42 kB)\n",
      "\u001b[2K     \u001b[90m━━━━━━━━━━━━━━━━━━━━━━━━━━━━━━━━━━━━━━━━\u001b[0m \u001b[32m42.8/42.8 kB\u001b[0m \u001b[31m1.5 MB/s\u001b[0m eta \u001b[36m0:00:00\u001b[0m\n",
      "\u001b[?25h  Installing build dependencies ... \u001b[?25ldone\n",
      "\u001b[?25h  Getting requirements to build wheel ... \u001b[?25ldone\n",
      "\u001b[?25h  Installing backend dependencies ... \u001b[?25ldone\n",
      "\u001b[?25h  Preparing metadata (pyproject.toml) ... \u001b[?25ldone\n",
      "\u001b[?25hRequirement already satisfied: pandas in /Users/shaktipathak/anaconda3/lib/python3.11/site-packages (from factor_analyzer) (2.0.3)\n",
      "Requirement already satisfied: scipy in /Users/shaktipathak/anaconda3/lib/python3.11/site-packages (from factor_analyzer) (1.11.1)\n",
      "Requirement already satisfied: numpy in /Users/shaktipathak/anaconda3/lib/python3.11/site-packages (from factor_analyzer) (1.24.3)\n",
      "Requirement already satisfied: scikit-learn in /Users/shaktipathak/anaconda3/lib/python3.11/site-packages (from factor_analyzer) (1.3.0)\n",
      "Requirement already satisfied: python-dateutil>=2.8.2 in /Users/shaktipathak/anaconda3/lib/python3.11/site-packages (from pandas->factor_analyzer) (2.8.2)\n",
      "Requirement already satisfied: pytz>=2020.1 in /Users/shaktipathak/anaconda3/lib/python3.11/site-packages (from pandas->factor_analyzer) (2023.3.post1)\n",
      "Requirement already satisfied: tzdata>=2022.1 in /Users/shaktipathak/anaconda3/lib/python3.11/site-packages (from pandas->factor_analyzer) (2023.3)\n",
      "Requirement already satisfied: joblib>=1.1.1 in /Users/shaktipathak/anaconda3/lib/python3.11/site-packages (from scikit-learn->factor_analyzer) (1.2.0)\n",
      "Requirement already satisfied: threadpoolctl>=2.0.0 in /Users/shaktipathak/anaconda3/lib/python3.11/site-packages (from scikit-learn->factor_analyzer) (2.2.0)\n",
      "Requirement already satisfied: six>=1.5 in /Users/shaktipathak/anaconda3/lib/python3.11/site-packages (from python-dateutil>=2.8.2->pandas->factor_analyzer) (1.16.0)\n",
      "Building wheels for collected packages: factor_analyzer\n",
      "  Building wheel for factor_analyzer (pyproject.toml) ... \u001b[?25ldone\n",
      "\u001b[?25h  Created wheel for factor_analyzer: filename=factor_analyzer-0.5.1-py2.py3-none-any.whl size=42564 sha256=7b3f82e553d09a124f0ce6c01a8378c57506c943346c2d2b22b864e6dc5e9f8f\n",
      "  Stored in directory: /Users/shaktipathak/Library/Caches/pip/wheels/fa/f7/53/a55a8a56668a6fe0199e0e02b6e0ae3007ec35cdf6e4c25df7\n",
      "Successfully built factor_analyzer\n",
      "Installing collected packages: factor_analyzer\n",
      "Successfully installed factor_analyzer-0.5.1\n"
     ]
    }
   ],
   "source": [
    "!pip install factor_analyzer"
   ]
  },
  {
   "cell_type": "code",
   "execution_count": 117,
   "id": "66b03303-dfa6-46c9-9430-071d5977782d",
   "metadata": {
    "tags": []
   },
   "outputs": [],
   "source": [
    "from sklearn.decomposition import FactorAnalysis\n",
    "from factor_analyzer import FactorAnalyzer"
   ]
  },
  {
   "cell_type": "code",
   "execution_count": 118,
   "id": "aede61f3-1814-440d-916b-b1ece520328d",
   "metadata": {
    "tags": []
   },
   "outputs": [
    {
     "data": {
      "text/html": [
       "<div>\n",
       "<style scoped>\n",
       "    .dataframe tbody tr th:only-of-type {\n",
       "        vertical-align: middle;\n",
       "    }\n",
       "\n",
       "    .dataframe tbody tr th {\n",
       "        vertical-align: top;\n",
       "    }\n",
       "\n",
       "    .dataframe thead th {\n",
       "        text-align: right;\n",
       "    }\n",
       "</style>\n",
       "<table border=\"1\" class=\"dataframe\">\n",
       "  <thead>\n",
       "    <tr style=\"text-align: right;\">\n",
       "      <th></th>\n",
       "      <th>count</th>\n",
       "      <th>mean</th>\n",
       "      <th>std</th>\n",
       "      <th>min</th>\n",
       "      <th>25%</th>\n",
       "      <th>50%</th>\n",
       "      <th>75%</th>\n",
       "      <th>max</th>\n",
       "    </tr>\n",
       "  </thead>\n",
       "  <tbody>\n",
       "    <tr>\n",
       "      <th>COUNTYID</th>\n",
       "      <td>27321.0</td>\n",
       "      <td>85.646426</td>\n",
       "      <td>98.333097</td>\n",
       "      <td>1.000000</td>\n",
       "      <td>29.000000</td>\n",
       "      <td>63.000000</td>\n",
       "      <td>109.000000</td>\n",
       "      <td>840.000000</td>\n",
       "    </tr>\n",
       "    <tr>\n",
       "      <th>STATEID</th>\n",
       "      <td>27321.0</td>\n",
       "      <td>28.271806</td>\n",
       "      <td>16.392846</td>\n",
       "      <td>1.000000</td>\n",
       "      <td>13.000000</td>\n",
       "      <td>28.000000</td>\n",
       "      <td>42.000000</td>\n",
       "      <td>72.000000</td>\n",
       "    </tr>\n",
       "    <tr>\n",
       "      <th>zip_code</th>\n",
       "      <td>27321.0</td>\n",
       "      <td>50081.999524</td>\n",
       "      <td>29558.115660</td>\n",
       "      <td>602.000000</td>\n",
       "      <td>26554.000000</td>\n",
       "      <td>47715.000000</td>\n",
       "      <td>77093.000000</td>\n",
       "      <td>99925.000000</td>\n",
       "    </tr>\n",
       "    <tr>\n",
       "      <th>area_code</th>\n",
       "      <td>27321.0</td>\n",
       "      <td>596.507668</td>\n",
       "      <td>232.497482</td>\n",
       "      <td>201.000000</td>\n",
       "      <td>405.000000</td>\n",
       "      <td>614.000000</td>\n",
       "      <td>801.000000</td>\n",
       "      <td>989.000000</td>\n",
       "    </tr>\n",
       "    <tr>\n",
       "      <th>lat</th>\n",
       "      <td>27321.0</td>\n",
       "      <td>37.508813</td>\n",
       "      <td>5.588268</td>\n",
       "      <td>17.929085</td>\n",
       "      <td>33.899064</td>\n",
       "      <td>38.755183</td>\n",
       "      <td>41.380606</td>\n",
       "      <td>67.074017</td>\n",
       "    </tr>\n",
       "    <tr>\n",
       "      <th>...</th>\n",
       "      <td>...</td>\n",
       "      <td>...</td>\n",
       "      <td>...</td>\n",
       "      <td>...</td>\n",
       "      <td>...</td>\n",
       "      <td>...</td>\n",
       "      <td>...</td>\n",
       "      <td>...</td>\n",
       "    </tr>\n",
       "    <tr>\n",
       "      <th>divorced</th>\n",
       "      <td>27321.0</td>\n",
       "      <td>0.100248</td>\n",
       "      <td>0.048883</td>\n",
       "      <td>0.000000</td>\n",
       "      <td>0.066080</td>\n",
       "      <td>0.095640</td>\n",
       "      <td>0.128710</td>\n",
       "      <td>1.000000</td>\n",
       "    </tr>\n",
       "    <tr>\n",
       "      <th>bad_debt</th>\n",
       "      <td>27321.0</td>\n",
       "      <td>0.105099</td>\n",
       "      <td>0.070907</td>\n",
       "      <td>0.000000</td>\n",
       "      <td>0.052790</td>\n",
       "      <td>0.100330</td>\n",
       "      <td>0.148330</td>\n",
       "      <td>1.000000</td>\n",
       "    </tr>\n",
       "    <tr>\n",
       "      <th>remaining_mean</th>\n",
       "      <td>27321.0</td>\n",
       "      <td>-8546.347683</td>\n",
       "      <td>8673.104928</td>\n",
       "      <td>-220811.945230</td>\n",
       "      <td>-11675.463530</td>\n",
       "      <td>-7588.453550</td>\n",
       "      <td>-3820.262510</td>\n",
       "      <td>184643.357100</td>\n",
       "    </tr>\n",
       "    <tr>\n",
       "      <th>pop_density</th>\n",
       "      <td>27321.0</td>\n",
       "      <td>0.002067</td>\n",
       "      <td>0.004597</td>\n",
       "      <td>0.000000</td>\n",
       "      <td>0.000120</td>\n",
       "      <td>0.000851</td>\n",
       "      <td>0.002060</td>\n",
       "      <td>0.076536</td>\n",
       "    </tr>\n",
       "    <tr>\n",
       "      <th>age_median</th>\n",
       "      <td>27321.0</td>\n",
       "      <td>39.329896</td>\n",
       "      <td>5.514791</td>\n",
       "      <td>17.899625</td>\n",
       "      <td>36.125020</td>\n",
       "      <td>39.352300</td>\n",
       "      <td>42.306265</td>\n",
       "      <td>78.155085</td>\n",
       "    </tr>\n",
       "  </tbody>\n",
       "</table>\n",
       "<p>75 rows × 8 columns</p>\n",
       "</div>"
      ],
      "text/plain": [
       "                  count          mean           std            min  \\\n",
       "COUNTYID        27321.0     85.646426     98.333097       1.000000   \n",
       "STATEID         27321.0     28.271806     16.392846       1.000000   \n",
       "zip_code        27321.0  50081.999524  29558.115660     602.000000   \n",
       "area_code       27321.0    596.507668    232.497482     201.000000   \n",
       "lat             27321.0     37.508813      5.588268      17.929085   \n",
       "...                 ...           ...           ...            ...   \n",
       "divorced        27321.0      0.100248      0.048883       0.000000   \n",
       "bad_debt        27321.0      0.105099      0.070907       0.000000   \n",
       "remaining_mean  27321.0  -8546.347683   8673.104928 -220811.945230   \n",
       "pop_density     27321.0      0.002067      0.004597       0.000000   \n",
       "age_median      27321.0     39.329896      5.514791      17.899625   \n",
       "\n",
       "                         25%           50%           75%            max  \n",
       "COUNTYID           29.000000     63.000000    109.000000     840.000000  \n",
       "STATEID            13.000000     28.000000     42.000000      72.000000  \n",
       "zip_code        26554.000000  47715.000000  77093.000000   99925.000000  \n",
       "area_code         405.000000    614.000000    801.000000     989.000000  \n",
       "lat                33.899064     38.755183     41.380606      67.074017  \n",
       "...                      ...           ...           ...            ...  \n",
       "divorced            0.066080      0.095640      0.128710       1.000000  \n",
       "bad_debt            0.052790      0.100330      0.148330       1.000000  \n",
       "remaining_mean -11675.463530  -7588.453550  -3820.262510  184643.357100  \n",
       "pop_density         0.000120      0.000851      0.002060       0.076536  \n",
       "age_median         36.125020     39.352300     42.306265      78.155085  \n",
       "\n",
       "[75 rows x 8 columns]"
      ]
     },
     "execution_count": 118,
     "metadata": {},
     "output_type": "execute_result"
    }
   ],
   "source": [
    "train_set.describe().T"
   ]
  },
  {
   "cell_type": "code",
   "execution_count": 119,
   "id": "ddecd91e-f90d-4eb3-a14a-bbb60b8afbda",
   "metadata": {
    "tags": []
   },
   "outputs": [
    {
     "data": {
      "text/plain": [
       "array([[-0.12625201,  0.01771427, -0.02329066, -0.06320425,  0.02458729],\n",
       "       [-0.12711599,  0.01265855,  0.03281462, -0.15193612,  0.08825691],\n",
       "       [-0.08145707,  0.04879203, -0.15181458, -0.05036843, -0.10415664],\n",
       "       [ 0.00818719,  0.01706126,  0.00389366,  0.02854883, -0.02527497],\n",
       "       [ 0.13517248, -0.09383362, -0.08857305, -0.14048025, -0.09205585],\n",
       "       [-0.01411394, -0.03976176,  0.15751865,  0.00786014,  0.09982027],\n",
       "       [-0.05578263, -0.02252885,  0.0355022 , -0.09517912,  0.03570714],\n",
       "       [-0.0083295 , -0.01576075, -0.00296591, -0.04537518,  0.01588676],\n",
       "       [ 0.08224547,  0.96028182, -0.06089051, -0.0037394 , -0.02378976],\n",
       "       [ 0.07374488,  0.92103271, -0.08552541, -0.02532779, -0.02686951],\n",
       "       [ 0.08715097,  0.95115115, -0.03304431,  0.01824582, -0.01954565],\n",
       "       [ 0.76817812,  0.01060417, -0.03879558,  0.12756417, -0.12833834],\n",
       "       [ 0.71624893,  0.00617168, -0.05137251,  0.12099796, -0.1430677 ],\n",
       "       [ 0.69937848,  0.03206258,  0.02435355,  0.11688057,  0.09817339],\n",
       "       [-0.14275002,  0.36032688, -0.41007849, -0.04851056,  0.46108752],\n",
       "       [ 0.22297016,  0.46903591, -0.54447074, -0.02813268,  0.52982765],\n",
       "       [-0.02067743,  0.03416068,  0.02956552,  0.44763491, -0.13666892],\n",
       "       [-0.00571803,  0.01631448,  0.05599377,  0.6827345 , -0.12683868],\n",
       "       [-0.03338045, -0.01741225,  0.10536207,  0.84632216, -0.07319724],\n",
       "       [-0.05749725, -0.03692747,  0.14310108,  0.93742065, -0.0383234 ],\n",
       "       [-0.07491889, -0.04649785,  0.17018658,  0.96662194, -0.02935383],\n",
       "       [-0.06555915, -0.05521378,  0.17682276,  0.94687211, -0.01490154],\n",
       "       [-0.06296142, -0.0615144 ,  0.16436191,  0.90100876, -0.00450448],\n",
       "       [-0.04599977, -0.07451321,  0.12895933,  0.79139916,  0.01894872],\n",
       "       [ 0.20119728,  0.49733988, -0.5161116 , -0.02745842,  0.54364102],\n",
       "       [ 0.22590356,  0.47828453, -0.53305314, -0.03007968,  0.5248407 ],\n",
       "       [ 0.80183706,  0.04726164,  0.11894226, -0.1981346 , -0.18169055],\n",
       "       [ 0.72966222,  0.04578227,  0.09443614, -0.21366821, -0.24533875],\n",
       "       [ 0.87024365,  0.04870022,  0.17989368, -0.11002831,  0.03173193],\n",
       "       [-0.22003901,  0.86141971,  0.02557809,  0.06674647,  0.29846776],\n",
       "       [ 0.16388155,  0.96570722,  0.07627131, -0.04535224,  0.16009595],\n",
       "       [ 0.85894388,  0.03740026,  0.15600239, -0.19791009, -0.06679994],\n",
       "       [ 0.82097294,  0.03032022,  0.14148685, -0.20130452, -0.08963064],\n",
       "       [ 0.83133194,  0.05154799,  0.16762752, -0.09959402,  0.08666428],\n",
       "       [-0.34967968,  0.86503948,  0.06236815,  0.0899749 ,  0.02973371],\n",
       "       [ 0.06440369,  0.93428929,  0.1584415 , -0.02382007, -0.11245563],\n",
       "       [ 0.96377756, -0.02372063, -0.07301209,  0.05820622,  0.10229368],\n",
       "       [ 0.94317497, -0.03002821, -0.09003465,  0.05834771,  0.09323775],\n",
       "       [ 0.80819284,  0.01114501,  0.11198238,  0.0312038 ,  0.14587055],\n",
       "       [-0.36080423,  0.70877608,  0.30176551, -0.07966858, -0.30835367],\n",
       "       [ 0.135795  ,  0.71821855,  0.23499359, -0.05043951, -0.37053894],\n",
       "       [ 0.8890001 , -0.04343563, -0.00615026,  0.01156683,  0.18444396],\n",
       "       [ 0.85228845, -0.04324238, -0.02049376,  0.01021224,  0.17315276],\n",
       "       [ 0.72400958,  0.00598376,  0.10590037,  0.01664988,  0.26055025],\n",
       "       [-0.14851242,  0.6023894 ,  0.66641341, -0.01614597,  0.14130606],\n",
       "       [-0.36765355,  0.55249865,  0.61233105, -0.02279045,  0.10982503],\n",
       "       [-0.0260995 , -0.01427359, -0.23676261,  0.09053024, -0.52079729],\n",
       "       [-0.00097127, -0.02048589, -0.23850838,  0.10645477, -0.52818252],\n",
       "       [ 0.38349773, -0.02214131, -0.10105871,  0.08097602, -0.50574387],\n",
       "       [ 0.30695817,  0.07809715, -0.37399235,  0.01381462, -0.51687674],\n",
       "       [-0.03042472, -0.06083678,  0.05383832, -0.07765602,  0.57068579],\n",
       "       [-0.40591613, -0.00912972,  0.03913453, -0.07986753,  0.51610721],\n",
       "       [-0.31434731, -0.07282645,  0.42387954, -0.01106875,  0.526189  ],\n",
       "       [ 0.4723525 ,  0.06549255,  0.23130284, -0.22576496, -0.13146069],\n",
       "       [ 0.48190537,  0.06775323,  0.2032323 , -0.21475642, -0.11752199],\n",
       "       [ 0.42900604,  0.05732991,  0.24431755, -0.22251281, -0.13357581],\n",
       "       [ 0.23886117, -0.04434776,  0.8629075 ,  0.10176859,  0.27663973],\n",
       "       [ 0.24619795, -0.03312647,  0.85090855,  0.07775454,  0.17472126],\n",
       "       [-0.06361233,  0.06174005,  0.59022734,  0.08970166,  0.01937041],\n",
       "       [ 0.05200666,  0.82015959, -0.15514722, -0.01300036, -0.01508949],\n",
       "       [ 0.07174121,  0.92555129, -0.08444801, -0.02524988, -0.031852  ],\n",
       "       [ 0.2014696 , -0.04134816,  0.85993818,  0.15318115,  0.29612126],\n",
       "       [ 0.19637341, -0.03163323,  0.88483669,  0.13540478,  0.18913081],\n",
       "       [-0.09867509,  0.05884676,  0.48605183,  0.0758981 ,  0.06384273],\n",
       "       [ 0.06532239,  0.88131659, -0.12189091,  0.0251622 , -0.01349189],\n",
       "       [ 0.08530894,  0.95766567, -0.03184175,  0.01939161, -0.0246133 ],\n",
       "       [ 0.00438859,  0.09172908,  0.71733042, -0.04263379, -0.41909805],\n",
       "       [ 0.19465938,  0.17963746,  0.51882504, -0.12070011, -0.2310011 ],\n",
       "       [-0.11208313, -0.06626324, -0.23459616,  0.13265715,  0.19565232],\n",
       "       [-0.18669656, -0.06797431, -0.12154418,  0.12524   ,  0.15304759],\n",
       "       [-0.34310389, -0.04933507,  0.16075332,  0.02199661,  0.13486575],\n",
       "       [ 0.38279034, -0.02523425, -0.10821086,  0.09030048, -0.51547178],\n",
       "       [-0.27308396,  0.033144  , -0.13532805,  0.02210046, -0.32035727],\n",
       "       [ 0.30174695,  0.00312737, -0.33093276,  0.06688328,  0.34725156],\n",
       "       [ 0.23059394, -0.04369868,  0.9030566 ,  0.13667414,  0.30269948]])"
      ]
     },
     "execution_count": 119,
     "metadata": {},
     "output_type": "execute_result"
    }
   ],
   "source": [
    "fa= FactorAnalyzer(n_factors= 5)\n",
    "fa.fit_transform(train_set.select_dtypes(exclude=('object', 'category')))\n",
    "fa.loadings_"
   ]
  },
  {
   "cell_type": "raw",
   "id": "733aa277-0c73-476c-be3b-343056082775",
   "metadata": {},
   "source": [
    "Project Task: Week 4\n",
    "Data Modeling :\n",
    "\n",
    "1. Build a linear Regression model to predict the total monthly expenditure for home mortgages loan. Please refer ‘deplotment_RE.xlsx’. Column hc_mortgage_mean is predicted variable. This is the mean monthly     mortgage and owner costs of specified geographical location. Note: Exclude loans from prediction model which have NaN (Not a Number) values for hc_mortgage_mean.\n",
    "\n",
    "a) Run a model at a Nation level. If the accuracy levels and R square are not satisfactory proceed to below step.\n",
    "\n",
    "b) Run another model at State level. There are 52 states in USA.\n",
    "\n",
    "c) Keep below considerations while building a linear regression model. Data Modeling :\n",
    "\n",
    "• Variables should have significant impact on predicting Monthly mortgage and owner costs\n",
    "\n",
    "• Utilize all predictor variable to start with initial hypothesis\n",
    "\n",
    "• R square of 60 percent and above should be achieved\n",
    "\n",
    "• Ensure Multi-collinearity does not exist in dependent variables\n",
    "\n",
    "• Test if predicted variable is normally distributed"
   ]
  },
  {
   "cell_type": "code",
   "execution_count": 120,
   "id": "0a0ecc8b-d43e-4df8-b8e9-ca86e047268e",
   "metadata": {
    "tags": []
   },
   "outputs": [
    {
     "data": {
      "text/plain": [
       "Index(['COUNTYID', 'STATEID', 'state', 'state_ab', 'city', 'place', 'type',\n",
       "       'primary', 'zip_code', 'area_code', 'lat', 'lng', 'ALand', 'AWater',\n",
       "       'pop', 'male_pop', 'female_pop', 'rent_mean', 'rent_median',\n",
       "       'rent_stdev', 'rent_sample_weight', 'rent_samples', 'rent_gt_10',\n",
       "       'rent_gt_15', 'rent_gt_20', 'rent_gt_25', 'rent_gt_30', 'rent_gt_35',\n",
       "       'rent_gt_40', 'rent_gt_50', 'universe_samples', 'used_samples',\n",
       "       'hi_mean', 'hi_median', 'hi_stdev', 'hi_sample_weight', 'hi_samples',\n",
       "       'family_mean', 'family_median', 'family_stdev', 'family_sample_weight',\n",
       "       'family_samples', 'hc_mortgage_mean', 'hc_mortgage_median',\n",
       "       'hc_mortgage_stdev', 'hc_mortgage_sample_weight', 'hc_mortgage_samples',\n",
       "       'hc_mean', 'hc_median', 'hc_stdev', 'hc_samples', 'hc_sample_weight',\n",
       "       'home_equity_second_mortgage', 'second_mortgage', 'home_equity', 'debt',\n",
       "       'second_mortgage_cdf', 'home_equity_cdf', 'debt_cdf', 'hs_degree',\n",
       "       'hs_degree_male', 'hs_degree_female', 'male_age_mean',\n",
       "       'male_age_median', 'male_age_stdev', 'male_age_sample_weight',\n",
       "       'male_age_samples', 'female_age_mean', 'female_age_median',\n",
       "       'female_age_stdev', 'female_age_sample_weight', 'female_age_samples',\n",
       "       'pct_own', 'married', 'married_snp', 'separated', 'divorced',\n",
       "       'bad_debt', 'bins', 'remaining_mean', 'pop_density', 'age_median'],\n",
       "      dtype='object')"
      ]
     },
     "execution_count": 120,
     "metadata": {},
     "output_type": "execute_result"
    }
   ],
   "source": [
    "train_set.columns"
   ]
  },
  {
   "cell_type": "code",
   "execution_count": 121,
   "id": "8bba8070-0f34-4342-9b24-ad4cdc3c3e35",
   "metadata": {
    "tags": []
   },
   "outputs": [
    {
     "data": {
      "text/plain": [
       "array(['City', 'Urban', 'Town', 'CDP', 'Village', 'Borough'], dtype=object)"
      ]
     },
     "execution_count": 121,
     "metadata": {},
     "output_type": "execute_result"
    }
   ],
   "source": [
    "train_set['type'].unique()"
   ]
  },
  {
   "cell_type": "code",
   "execution_count": 123,
   "id": "09909e57-ecb5-4fca-851d-3ee46ff96370",
   "metadata": {
    "tags": []
   },
   "outputs": [],
   "source": [
    "from sklearn.preprocessing import LabelEncoder\n",
    "le =LabelEncoder()"
   ]
  },
  {
   "cell_type": "code",
   "execution_count": 124,
   "id": "32c2ea79-038d-4793-a8bf-c3ca4dc54bc8",
   "metadata": {
    "tags": []
   },
   "outputs": [],
   "source": [
    "train_set['type_enc']= le.fit_transform(train_set['type'])"
   ]
  },
  {
   "cell_type": "code",
   "execution_count": 126,
   "id": "c6a1a6eb-8415-4ccc-a4cc-875b1c7ed0b1",
   "metadata": {
    "tags": []
   },
   "outputs": [
    {
     "data": {
      "text/plain": [
       "type_enc\n",
       "2    15237\n",
       "3     3666\n",
       "1     3658\n",
       "5     3216\n",
       "0     1226\n",
       "4      318\n",
       "Name: count, dtype: int64"
      ]
     },
     "execution_count": 126,
     "metadata": {},
     "output_type": "execute_result"
    }
   ],
   "source": [
    "train_set['type_enc'].value_counts()"
   ]
  },
  {
   "cell_type": "code",
   "execution_count": 127,
   "id": "1a6eefa1-cd8f-4f04-83d5-696a68aa95b4",
   "metadata": {
    "tags": []
   },
   "outputs": [
    {
     "data": {
      "text/plain": [
       "array([2, 4, 3, 1, 5, 0])"
      ]
     },
     "execution_count": 127,
     "metadata": {},
     "output_type": "execute_result"
    }
   ],
   "source": [
    "train_set['type_enc'].unique()"
   ]
  },
  {
   "cell_type": "code",
   "execution_count": 128,
   "id": "03fd660f-2959-4fd8-8c6c-0b3a85e2eecd",
   "metadata": {
    "tags": []
   },
   "outputs": [],
   "source": [
    "test_set['type_enc']= le.fit_transform(test_set['type'])"
   ]
  },
  {
   "cell_type": "code",
   "execution_count": 129,
   "id": "693a0fa8-5004-43f4-9226-2a54ecd1693e",
   "metadata": {
    "tags": []
   },
   "outputs": [
    {
     "data": {
      "text/plain": [
       "array([1, 2, 0, 3, 5, 4])"
      ]
     },
     "execution_count": 129,
     "metadata": {},
     "output_type": "execute_result"
    }
   ],
   "source": [
    "test_set['type_enc'].unique()"
   ]
  },
  {
   "cell_type": "code",
   "execution_count": 143,
   "id": "63e75b8c-2f6b-4cb0-b6ef-add3c03124d2",
   "metadata": {
    "tags": []
   },
   "outputs": [],
   "source": [
    "feature_cols= ['COUNTYID','STATEID','zip_code','type_enc','pop',\n",
    "'family_mean','second_mortgage', 'home_equity', 'debt','hs_degree',\n",
    "              'pct_own', 'married','separated', 'divorced']"
   ]
  },
  {
   "cell_type": "code",
   "execution_count": 144,
   "id": "c0ad32f8-bc2f-49a8-8956-5628c546b8e0",
   "metadata": {
    "tags": []
   },
   "outputs": [],
   "source": [
    "X_train= train_set[feature_cols]\n",
    "Y_train= train_set['hc_mortgage_mean']"
   ]
  },
  {
   "cell_type": "code",
   "execution_count": 145,
   "id": "a2b2d8d4-071e-45fa-8376-e03e4d420c50",
   "metadata": {
    "tags": []
   },
   "outputs": [],
   "source": [
    "X_test=test_set[feature_cols]\n",
    "Y_test=test_set['hc_mortgage_mean']"
   ]
  },
  {
   "cell_type": "code",
   "execution_count": 133,
   "id": "1393ad5f-7783-4fe3-8eac-86a4e576c26e",
   "metadata": {
    "tags": []
   },
   "outputs": [],
   "source": [
    "from sklearn.preprocessing import StandardScaler \n",
    "from sklearn.linear_model import LinearRegression \n",
    "from sklearn.metrics import r2_score, mean_absolute_error,mean_squared_error,accuracy_score\n"
   ]
  },
  {
   "cell_type": "code",
   "execution_count": 134,
   "id": "3d1be0c7-ed5c-49b1-b85a-71aed4cbaefb",
   "metadata": {
    "tags": []
   },
   "outputs": [
    {
     "data": {
      "text/html": [
       "<div>\n",
       "<style scoped>\n",
       "    .dataframe tbody tr th:only-of-type {\n",
       "        vertical-align: middle;\n",
       "    }\n",
       "\n",
       "    .dataframe tbody tr th {\n",
       "        vertical-align: top;\n",
       "    }\n",
       "\n",
       "    .dataframe thead th {\n",
       "        text-align: right;\n",
       "    }\n",
       "</style>\n",
       "<table border=\"1\" class=\"dataframe\">\n",
       "  <thead>\n",
       "    <tr style=\"text-align: right;\">\n",
       "      <th></th>\n",
       "      <th>COUNTYID</th>\n",
       "      <th>STATEID</th>\n",
       "      <th>zip_code</th>\n",
       "      <th>type</th>\n",
       "      <th>pop</th>\n",
       "      <th>family_mean</th>\n",
       "      <th>second_mortgage</th>\n",
       "      <th>home_equity</th>\n",
       "      <th>debt</th>\n",
       "      <th>hs_degree</th>\n",
       "      <th>pct_own</th>\n",
       "      <th>married</th>\n",
       "      <th>separated</th>\n",
       "      <th>divorced</th>\n",
       "    </tr>\n",
       "    <tr>\n",
       "      <th>UID</th>\n",
       "      <th></th>\n",
       "      <th></th>\n",
       "      <th></th>\n",
       "      <th></th>\n",
       "      <th></th>\n",
       "      <th></th>\n",
       "      <th></th>\n",
       "      <th></th>\n",
       "      <th></th>\n",
       "      <th></th>\n",
       "      <th></th>\n",
       "      <th></th>\n",
       "      <th></th>\n",
       "      <th></th>\n",
       "    </tr>\n",
       "  </thead>\n",
       "  <tbody>\n",
       "    <tr>\n",
       "      <th>267822</th>\n",
       "      <td>53</td>\n",
       "      <td>36</td>\n",
       "      <td>13346</td>\n",
       "      <td>City</td>\n",
       "      <td>5230</td>\n",
       "      <td>67994.14790</td>\n",
       "      <td>0.02077</td>\n",
       "      <td>0.08919</td>\n",
       "      <td>0.52963</td>\n",
       "      <td>0.89288</td>\n",
       "      <td>0.79046</td>\n",
       "      <td>0.57851</td>\n",
       "      <td>0.01240</td>\n",
       "      <td>0.08770</td>\n",
       "    </tr>\n",
       "    <tr>\n",
       "      <th>246444</th>\n",
       "      <td>141</td>\n",
       "      <td>18</td>\n",
       "      <td>46616</td>\n",
       "      <td>City</td>\n",
       "      <td>2633</td>\n",
       "      <td>50670.10337</td>\n",
       "      <td>0.02222</td>\n",
       "      <td>0.04274</td>\n",
       "      <td>0.60855</td>\n",
       "      <td>0.90487</td>\n",
       "      <td>0.52483</td>\n",
       "      <td>0.34886</td>\n",
       "      <td>0.01426</td>\n",
       "      <td>0.09030</td>\n",
       "    </tr>\n",
       "    <tr>\n",
       "      <th>245683</th>\n",
       "      <td>63</td>\n",
       "      <td>18</td>\n",
       "      <td>46122</td>\n",
       "      <td>City</td>\n",
       "      <td>6881</td>\n",
       "      <td>95262.51431</td>\n",
       "      <td>0.00000</td>\n",
       "      <td>0.09512</td>\n",
       "      <td>0.73484</td>\n",
       "      <td>0.94288</td>\n",
       "      <td>0.85331</td>\n",
       "      <td>0.64745</td>\n",
       "      <td>0.01607</td>\n",
       "      <td>0.10657</td>\n",
       "    </tr>\n",
       "    <tr>\n",
       "      <th>279653</th>\n",
       "      <td>127</td>\n",
       "      <td>72</td>\n",
       "      <td>927</td>\n",
       "      <td>Urban</td>\n",
       "      <td>2700</td>\n",
       "      <td>56401.68133</td>\n",
       "      <td>0.01086</td>\n",
       "      <td>0.01086</td>\n",
       "      <td>0.52714</td>\n",
       "      <td>0.91500</td>\n",
       "      <td>0.65037</td>\n",
       "      <td>0.47257</td>\n",
       "      <td>0.02021</td>\n",
       "      <td>0.10106</td>\n",
       "    </tr>\n",
       "    <tr>\n",
       "      <th>247218</th>\n",
       "      <td>161</td>\n",
       "      <td>20</td>\n",
       "      <td>66502</td>\n",
       "      <td>City</td>\n",
       "      <td>5637</td>\n",
       "      <td>54053.42396</td>\n",
       "      <td>0.05426</td>\n",
       "      <td>0.05426</td>\n",
       "      <td>0.51938</td>\n",
       "      <td>1.00000</td>\n",
       "      <td>0.13046</td>\n",
       "      <td>0.12356</td>\n",
       "      <td>0.00000</td>\n",
       "      <td>0.03109</td>\n",
       "    </tr>\n",
       "  </tbody>\n",
       "</table>\n",
       "</div>"
      ],
      "text/plain": [
       "        COUNTYID  STATEID  zip_code   type   pop  family_mean  \\\n",
       "UID                                                             \n",
       "267822        53       36     13346   City  5230  67994.14790   \n",
       "246444       141       18     46616   City  2633  50670.10337   \n",
       "245683        63       18     46122   City  6881  95262.51431   \n",
       "279653       127       72       927  Urban  2700  56401.68133   \n",
       "247218       161       20     66502   City  5637  54053.42396   \n",
       "\n",
       "        second_mortgage  home_equity     debt  hs_degree  pct_own  married  \\\n",
       "UID                                                                          \n",
       "267822          0.02077      0.08919  0.52963    0.89288  0.79046  0.57851   \n",
       "246444          0.02222      0.04274  0.60855    0.90487  0.52483  0.34886   \n",
       "245683          0.00000      0.09512  0.73484    0.94288  0.85331  0.64745   \n",
       "279653          0.01086      0.01086  0.52714    0.91500  0.65037  0.47257   \n",
       "247218          0.05426      0.05426  0.51938    1.00000  0.13046  0.12356   \n",
       "\n",
       "        separated  divorced  \n",
       "UID                          \n",
       "267822    0.01240   0.08770  \n",
       "246444    0.01426   0.09030  \n",
       "245683    0.01607   0.10657  \n",
       "279653    0.02021   0.10106  \n",
       "247218    0.00000   0.03109  "
      ]
     },
     "execution_count": 134,
     "metadata": {},
     "output_type": "execute_result"
    }
   ],
   "source": [
    "X_train.head()"
   ]
  },
  {
   "cell_type": "code",
   "execution_count": 136,
   "id": "f6eac72f-870c-4a03-8dc3-eae9ee1095a1",
   "metadata": {
    "tags": []
   },
   "outputs": [
    {
     "data": {
      "text/html": [
       "<div>\n",
       "<style scoped>\n",
       "    .dataframe tbody tr th:only-of-type {\n",
       "        vertical-align: middle;\n",
       "    }\n",
       "\n",
       "    .dataframe tbody tr th {\n",
       "        vertical-align: top;\n",
       "    }\n",
       "\n",
       "    .dataframe thead th {\n",
       "        text-align: right;\n",
       "    }\n",
       "</style>\n",
       "<table border=\"1\" class=\"dataframe\">\n",
       "  <thead>\n",
       "    <tr style=\"text-align: right;\">\n",
       "      <th></th>\n",
       "      <th>COUNTYID</th>\n",
       "      <th>STATEID</th>\n",
       "      <th>zip_code</th>\n",
       "      <th>type</th>\n",
       "      <th>pop</th>\n",
       "      <th>family_mean</th>\n",
       "      <th>second_mortgage</th>\n",
       "      <th>home_equity</th>\n",
       "      <th>debt</th>\n",
       "      <th>hs_degree</th>\n",
       "      <th>pct_own</th>\n",
       "      <th>married</th>\n",
       "      <th>separated</th>\n",
       "      <th>divorced</th>\n",
       "    </tr>\n",
       "    <tr>\n",
       "      <th>UID</th>\n",
       "      <th></th>\n",
       "      <th></th>\n",
       "      <th></th>\n",
       "      <th></th>\n",
       "      <th></th>\n",
       "      <th></th>\n",
       "      <th></th>\n",
       "      <th></th>\n",
       "      <th></th>\n",
       "      <th></th>\n",
       "      <th></th>\n",
       "      <th></th>\n",
       "      <th></th>\n",
       "      <th></th>\n",
       "    </tr>\n",
       "  </thead>\n",
       "  <tbody>\n",
       "    <tr>\n",
       "      <th>255504</th>\n",
       "      <td>163</td>\n",
       "      <td>26</td>\n",
       "      <td>48239</td>\n",
       "      <td>CDP</td>\n",
       "      <td>3417</td>\n",
       "      <td>53802.87122</td>\n",
       "      <td>0.06443</td>\n",
       "      <td>0.07651</td>\n",
       "      <td>0.63624</td>\n",
       "      <td>0.91047</td>\n",
       "      <td>0.70252</td>\n",
       "      <td>0.28217</td>\n",
       "      <td>0.03813</td>\n",
       "      <td>0.14299</td>\n",
       "    </tr>\n",
       "    <tr>\n",
       "      <th>252676</th>\n",
       "      <td>1</td>\n",
       "      <td>23</td>\n",
       "      <td>4210</td>\n",
       "      <td>City</td>\n",
       "      <td>3796</td>\n",
       "      <td>85642.22095</td>\n",
       "      <td>0.01175</td>\n",
       "      <td>0.14375</td>\n",
       "      <td>0.64755</td>\n",
       "      <td>0.94290</td>\n",
       "      <td>0.85128</td>\n",
       "      <td>0.64221</td>\n",
       "      <td>0.00000</td>\n",
       "      <td>0.13377</td>\n",
       "    </tr>\n",
       "    <tr>\n",
       "      <th>276314</th>\n",
       "      <td>15</td>\n",
       "      <td>42</td>\n",
       "      <td>14871</td>\n",
       "      <td>Borough</td>\n",
       "      <td>3944</td>\n",
       "      <td>65694.06582</td>\n",
       "      <td>0.01316</td>\n",
       "      <td>0.06497</td>\n",
       "      <td>0.45395</td>\n",
       "      <td>0.89238</td>\n",
       "      <td>0.81897</td>\n",
       "      <td>0.59961</td>\n",
       "      <td>0.01358</td>\n",
       "      <td>0.10026</td>\n",
       "    </tr>\n",
       "    <tr>\n",
       "      <th>248614</th>\n",
       "      <td>231</td>\n",
       "      <td>21</td>\n",
       "      <td>42633</td>\n",
       "      <td>City</td>\n",
       "      <td>2508</td>\n",
       "      <td>44156.38709</td>\n",
       "      <td>0.00995</td>\n",
       "      <td>0.01741</td>\n",
       "      <td>0.41915</td>\n",
       "      <td>0.60908</td>\n",
       "      <td>0.84609</td>\n",
       "      <td>0.56953</td>\n",
       "      <td>0.04694</td>\n",
       "      <td>0.12489</td>\n",
       "    </tr>\n",
       "    <tr>\n",
       "      <th>286865</th>\n",
       "      <td>355</td>\n",
       "      <td>48</td>\n",
       "      <td>78410</td>\n",
       "      <td>Town</td>\n",
       "      <td>6230</td>\n",
       "      <td>123527.02420</td>\n",
       "      <td>0.00000</td>\n",
       "      <td>0.03440</td>\n",
       "      <td>0.63188</td>\n",
       "      <td>0.86297</td>\n",
       "      <td>0.79077</td>\n",
       "      <td>0.57620</td>\n",
       "      <td>0.00588</td>\n",
       "      <td>0.16379</td>\n",
       "    </tr>\n",
       "  </tbody>\n",
       "</table>\n",
       "</div>"
      ],
      "text/plain": [
       "        COUNTYID  STATEID  zip_code     type   pop   family_mean  \\\n",
       "UID                                                                \n",
       "255504       163       26     48239      CDP  3417   53802.87122   \n",
       "252676         1       23      4210     City  3796   85642.22095   \n",
       "276314        15       42     14871  Borough  3944   65694.06582   \n",
       "248614       231       21     42633     City  2508   44156.38709   \n",
       "286865       355       48     78410     Town  6230  123527.02420   \n",
       "\n",
       "        second_mortgage  home_equity     debt  hs_degree  pct_own  married  \\\n",
       "UID                                                                          \n",
       "255504          0.06443      0.07651  0.63624    0.91047  0.70252  0.28217   \n",
       "252676          0.01175      0.14375  0.64755    0.94290  0.85128  0.64221   \n",
       "276314          0.01316      0.06497  0.45395    0.89238  0.81897  0.59961   \n",
       "248614          0.00995      0.01741  0.41915    0.60908  0.84609  0.56953   \n",
       "286865          0.00000      0.03440  0.63188    0.86297  0.79077  0.57620   \n",
       "\n",
       "        separated  divorced  \n",
       "UID                          \n",
       "255504    0.03813   0.14299  \n",
       "252676    0.00000   0.13377  \n",
       "276314    0.01358   0.10026  \n",
       "248614    0.04694   0.12489  \n",
       "286865    0.00588   0.16379  "
      ]
     },
     "execution_count": 136,
     "metadata": {},
     "output_type": "execute_result"
    }
   ],
   "source": [
    "X_test.head()"
   ]
  },
  {
   "cell_type": "raw",
   "id": "ec4bb95b-0830-4001-8bc8-738421167e05",
   "metadata": {},
   "source": [
    "a. Run a model at a Nation level. If the accuracy levels and R square are not satisfactory proceed to below step."
   ]
  },
  {
   "cell_type": "code",
   "execution_count": 146,
   "id": "5427de64-9304-452a-ba1c-8fb0db626bf5",
   "metadata": {
    "tags": []
   },
   "outputs": [],
   "source": [
    "sc= StandardScaler()\n"
   ]
  },
  {
   "cell_type": "code",
   "execution_count": 148,
   "id": "07ec01a2-402e-47c2-b07c-b1f80452a035",
   "metadata": {
    "tags": []
   },
   "outputs": [],
   "source": [
    "X_train_scaled= sc.fit_transform(X_train)\n",
    "X_test_scaled= sc.fit_transform(X_test)"
   ]
  },
  {
   "cell_type": "code",
   "execution_count": 149,
   "id": "77ce5a4a-e4c6-4e56-970a-113c024f0736",
   "metadata": {
    "tags": []
   },
   "outputs": [],
   "source": [
    "lr=LinearRegression()"
   ]
  },
  {
   "cell_type": "code",
   "execution_count": 150,
   "id": "bc45048d-86c7-48c5-8691-4d74b83d86b3",
   "metadata": {
    "tags": []
   },
   "outputs": [
    {
     "data": {
      "text/html": [
       "<style>#sk-container-id-1 {color: black;}#sk-container-id-1 pre{padding: 0;}#sk-container-id-1 div.sk-toggleable {background-color: white;}#sk-container-id-1 label.sk-toggleable__label {cursor: pointer;display: block;width: 100%;margin-bottom: 0;padding: 0.3em;box-sizing: border-box;text-align: center;}#sk-container-id-1 label.sk-toggleable__label-arrow:before {content: \"▸\";float: left;margin-right: 0.25em;color: #696969;}#sk-container-id-1 label.sk-toggleable__label-arrow:hover:before {color: black;}#sk-container-id-1 div.sk-estimator:hover label.sk-toggleable__label-arrow:before {color: black;}#sk-container-id-1 div.sk-toggleable__content {max-height: 0;max-width: 0;overflow: hidden;text-align: left;background-color: #f0f8ff;}#sk-container-id-1 div.sk-toggleable__content pre {margin: 0.2em;color: black;border-radius: 0.25em;background-color: #f0f8ff;}#sk-container-id-1 input.sk-toggleable__control:checked~div.sk-toggleable__content {max-height: 200px;max-width: 100%;overflow: auto;}#sk-container-id-1 input.sk-toggleable__control:checked~label.sk-toggleable__label-arrow:before {content: \"▾\";}#sk-container-id-1 div.sk-estimator input.sk-toggleable__control:checked~label.sk-toggleable__label {background-color: #d4ebff;}#sk-container-id-1 div.sk-label input.sk-toggleable__control:checked~label.sk-toggleable__label {background-color: #d4ebff;}#sk-container-id-1 input.sk-hidden--visually {border: 0;clip: rect(1px 1px 1px 1px);clip: rect(1px, 1px, 1px, 1px);height: 1px;margin: -1px;overflow: hidden;padding: 0;position: absolute;width: 1px;}#sk-container-id-1 div.sk-estimator {font-family: monospace;background-color: #f0f8ff;border: 1px dotted black;border-radius: 0.25em;box-sizing: border-box;margin-bottom: 0.5em;}#sk-container-id-1 div.sk-estimator:hover {background-color: #d4ebff;}#sk-container-id-1 div.sk-parallel-item::after {content: \"\";width: 100%;border-bottom: 1px solid gray;flex-grow: 1;}#sk-container-id-1 div.sk-label:hover label.sk-toggleable__label {background-color: #d4ebff;}#sk-container-id-1 div.sk-serial::before {content: \"\";position: absolute;border-left: 1px solid gray;box-sizing: border-box;top: 0;bottom: 0;left: 50%;z-index: 0;}#sk-container-id-1 div.sk-serial {display: flex;flex-direction: column;align-items: center;background-color: white;padding-right: 0.2em;padding-left: 0.2em;position: relative;}#sk-container-id-1 div.sk-item {position: relative;z-index: 1;}#sk-container-id-1 div.sk-parallel {display: flex;align-items: stretch;justify-content: center;background-color: white;position: relative;}#sk-container-id-1 div.sk-item::before, #sk-container-id-1 div.sk-parallel-item::before {content: \"\";position: absolute;border-left: 1px solid gray;box-sizing: border-box;top: 0;bottom: 0;left: 50%;z-index: -1;}#sk-container-id-1 div.sk-parallel-item {display: flex;flex-direction: column;z-index: 1;position: relative;background-color: white;}#sk-container-id-1 div.sk-parallel-item:first-child::after {align-self: flex-end;width: 50%;}#sk-container-id-1 div.sk-parallel-item:last-child::after {align-self: flex-start;width: 50%;}#sk-container-id-1 div.sk-parallel-item:only-child::after {width: 0;}#sk-container-id-1 div.sk-dashed-wrapped {border: 1px dashed gray;margin: 0 0.4em 0.5em 0.4em;box-sizing: border-box;padding-bottom: 0.4em;background-color: white;}#sk-container-id-1 div.sk-label label {font-family: monospace;font-weight: bold;display: inline-block;line-height: 1.2em;}#sk-container-id-1 div.sk-label-container {text-align: center;}#sk-container-id-1 div.sk-container {/* jupyter's `normalize.less` sets `[hidden] { display: none; }` but bootstrap.min.css set `[hidden] { display: none !important; }` so we also need the `!important` here to be able to override the default hidden behavior on the sphinx rendered scikit-learn.org. See: https://github.com/scikit-learn/scikit-learn/issues/21755 */display: inline-block !important;position: relative;}#sk-container-id-1 div.sk-text-repr-fallback {display: none;}</style><div id=\"sk-container-id-1\" class=\"sk-top-container\"><div class=\"sk-text-repr-fallback\"><pre>LinearRegression()</pre><b>In a Jupyter environment, please rerun this cell to show the HTML representation or trust the notebook. <br />On GitHub, the HTML representation is unable to render, please try loading this page with nbviewer.org.</b></div><div class=\"sk-container\" hidden><div class=\"sk-item\"><div class=\"sk-estimator sk-toggleable\"><input class=\"sk-toggleable__control sk-hidden--visually\" id=\"sk-estimator-id-1\" type=\"checkbox\" checked><label for=\"sk-estimator-id-1\" class=\"sk-toggleable__label sk-toggleable__label-arrow\">LinearRegression</label><div class=\"sk-toggleable__content\"><pre>LinearRegression()</pre></div></div></div></div></div>"
      ],
      "text/plain": [
       "LinearRegression()"
      ]
     },
     "execution_count": 150,
     "metadata": {},
     "output_type": "execute_result"
    }
   ],
   "source": [
    "lr.fit(X_train_scaled, Y_train)"
   ]
  },
  {
   "cell_type": "code",
   "execution_count": 151,
   "id": "2df7b9e8-fb41-48c4-80f0-f0aba671d670",
   "metadata": {
    "tags": []
   },
   "outputs": [],
   "source": [
    "y_pred= lr.predict(X_test_scaled)"
   ]
  },
  {
   "cell_type": "code",
   "execution_count": 152,
   "id": "b30fd66f-3119-4f45-8572-1c7d258af228",
   "metadata": {
    "tags": []
   },
   "outputs": [
    {
     "data": {
      "text/plain": [
       "array([ 988.15103986, 1564.18428777, 1216.05505651, ..., 1869.3744548 ,\n",
       "       1434.60430261, 1141.39697342])"
      ]
     },
     "execution_count": 152,
     "metadata": {},
     "output_type": "execute_result"
    }
   ],
   "source": [
    "y_pred"
   ]
  },
  {
   "cell_type": "code",
   "execution_count": 154,
   "id": "2cca8531-d61a-48d4-9aa0-6e9a2a019537",
   "metadata": {
    "tags": []
   },
   "outputs": [
    {
     "data": {
      "text/plain": [
       "0.7167911007655994"
      ]
     },
     "execution_count": 154,
     "metadata": {},
     "output_type": "execute_result"
    }
   ],
   "source": [
    "r2_score(Y_test, y_pred)"
   ]
  },
  {
   "cell_type": "code",
   "execution_count": 155,
   "id": "c5d3d8b0-caeb-4deb-8dfb-a9d59b27adc7",
   "metadata": {
    "tags": []
   },
   "outputs": [
    {
     "data": {
      "text/plain": [
       "238.3653344467801"
      ]
     },
     "execution_count": 155,
     "metadata": {},
     "output_type": "execute_result"
    }
   ],
   "source": [
    "mean_absolute_error(Y_test, y_pred)"
   ]
  },
  {
   "cell_type": "code",
   "execution_count": 156,
   "id": "4379ae11-0898-489e-91f8-cb6fcd80c4c0",
   "metadata": {
    "tags": []
   },
   "outputs": [
    {
     "data": {
      "text/plain": [
       "111492.81649725889"
      ]
     },
     "execution_count": 156,
     "metadata": {},
     "output_type": "execute_result"
    }
   ],
   "source": [
    "mean_squared_error(Y_test, y_pred)"
   ]
  },
  {
   "cell_type": "code",
   "execution_count": 157,
   "id": "d53104cf-65a2-401a-8f10-53caffc9566d",
   "metadata": {
    "tags": []
   },
   "outputs": [
    {
     "data": {
      "text/plain": [
       "333.90540052125374"
      ]
     },
     "execution_count": 157,
     "metadata": {},
     "output_type": "execute_result"
    }
   ],
   "source": [
    "np.sqrt(mean_squared_error(Y_test, y_pred))"
   ]
  },
  {
   "cell_type": "code",
   "execution_count": 158,
   "id": "c2e82cef-7f36-419d-91d1-69830206893b",
   "metadata": {
    "tags": []
   },
   "outputs": [],
   "source": [
    "x_pred= lr.predict(X_train_scaled)"
   ]
  },
  {
   "cell_type": "code",
   "execution_count": 159,
   "id": "fb8b7e50-60e0-4c7e-8bc7-3a45ccb0ac3e",
   "metadata": {
    "tags": []
   },
   "outputs": [
    {
     "data": {
      "text/plain": [
       "0.724736062083895"
      ]
     },
     "execution_count": 159,
     "metadata": {},
     "output_type": "execute_result"
    }
   ],
   "source": [
    "r2_score(Y_train, x_pred)"
   ]
  },
  {
   "cell_type": "code",
   "execution_count": 160,
   "id": "a19c0ee8-2958-4368-8614-c32a65d5341b",
   "metadata": {
    "tags": []
   },
   "outputs": [
    {
     "data": {
      "text/plain": [
       "array([-2.95223765e+01, -3.14965240e+01, -1.75579164e+01, -1.53845023e+01,\n",
       "       -1.04799885e+00,  5.60982625e+02, -6.32229538e-02,  6.86545915e+01,\n",
       "        1.11370397e+01, -1.16487677e+02, -1.87280177e+02,  1.16292342e+01,\n",
       "        3.92053714e+00, -5.70903523e+01])"
      ]
     },
     "execution_count": 160,
     "metadata": {},
     "output_type": "execute_result"
    }
   ],
   "source": [
    "lr.coef_"
   ]
  },
  {
   "cell_type": "raw",
   "id": "a849fda7-0e0b-4820-ae79-67c725895b63",
   "metadata": {},
   "source": [
    "b. Run another model at State level. There are 52 states in USA."
   ]
  },
  {
   "cell_type": "code",
   "execution_count": 162,
   "id": "12fbfde0-8410-4c14-88db-40ae626d6351",
   "metadata": {
    "tags": []
   },
   "outputs": [
    {
     "data": {
      "text/plain": [
       "array([36, 18, 72, 20,  1, 48, 45,  6,  5, 24, 17, 19, 47, 32, 22,  8, 44,\n",
       "       28, 34, 41,  4, 12, 55, 42, 37, 51, 26, 39, 40, 13, 16, 46, 27, 29,\n",
       "       53, 56,  9, 54, 21, 25, 11, 15, 30,  2, 33, 49, 50, 31, 38, 35, 23,\n",
       "       10])"
      ]
     },
     "execution_count": 162,
     "metadata": {},
     "output_type": "execute_result"
    }
   ],
   "source": [
    "train_set['STATEID'].unique()"
   ]
  },
  {
   "cell_type": "code",
   "execution_count": 163,
   "id": "0599ef71-9379-4ce5-861e-b155d7a2e08a",
   "metadata": {
    "tags": []
   },
   "outputs": [
    {
     "data": {
      "text/plain": [
       "array([ 53, 141,  63, 127, 161,  79, 337,  45,  81,  37,  73,  51,  25,\n",
       "       121,  99, 153,  19,  47, 209,   3,  97,  69,   7,  89,   1,   5,\n",
       "        13,  86,   9, 101, 183,  67,  35, 115,  29,  17,  77,  65,  93,\n",
       "        41, 109, 155,  59, 439, 133, 117, 215,  33,  71,  15,  11,  21,\n",
       "       291,  31,  95,  75,  91, 163, 491,  27, 129, 113,  55, 111,  49,\n",
       "        57, 105, 123, 241, 197, 290,  83, 157, 135,  20,  43,  39, 145,\n",
       "       245, 329, 201, 191, 143,  61, 361, 103, 171, 227, 137, 119, 449,\n",
       "       131,  85, 231, 221, 147, 740, 810, 189, 213, 670, 177, 257, 477,\n",
       "       317, 159, 169, 173, 151,  87, 165, 355, 107, 453, 590, 650, 125,\n",
       "       193,  23, 510, 267, 217, 710, 187, 175, 251, 167, 139, 347, 233,\n",
       "       179, 479, 321, 313, 149, 339, 427, 680, 277, 325, 770,  78, 459,\n",
       "       195, 820, 463, 700, 287, 600, 341, 150, 293, 375, 540, 185, 281,\n",
       "       199, 181, 170, 423, 255, 219, 373, 481, 305, 261, 405, 122, 265,\n",
       "        14, 282, 800, 349,  90, 401, 730, 247, 307, 379, 445, 387, 760,\n",
       "       110, 457,  28, 550, 451, 499, 295, 203, 467, 630, 309, 223, 465,\n",
       "       303, 381, 363, 235, 301, 207, 473, 485, 333, 455, 237, 367, 253,\n",
       "       353, 158, 229, 259, 441, 505, 263, 471, 683, 489, 409, 297, 397,\n",
       "       775, 205, 335, 299, 285, 225, 198, 239,   6, 415, 437, 425, 497,\n",
       "       507, 580, 130, 520, 220, 357, 475,  50, 391, 365, 311, 275, 417,\n",
       "       595, 735, 493, 369, 283,  12, 530, 750, 469, 249, 211, 186, 790,\n",
       "       431, 269, 399, 315, 279, 323, 495, 271, 421, 570, 411, 343, 403,\n",
       "       389, 371, 395, 610, 503, 461,  68, 620, 230, 351,  54, 840, 720,\n",
       "       487, 273, 429, 640, 393, 660, 331, 377, 164, 180])"
      ]
     },
     "execution_count": 163,
     "metadata": {},
     "output_type": "execute_result"
    }
   ],
   "source": [
    "train_set['COUNTYID'].unique()"
   ]
  },
  {
   "cell_type": "code",
   "execution_count": 167,
   "id": "7fe3a236-693e-496d-af98-a7887c8a5ad2",
   "metadata": {
    "tags": []
   },
   "outputs": [
    {
     "name": "stdout",
     "output_type": "stream",
     "text": [
      "State ID-: 11\n",
      "overall R2 square of linear regression model of State ID, 11 :- 0.7388829930600571\n",
      "overall RMSE  linear regression model of State ID, 11 :- 241.6495712033956\n",
      "\n",
      "\n",
      "State ID-: 1\n",
      "overall R2 square of linear regression model of State ID, 1 :- 0.812509034949427\n",
      "overall RMSE  linear regression model of State ID, 1 :- 306.1416027807241\n",
      "\n",
      "\n",
      "State ID-: 29\n",
      "overall R2 square of linear regression model of State ID, 29 :- 0.7137137163498126\n",
      "overall RMSE  linear regression model of State ID, 29 :- 266.9382517209922\n",
      "\n",
      "\n"
     ]
    }
   ],
   "source": [
    "for i in [11,1,29]:\n",
    "    print('State ID-:', i)\n",
    "    \n",
    "    X_train_nation= train_set[train_set['COUNTYID']==i][feature_cols]\n",
    "    Y_train_nation= train_set[train_set['COUNTYID']==i]['hc_mortgage_mean']\n",
    "    \n",
    "    X_test_nation= test_set[test_set['COUNTYID']==i][feature_cols]\n",
    "    Y_test_nation= test_set[test_set['COUNTYID']==i]['hc_mortgage_mean']\n",
    "    \n",
    "    X_train_scaled_nation= sc.fit_transform(X_train_nation)\n",
    "    X_test_scaled_nation=sc.fit_transform(X_test_nation)\n",
    "    \n",
    "    lr.fit(X_train_scaled_nation, Y_train_nation)\n",
    "    y_pred_nation=lr.predict(X_test_scaled_nation)\n",
    "    \n",
    "    print('overall R2 square of linear regression model of State ID,',i,':-', r2_score(Y_test_nation, y_pred_nation))\n",
    "    print('overall RMSE  linear regression model of State ID,',i,':-', np.sqrt(mean_squared_error(Y_test_nation, y_pred_nation)))\n",
    "    print('\\n')"
   ]
  },
  {
   "cell_type": "code",
   "execution_count": 170,
   "id": "4333e309-4e7a-4078-8645-63301067f52b",
   "metadata": {
    "tags": []
   },
   "outputs": [
    {
     "data": {
      "image/png": "[encoded data removed]",
      "text/plain": [
       "<Figure size 640x480 with 1 Axes>"
      ]
     },
     "metadata": {},
     "output_type": "display_data"
    }
   ],
   "source": [
    "sns.distplot(y_pred)\n",
    "plt.show()"
   ]
  },
  {
   "cell_type": "code",
   "execution_count": 1,
   "id": "3720a6a7-7687-4c7f-997f-64c30d2a4944",
   "metadata": {},
   "outputs": [
    {
     "name": "stdout",
     "output_type": "stream",
     "text": [
      "Requirement already satisfied: nbconvert in /Users/shaktipathak/anaconda3/lib/python3.11/site-packages (6.5.4)\n",
      "Requirement already satisfied: lxml in /Users/shaktipathak/anaconda3/lib/python3.11/site-packages (from nbconvert) (4.9.3)\n",
      "Requirement already satisfied: beautifulsoup4 in /Users/shaktipathak/anaconda3/lib/python3.11/site-packages (from nbconvert) (4.12.2)\n",
      "Requirement already satisfied: bleach in /Users/shaktipathak/anaconda3/lib/python3.11/site-packages (from nbconvert) (4.1.0)\n",
      "Requirement already satisfied: defusedxml in /Users/shaktipathak/anaconda3/lib/python3.11/site-packages (from nbconvert) (0.7.1)\n",
      "Requirement already satisfied: entrypoints>=0.2.2 in /Users/shaktipathak/anaconda3/lib/python3.11/site-packages (from nbconvert) (0.4)\n",
      "Requirement already satisfied: jinja2>=3.0 in /Users/shaktipathak/anaconda3/lib/python3.11/site-packages (from nbconvert) (3.1.2)\n",
      "Requirement already satisfied: jupyter-core>=4.7 in /Users/shaktipathak/anaconda3/lib/python3.11/site-packages (from nbconvert) (5.3.0)\n",
      "Requirement already satisfied: jupyterlab-pygments in /Users/shaktipathak/anaconda3/lib/python3.11/site-packages (from nbconvert) (0.1.2)\n",
      "Requirement already satisfied: MarkupSafe>=2.0 in /Users/shaktipathak/anaconda3/lib/python3.11/site-packages (from nbconvert) (2.1.1)\n",
      "Requirement already satisfied: mistune<2,>=0.8.1 in /Users/shaktipathak/anaconda3/lib/python3.11/site-packages (from nbconvert) (0.8.4)\n",
      "Requirement already satisfied: nbclient>=0.5.0 in /Users/shaktipathak/anaconda3/lib/python3.11/site-packages (from nbconvert) (0.5.13)\n",
      "Requirement already satisfied: nbformat>=5.1 in /Users/shaktipathak/anaconda3/lib/python3.11/site-packages (from nbconvert) (5.9.2)\n",
      "Requirement already satisfied: packaging in /Users/shaktipathak/anaconda3/lib/python3.11/site-packages (from nbconvert) (23.1)\n",
      "Requirement already satisfied: pandocfilters>=1.4.1 in /Users/shaktipathak/anaconda3/lib/python3.11/site-packages (from nbconvert) (1.5.0)\n",
      "Requirement already satisfied: pygments>=2.4.1 in /Users/shaktipathak/anaconda3/lib/python3.11/site-packages (from nbconvert) (2.15.1)\n",
      "Requirement already satisfied: tinycss2 in /Users/shaktipathak/anaconda3/lib/python3.11/site-packages (from nbconvert) (1.2.1)\n",
      "Requirement already satisfied: traitlets>=5.0 in /Users/shaktipathak/anaconda3/lib/python3.11/site-packages (from nbconvert) (5.7.1)\n",
      "Requirement already satisfied: platformdirs>=2.5 in /Users/shaktipathak/anaconda3/lib/python3.11/site-packages (from jupyter-core>=4.7->nbconvert) (3.10.0)\n",
      "Requirement already satisfied: jupyter-client>=6.1.5 in /Users/shaktipathak/anaconda3/lib/python3.11/site-packages (from nbclient>=0.5.0->nbconvert) (7.4.9)\n",
      "Requirement already satisfied: nest-asyncio in /Users/shaktipathak/anaconda3/lib/python3.11/site-packages (from nbclient>=0.5.0->nbconvert) (1.5.6)\n",
      "Requirement already satisfied: fastjsonschema in /Users/shaktipathak/anaconda3/lib/python3.11/site-packages (from nbformat>=5.1->nbconvert) (2.16.2)\n",
      "Requirement already satisfied: jsonschema>=2.6 in /Users/shaktipathak/anaconda3/lib/python3.11/site-packages (from nbformat>=5.1->nbconvert) (4.17.3)\n",
      "Requirement already satisfied: soupsieve>1.2 in /Users/shaktipathak/anaconda3/lib/python3.11/site-packages (from beautifulsoup4->nbconvert) (2.4)\n",
      "Requirement already satisfied: six>=1.9.0 in /Users/shaktipathak/anaconda3/lib/python3.11/site-packages (from bleach->nbconvert) (1.16.0)\n",
      "Requirement already satisfied: webencodings in /Users/shaktipathak/anaconda3/lib/python3.11/site-packages (from bleach->nbconvert) (0.5.1)\n",
      "Requirement already satisfied: attrs>=17.4.0 in /Users/shaktipathak/anaconda3/lib/python3.11/site-packages (from jsonschema>=2.6->nbformat>=5.1->nbconvert) (22.1.0)\n",
      "Requirement already satisfied: pyrsistent!=0.17.0,!=0.17.1,!=0.17.2,>=0.14.0 in /Users/shaktipathak/anaconda3/lib/python3.11/site-packages (from jsonschema>=2.6->nbformat>=5.1->nbconvert) (0.18.0)\n",
      "Requirement already satisfied: python-dateutil>=2.8.2 in /Users/shaktipathak/anaconda3/lib/python3.11/site-packages (from jupyter-client>=6.1.5->nbclient>=0.5.0->nbconvert) (2.8.2)\n",
      "Requirement already satisfied: pyzmq>=23.0 in /Users/shaktipathak/anaconda3/lib/python3.11/site-packages (from jupyter-client>=6.1.5->nbclient>=0.5.0->nbconvert) (23.2.0)\n",
      "Requirement already satisfied: tornado>=6.2 in /Users/shaktipathak/anaconda3/lib/python3.11/site-packages (from jupyter-client>=6.1.5->nbclient>=0.5.0->nbconvert) (6.3.2)\n"
     ]
    }
   ],
   "source": [
    "!pip install nbconvert"
   ]
  },
  {
   "cell_type": "code",
   "execution_count": null,
   "id": "2b306d84",
   "metadata": {},
   "outputs": [],
   "source": []
  }
 ],
 "metadata": {
  "kernelspec": {
   "display_name": "Python 3 (ipykernel)",
   "language": "python",
   "name": "python3"
  },
  "language_info": {
   "codemirror_mode": {
    "name": "ipython",
    "version": 3
   },
   "file_extension": ".py",
   "mimetype": "text/x-python",
   "name": "python",
   "nbconvert_exporter": "python",
   "pygments_lexer": "ipython3",
   "version": "3.11.5"
  }
 },
 "nbformat": 4,
 "nbformat_minor": 5
}
